{
 "cells": [
  {
   "cell_type": "code",
   "execution_count": 15,
   "id": "c7c3220c",
   "metadata": {},
   "outputs": [],
   "source": [
    "import pandas as pd\n",
    "import numpy as np\n",
    "\n"
   ]
  },
  {
   "cell_type": "code",
   "execution_count": 16,
   "id": "28d00361",
   "metadata": {},
   "outputs": [
    {
     "data": {
      "text/html": [
       "<div>\n",
       "<style scoped>\n",
       "    .dataframe tbody tr th:only-of-type {\n",
       "        vertical-align: middle;\n",
       "    }\n",
       "\n",
       "    .dataframe tbody tr th {\n",
       "        vertical-align: top;\n",
       "    }\n",
       "\n",
       "    .dataframe thead th {\n",
       "        text-align: right;\n",
       "    }\n",
       "</style>\n",
       "<table border=\"1\" class=\"dataframe\">\n",
       "  <thead>\n",
       "    <tr style=\"text-align: right;\">\n",
       "      <th></th>\n",
       "      <th>Match Played</th>\n",
       "      <th>Teams</th>\n",
       "      <th>Group</th>\n",
       "      <th>Map</th>\n",
       "      <th>Groups Playing</th>\n",
       "      <th>Week</th>\n",
       "      <th>Day</th>\n",
       "      <th>Match No</th>\n",
       "      <th>Team Match No</th>\n",
       "      <th>Chicken Dinner</th>\n",
       "      <th>Placement</th>\n",
       "      <th>Kills</th>\n",
       "      <th>Total</th>\n",
       "    </tr>\n",
       "  </thead>\n",
       "  <tbody>\n",
       "    <tr>\n",
       "      <th>0</th>\n",
       "      <td>1</td>\n",
       "      <td>Celtz</td>\n",
       "      <td>A</td>\n",
       "      <td>Erangel</td>\n",
       "      <td>A B C D</td>\n",
       "      <td>1</td>\n",
       "      <td>1</td>\n",
       "      <td>1</td>\n",
       "      <td>1</td>\n",
       "      <td>0</td>\n",
       "      <td>1</td>\n",
       "      <td>2</td>\n",
       "      <td>3</td>\n",
       "    </tr>\n",
       "    <tr>\n",
       "      <th>1</th>\n",
       "      <td>1</td>\n",
       "      <td>Crwl</td>\n",
       "      <td>B</td>\n",
       "      <td>Erangel</td>\n",
       "      <td>A B C D</td>\n",
       "      <td>1</td>\n",
       "      <td>1</td>\n",
       "      <td>1</td>\n",
       "      <td>1</td>\n",
       "      <td>0</td>\n",
       "      <td>8</td>\n",
       "      <td>3</td>\n",
       "      <td>11</td>\n",
       "    </tr>\n",
       "    <tr>\n",
       "      <th>2</th>\n",
       "      <td>1</td>\n",
       "      <td>Deadeyes</td>\n",
       "      <td>D</td>\n",
       "      <td>Erangel</td>\n",
       "      <td>A B C D</td>\n",
       "      <td>1</td>\n",
       "      <td>1</td>\n",
       "      <td>1</td>\n",
       "      <td>1</td>\n",
       "      <td>0</td>\n",
       "      <td>1</td>\n",
       "      <td>0</td>\n",
       "      <td>1</td>\n",
       "    </tr>\n",
       "    <tr>\n",
       "      <th>3</th>\n",
       "      <td>0</td>\n",
       "      <td>EX</td>\n",
       "      <td>E</td>\n",
       "      <td>Erangel</td>\n",
       "      <td>A B C D</td>\n",
       "      <td>1</td>\n",
       "      <td>1</td>\n",
       "      <td>1</td>\n",
       "      <td>0</td>\n",
       "      <td>0</td>\n",
       "      <td>0</td>\n",
       "      <td>0</td>\n",
       "      <td>0</td>\n",
       "    </tr>\n",
       "    <tr>\n",
       "      <th>4</th>\n",
       "      <td>1</td>\n",
       "      <td>Fnatic</td>\n",
       "      <td>D</td>\n",
       "      <td>Erangel</td>\n",
       "      <td>A B C D</td>\n",
       "      <td>1</td>\n",
       "      <td>1</td>\n",
       "      <td>1</td>\n",
       "      <td>1</td>\n",
       "      <td>0</td>\n",
       "      <td>2</td>\n",
       "      <td>5</td>\n",
       "      <td>7</td>\n",
       "    </tr>\n",
       "  </tbody>\n",
       "</table>\n",
       "</div>"
      ],
      "text/plain": [
       "   Match Played      Teams Group      Map Groups Playing  Week  Day  Match No  \\\n",
       "0             1      Celtz     A  Erangel        A B C D     1    1         1   \n",
       "1             1       Crwl     B  Erangel        A B C D     1    1         1   \n",
       "2             1   Deadeyes     D  Erangel        A B C D     1    1         1   \n",
       "3             0         EX     E  Erangel        A B C D     1    1         1   \n",
       "4             1     Fnatic     D  Erangel        A B C D     1    1         1   \n",
       "\n",
       "   Team Match No  Chicken Dinner  Placement  Kills  Total  \n",
       "0              1               0          1      2      3  \n",
       "1              1               0          8      3     11  \n",
       "2              1               0          1      0      1  \n",
       "3              0               0          0      0      0  \n",
       "4              1               0          2      5      7  "
      ]
     },
     "execution_count": 16,
     "metadata": {},
     "output_type": "execute_result"
    }
   ],
   "source": [
    "data=pd.read_csv(r\"C:\\Users\\HP\\Downloads\\archive\\PMPL South Asia.csv\")\n",
    "data.head(5)"
   ]
  },
  {
   "cell_type": "code",
   "execution_count": 17,
   "id": "676f18f5",
   "metadata": {},
   "outputs": [
    {
     "name": "stdout",
     "output_type": "stream",
     "text": [
      "<class 'pandas.core.frame.DataFrame'>\n",
      "RangeIndex: 1200 entries, 0 to 1199\n",
      "Data columns (total 13 columns):\n",
      " #   Column          Non-Null Count  Dtype \n",
      "---  ------          --------------  ----- \n",
      " 0   Match Played    1200 non-null   int64 \n",
      " 1   Teams           1200 non-null   object\n",
      " 2   Group           1200 non-null   object\n",
      " 3   Map             1200 non-null   object\n",
      " 4   Groups Playing  1200 non-null   object\n",
      " 5   Week            1200 non-null   int64 \n",
      " 6   Day             1200 non-null   int64 \n",
      " 7   Match No        1200 non-null   int64 \n",
      " 8   Team Match No   1200 non-null   int64 \n",
      " 9   Chicken Dinner  1200 non-null   int64 \n",
      " 10  Placement       1200 non-null   int64 \n",
      " 11  Kills           1200 non-null   int64 \n",
      " 12  Total           1200 non-null   int64 \n",
      "dtypes: int64(9), object(4)\n",
      "memory usage: 122.0+ KB\n"
     ]
    }
   ],
   "source": [
    "data.info()"
   ]
  },
  {
   "cell_type": "code",
   "execution_count": 18,
   "id": "0df35373",
   "metadata": {},
   "outputs": [
    {
     "data": {
      "text/plain": [
       "Match Played      0\n",
       "Teams             0\n",
       "Group             0\n",
       "Map               0\n",
       "Groups Playing    0\n",
       "Week              0\n",
       "Day               0\n",
       "Match No          0\n",
       "Team Match No     0\n",
       "Chicken Dinner    0\n",
       "Placement         0\n",
       "Kills             0\n",
       "Total             0\n",
       "dtype: int64"
      ]
     },
     "execution_count": 18,
     "metadata": {},
     "output_type": "execute_result"
    }
   ],
   "source": [
    "data.isna().sum()"
   ]
  },
  {
   "cell_type": "code",
   "execution_count": 19,
   "id": "dc35d7eb",
   "metadata": {},
   "outputs": [
    {
     "data": {
      "text/plain": [
       "20"
      ]
     },
     "execution_count": 19,
     "metadata": {},
     "output_type": "execute_result"
    }
   ],
   "source": [
    "#1 What is the total number of teams in the tournament?\n",
    "\n",
    "data['Teams'].nunique()"
   ]
  },
  {
   "cell_type": "code",
   "execution_count": 20,
   "id": "77728ca6",
   "metadata": {},
   "outputs": [
    {
     "data": {
      "text/plain": [
       "60"
      ]
     },
     "execution_count": 20,
     "metadata": {},
     "output_type": "execute_result"
    }
   ],
   "source": [
    "#2 How many matches were played in total?\n",
    "data['Match No'].nunique()"
   ]
  },
  {
   "cell_type": "code",
   "execution_count": 21,
   "id": "336986e1",
   "metadata": {},
   "outputs": [
    {
     "data": {
      "text/plain": [
       "Teams\n",
       " TSM Entity    276\n",
       " SGE           266\n",
       " OR            241\n",
       " GodLike       223\n",
       " MegaStars     187\n",
       "Name: Kills, dtype: int64"
      ]
     },
     "execution_count": 21,
     "metadata": {},
     "output_type": "execute_result"
    }
   ],
   "source": [
    "#3 List the top 5 teams by total kills.\n",
    "\n",
    "data.groupby('Teams')['Kills'].sum().sort_values(ascending=False).head(5)"
   ]
  },
  {
   "cell_type": "code",
   "execution_count": 22,
   "id": "99a4665a",
   "metadata": {},
   "outputs": [
    {
     "data": {
      "text/plain": [
       "Match No\n",
       "1     2.45\n",
       "2     2.80\n",
       "3     2.95\n",
       "4     2.70\n",
       "5     2.95\n",
       "6     2.65\n",
       "7     2.55\n",
       "8     2.80\n",
       "9     2.75\n",
       "10    2.75\n",
       "11    2.75\n",
       "12    2.60\n",
       "13    2.85\n",
       "14    2.75\n",
       "15    2.80\n",
       "16    2.80\n",
       "17    2.95\n",
       "18    2.70\n",
       "19    2.90\n",
       "20    2.80\n",
       "21    2.80\n",
       "22    2.65\n",
       "23    2.85\n",
       "24    2.80\n",
       "25    2.65\n",
       "26    2.65\n",
       "27    3.05\n",
       "28    2.85\n",
       "29    2.80\n",
       "30    2.90\n",
       "31    2.95\n",
       "32    2.75\n",
       "33    2.90\n",
       "34    3.00\n",
       "35    2.55\n",
       "36    2.85\n",
       "37    3.00\n",
       "38    2.80\n",
       "39    2.85\n",
       "40    3.00\n",
       "41    2.85\n",
       "42    2.70\n",
       "43    2.70\n",
       "44    2.80\n",
       "45    2.75\n",
       "46    2.70\n",
       "47    2.75\n",
       "48    3.00\n",
       "49    2.60\n",
       "50    2.75\n",
       "51    2.90\n",
       "52    2.70\n",
       "53    2.80\n",
       "54    2.85\n",
       "55    2.80\n",
       "56    2.90\n",
       "57    2.65\n",
       "58    2.55\n",
       "59    2.75\n",
       "60    2.85\n",
       "Name: Kills, dtype: float64"
      ]
     },
     "execution_count": 22,
     "metadata": {},
     "output_type": "execute_result"
    }
   ],
   "source": [
    "#4 What is the average number of kills per match?\n",
    "data.groupby('Match No')['Kills'].mean()"
   ]
  },
  {
   "cell_type": "code",
   "execution_count": 23,
   "id": "5bec399e",
   "metadata": {},
   "outputs": [
    {
     "name": "stdout",
     "output_type": "stream",
     "text": [
      "Average number of kills per match: 55.75\n"
     ]
    }
   ],
   "source": [
    "average_kills_per_match = data['Kills'].sum() / data['Match No'].nunique()\n",
    "print(\"Average number of kills per match:\", average_kills_per_match)\n"
   ]
  },
  {
   "cell_type": "code",
   "execution_count": 24,
   "id": "3f1d1994",
   "metadata": {},
   "outputs": [
    {
     "data": {
      "text/plain": [
       "Teams\n",
       " TSM Entity    19\n",
       "Name: Kills, dtype: int64"
      ]
     },
     "execution_count": 24,
     "metadata": {},
     "output_type": "execute_result"
    }
   ],
   "source": [
    "#5 Which team had the most kills in a single match?\n",
    "data.groupby('Teams')['Kills'].max().sort_values(ascending=False).head(1)"
   ]
  },
  {
   "cell_type": "code",
   "execution_count": 25,
   "id": "ef439ec0",
   "metadata": {},
   "outputs": [
    {
     "name": "stdout",
     "output_type": "stream",
     "text": [
      "Average rank achieved by each team:\n",
      "Teams\n",
      " Deadeyes      2.233333\n",
      " Hype          2.983333\n",
      " Tamilas       3.200000\n",
      " Instinct      3.283333\n",
      " JyanMaara     3.400000\n",
      " Xtreme        3.450000\n",
      " Celtz         3.483333\n",
      " Umumba Rxn    3.800000\n",
      " EX            3.833333\n",
      " IND           4.000000\n",
      " SouL          4.166667\n",
      " Fnatic        4.366667\n",
      " Crwl          4.383333\n",
      " Marcos        4.433333\n",
      " PowerH        4.500000\n",
      " MegaStars     5.100000\n",
      " SGE           5.333333\n",
      " TSM Entity    5.916667\n",
      " GodLike       6.200000\n",
      " OR            6.933333\n",
      "Name: Placement, dtype: float64\n"
     ]
    }
   ],
   "source": [
    "#6 What is the average rank achieved by each team?\n",
    "\n",
    "average_rank_per_team = data.groupby('Teams')['Placement'].mean().sort_values()\n",
    "print(\"Average rank achieved by each team:\")\n",
    "print(average_rank_per_team)\n"
   ]
  },
  {
   "cell_type": "code",
   "execution_count": 26,
   "id": "1f338a81",
   "metadata": {},
   "outputs": [
    {
     "data": {
      "text/plain": [
       "Teams\n",
       " Deadeyes    95\n",
       "Name: Kills, dtype: int64"
      ]
     },
     "execution_count": 26,
     "metadata": {},
     "output_type": "execute_result"
    }
   ],
   "source": [
    "#7 Identify the team with the least number of kills.\n",
    "data.groupby('Teams')['Kills'].sum().sort_values().head(1)"
   ]
  },
  {
   "cell_type": "code",
   "execution_count": 27,
   "id": "e6ef772a",
   "metadata": {},
   "outputs": [
    {
     "name": "stdout",
     "output_type": "stream",
     "text": [
      "Number of teams that scored more than 100 points: 20\n"
     ]
    }
   ],
   "source": [
    "#8 How many teams scored more than 100 points in the tournament?\n",
    "\n",
    "total_points = data.groupby('Teams')['Total'].sum().reset_index()\n",
    "\n",
    "above_100 = total_points[total_points['Total'] > 100]\n",
    "\n",
    "result = above_100.shape[0]\n",
    "\n",
    "print(\"Number of teams that scored more than 100 points: {}\".format(result))\n"
   ]
  },
  {
   "cell_type": "code",
   "execution_count": 46,
   "id": "ac7022ea",
   "metadata": {},
   "outputs": [
    {
     "name": "stdout",
     "output_type": "stream",
     "text": [
      "Maximum damage dealt by a single player in a match: 39\n",
      "Player:  TSM Entity, Match No: 1\n"
     ]
    }
   ],
   "source": [
    "#9 What is the maximum damage dealt by a single player in a match?\n",
    "\n",
    "damage = data.groupby(['Teams', 'Match No'])['Total'].sum().reset_index()\n",
    "\n",
    "\n",
    "max_damage = damage['Total'].max()\n",
    "\n",
    "\n",
    "max_damage_player = damage.loc[damage['Total'].idxmax()]\n",
    "\n",
    "\n",
    "print(\"Maximum damage dealt by a single player in a match: {}\".format(max_damage))\n",
    "\n",
    "print(\"Player: {}, Match No: {}\".format(max_damage_player['Teams'],max_damage_player['Match No']))\n",
    "\n"
   ]
  },
  {
   "cell_type": "code",
   "execution_count": null,
   "id": "b433b23d",
   "metadata": {},
   "outputs": [],
   "source": []
  },
  {
   "cell_type": "code",
   "execution_count": 29,
   "id": "400417f5",
   "metadata": {},
   "outputs": [
    {
     "data": {
      "text/plain": [
       "Teams\n",
       " OR            657\n",
       " TSM Entity    631\n",
       " GodLike       595\n",
       "Name: Total, dtype: int64"
      ]
     },
     "execution_count": 29,
     "metadata": {},
     "output_type": "execute_result"
    }
   ],
   "source": [
    "#10 Calculate the total points earned by the top 3 teams.\n",
    "data.groupby('Teams')['Total'].sum().sort_values(ascending=False).head(3)"
   ]
  },
  {
   "cell_type": "code",
   "execution_count": 30,
   "id": "b1cb7877",
   "metadata": {},
   "outputs": [
    {
     "data": {
      "text/plain": [
       "Teams\n",
       " OR    10.95\n",
       "Name: Total, dtype: float64"
      ]
     },
     "execution_count": 30,
     "metadata": {},
     "output_type": "execute_result"
    }
   ],
   "source": [
    "#11 Which team had the highest average damage across all matches?\n",
    "\n",
    "data.groupby('Teams')['Total'].mean().sort_values(ascending=False).head(1)\n",
    "\n"
   ]
  },
  {
   "cell_type": "code",
   "execution_count": 31,
   "id": "26296484",
   "metadata": {},
   "outputs": [
    {
     "data": {
      "text/plain": [
       "Teams\n",
       " Celtz         3.011278\n",
       " Crwl          3.050377\n",
       " Deadeyes      2.492645\n",
       " EX            2.642332\n",
       " Fnatic        3.264040\n",
       " GodLike       4.278807\n",
       " Hype          2.640621\n",
       " IND           3.060778\n",
       " Instinct      2.475644\n",
       " JyanMaara     2.324276\n",
       " Marcos        3.131533\n",
       " MegaStars     3.200062\n",
       " OR            3.698335\n",
       " PowerH        3.105308\n",
       " SGE           4.260050\n",
       " SouL          3.768139\n",
       " TSM Entity    4.759291\n",
       " Tamilas       2.650871\n",
       " Umumba Rxn    2.916735\n",
       " Xtreme        2.373345\n",
       "Name: Kills, dtype: float64"
      ]
     },
     "execution_count": 31,
     "metadata": {},
     "output_type": "execute_result"
    }
   ],
   "source": [
    "#12 Calculate the standard deviation of kills for each team.\n",
    "\n",
    "data.groupby('Teams')['Kills'].std()\n"
   ]
  },
  {
   "cell_type": "code",
   "execution_count": 32,
   "id": "85a3e95a",
   "metadata": {},
   "outputs": [
    {
     "name": "stdout",
     "output_type": "stream",
     "text": [
      "Correlation:  0.9586063949336284\n"
     ]
    }
   ],
   "source": [
    "#13 What is the correlation between total damage and total kills for each team?\n",
    "\n",
    "team_stats = data.groupby('Teams').agg({'Total': 'sum', 'Kills': 'sum'})\n",
    "\n",
    "\n",
    "correlation = team_stats['Total'].corr(team_stats['Kills'])\n",
    "\n",
    "print(\"Correlation: \", correlation)\n"
   ]
  },
  {
   "cell_type": "code",
   "execution_count": 33,
   "id": "4acb60a8",
   "metadata": {},
   "outputs": [
    {
     "name": "stdout",
     "output_type": "stream",
     "text": [
      "Team with the most consistent performance: Deadeyes (Variance: 10.927683615819213)\n"
     ]
    }
   ],
   "source": [
    "#14 Identify the team with the most consistent performance (least variance in ranking across matches).\n",
    "\n",
    "most_consistent_team = data.groupby('Teams')['Placement'].var().idxmin()\n",
    "\n",
    "least_variance = data.groupby('Teams')['Placement'].var().min()\n",
    "\n",
    "print(\"Team with the most consistent performance:{} (Variance: {})\".format(most_consistent_team,least_variance))"
   ]
  },
  {
   "cell_type": "code",
   "execution_count": 34,
   "id": "88329aad",
   "metadata": {},
   "outputs": [
    {
     "data": {
      "text/plain": [
       "' OR'"
      ]
     },
     "execution_count": 34,
     "metadata": {},
     "output_type": "execute_result"
    }
   ],
   "source": [
    "#15 Which team had the highest number of first-place finishes?\n",
    "\n",
    "\n",
    "data.groupby('Teams')['Chicken Dinner'].sum().idxmax()\n",
    "\n"
   ]
  },
  {
   "cell_type": "code",
   "execution_count": null,
   "id": "d52730f2",
   "metadata": {},
   "outputs": [],
   "source": []
  },
  {
   "cell_type": "code",
   "execution_count": 19,
   "id": "9feb868d",
   "metadata": {},
   "outputs": [
    {
     "name": "stdout",
     "output_type": "stream",
     "text": [
      "The player with the highest total kills is  TSM Entity with 276 kills.\n"
     ]
    }
   ],
   "source": [
    "#16 Identify the player with the highest total kills across all matches.\n",
    "\n",
    "total_kills_per_player = data.groupby('Teams')['Kills'].sum()\n",
    "\n",
    "top_player = total_kills_per_player.idxmax()\n",
    "\n",
    "max_kills = total_kills_per_player.max()\n",
    "\n",
    "\n",
    "print(\"The player with the highest total kills is {} with {} kills.\".format(top_player, max_kills))\n"
   ]
  },
  {
   "cell_type": "code",
   "execution_count": 20,
   "id": "1a90332a",
   "metadata": {},
   "outputs": [
    {
     "name": "stdout",
     "output_type": "stream",
     "text": [
      "Player with the highest headshot percentage:  Umumba Rxn\n",
      "Headshot Percentage: 46.09%\n"
     ]
    }
   ],
   "source": [
    "#17 Which player had the highest headshot percentage?\n",
    "\n",
    "data['Headshot Percentage'] = (data['Kills'] / data['Total']) * 100\n",
    "\n",
    "player = data.groupby('Teams')['Headshot Percentage'].mean().reset_index()\n",
    "\n",
    "highest_player = player.loc[player['Headshot Percentage'].idxmax()]\n",
    "\n",
    "print(\"Player with the highest headshot percentage: {}\".format(highest_player['Teams']))\n",
    "\n",
    "print(f\"Headshot Percentage: {highest_player['Headshot Percentage']:.2f}%\")\n"
   ]
  },
  {
   "cell_type": "code",
   "execution_count": 21,
   "id": "340f89fe",
   "metadata": {},
   "outputs": [],
   "source": [
    "#18 What is the relationship between a team's average survival time and their final rank?"
   ]
  },
  {
   "cell_type": "code",
   "execution_count": 22,
   "id": "08fb198e",
   "metadata": {},
   "outputs": [
    {
     "name": "stdout",
     "output_type": "stream",
     "text": [
      "Teams\n",
      " Celtz          1.666667\n",
      " Crwl           3.333333\n",
      " Deadeyes       0.000000\n",
      " EX             1.666667\n",
      " Fnatic         5.000000\n",
      " GodLike       15.000000\n",
      " Hype           1.666667\n",
      " IND            3.333333\n",
      " Instinct       1.666667\n",
      " JyanMaara      1.666667\n",
      " Marcos         3.333333\n",
      " MegaStars      5.000000\n",
      " OR            16.666667\n",
      " PowerH         5.000000\n",
      " SGE            8.333333\n",
      " SouL           6.666667\n",
      " TSM Entity    13.333333\n",
      " Tamilas        1.666667\n",
      " Umumba Rxn     3.333333\n",
      " Xtreme         1.666667\n",
      "dtype: float64\n"
     ]
    }
   ],
   "source": [
    "#19 Calculate the win rate for each team (number of wins divided by matches played).\n",
    "\n",
    "matches_played = data.groupby('Teams').size()\n",
    "\n",
    "\n",
    "wins = data.groupby('Teams')['Chicken Dinner'].sum()\n",
    "\n",
    "win_rate = (wins / matches_played) * 100\n",
    "\n",
    "\n",
    "print(win_rate)\n"
   ]
  },
  {
   "cell_type": "code",
   "execution_count": 23,
   "id": "d99e0806",
   "metadata": {},
   "outputs": [
    {
     "name": "stdout",
     "output_type": "stream",
     "text": [
      "Teams\n",
      " TSM Entity    4.600000\n",
      " SGE           4.433333\n",
      " OR            4.016667\n",
      " GodLike       3.716667\n",
      " MegaStars     3.116667\n",
      "dtype: float64\n"
     ]
    }
   ],
   "source": [
    "#20 Find the top 5 teams in terms of kills per match.\n",
    "\n",
    "total_kills = data.groupby('Teams')['Kills'].sum()\n",
    "\n",
    "matches_played = data.groupby('Teams').size()\n",
    "\n",
    "kills_per_match = total_kills / matches_played\n",
    "\n",
    "\n",
    "top_5_teams = kills_per_match.sort_values(ascending=False).head(5)\n",
    "\n",
    "print(top_5_teams)\n"
   ]
  },
  {
   "cell_type": "code",
   "execution_count": 24,
   "id": "bdc00619",
   "metadata": {},
   "outputs": [
    {
     "name": "stdout",
     "output_type": "stream",
     "text": [
      "Average damage dealt by the top 5 teams: 4.886666666666668\n",
      "Average damage dealt by the bottom 5 teams: 9.873333333333331\n"
     ]
    }
   ],
   "source": [
    "#21 compare the average damage dealt by the top 5 teams versus the bottom 5 teams.\n",
    "\n",
    "team_rankings = data.groupby('Teams')['Total'].mean().reset_index()\n",
    "\n",
    "top_5_teams = team_rankings.sort_values(by='Total').head(5)\n",
    "\n",
    "bottom_5_teams = team_rankings.sort_values(by='Total').tail(5)\n",
    "\n",
    "avg_top_5 = top_5_teams['Total'].mean()\n",
    "\n",
    "avg_bottom_5 = bottom_5_teams['Total'].mean()\n",
    "\n",
    "\n",
    "print(\"Average damage dealt by the top 5 teams: {}\".format(avg_top_5))\n",
    "\n",
    "print(\"Average damage dealt by the bottom 5 teams: {}\".format(avg_bottom_5))\n",
    "\n"
   ]
  },
  {
   "cell_type": "code",
   "execution_count": 25,
   "id": "aebab73a",
   "metadata": {},
   "outputs": [
    {
     "name": "stdout",
     "output_type": "stream",
     "text": [
      "Median rank of the top 10 teams by total points: Total    34.5\n",
      "dtype: float64\n"
     ]
    },
    {
     "name": "stderr",
     "output_type": "stream",
     "text": [
      "C:\\Users\\HP\\AppData\\Local\\Temp/ipykernel_7372/917526754.py:5: FutureWarning: Dropping of nuisance columns in DataFrame reductions (with 'numeric_only=None') is deprecated; in a future version this will raise TypeError.  Select only valid columns before calling the reduction.\n",
      "  median_rank = top_10_teams.median()\n"
     ]
    }
   ],
   "source": [
    "#22 What is the median rank of teams that placed in the top 10 at least 3 times?\n",
    "\n",
    "top_10_teams = data.sort_values(by='Total', ascending=False).head(10)[['Teams', 'Total']]\n",
    "\n",
    "median_rank = top_10_teams.median()\n",
    "\n",
    "print(\"Median rank of the top 10 teams by total points: {}\".format(median_rank))\n",
    "\n"
   ]
  },
  {
   "cell_type": "code",
   "execution_count": 28,
   "id": "db086c00",
   "metadata": {},
   "outputs": [],
   "source": [
    "#23 Create a scatter plot of total kills vs total points earned by each team.\n",
    "\n",
    "\n",
    "total_kills = data.groupby('Teams')['Kills'].sum()\n",
    "\n",
    "\n",
    "total_points = data.groupby('Teams')['Total'].sum()\n",
    "\n",
    "\n",
    "team_stats = pd.DataFrame({'Total Kills': total_kills, 'Total Points': total_points}).reset_index()\n"
   ]
  },
  {
   "cell_type": "code",
   "execution_count": 29,
   "id": "29aacd13",
   "metadata": {},
   "outputs": [
    {
     "data": {
      "image/png": "[encoded data removed]",
      "text/plain": [
       "<Figure size 504x360 with 1 Axes>"
      ]
     },
     "metadata": {
      "needs_background": "light"
     },
     "output_type": "display_data"
    }
   ],
   "source": [
    "import matplotlib.pyplot as plt\n",
    "\n",
    "plt.figure(figsize=(7, 5))\n",
    "plt.scatter(team_stats['Total Kills'], team_stats['Total Points'], color='blue', alpha=0.6)\n",
    "\n",
    "\n",
    "plt.title('Total Kills vs Total Points Earned by Each Team')\n",
    "plt.xlabel('Total Kills')\n",
    "plt.ylabel('Total Points')\n",
    "plt.grid(True)\n",
    "\n",
    "\n",
    "plt.show()\n"
   ]
  },
  {
   "cell_type": "code",
   "execution_count": 31,
   "id": "1c822407",
   "metadata": {},
   "outputs": [
    {
     "name": "stdout",
     "output_type": "stream",
     "text": [
      "Outliers in Team Performance (Total Points):\n",
      "   Teams  Total\n",
      "12    OR    657\n"
     ]
    }
   ],
   "source": [
    "#24 Identify outliers in team performance using the interquartile range (IQR) for total points.\n",
    "\n",
    "total_points = data.groupby('Teams')['Total'].sum().reset_index()\n",
    "\n",
    "Q1 = total_points['Total'].quantile(0.25)\n",
    "Q3 = total_points['Total'].quantile(0.75)\n",
    "\n",
    "\n",
    "IQR = Q3 - Q1\n",
    "\n",
    "\n",
    "lower_bound = Q1 - 1.5 * IQR\n",
    "upper_bound = Q3 + 1.5 * IQR\n",
    "\n",
    "\n",
    "outliers = total_points[(total_points['Total'] < lower_bound) | (total_points['Total'] > upper_bound)]\n",
    "\n",
    "print(\"Outliers in Team Performance (Total Points):\")\n",
    "print(outliers)\n",
    "\n"
   ]
  },
  {
   "cell_type": "code",
   "execution_count": 33,
   "id": "7aaca3c4",
   "metadata": {},
   "outputs": [
    {
     "name": "stdout",
     "output_type": "stream",
     "text": [
      "Match No: 27.0\n",
      "Highest Average Kills: 3.05\n",
      "\n",
      "Teams and their kills:\n",
      "           Teams  Kills\n",
      "520        Celtz      4\n",
      "521         Crwl      0\n",
      "522     Deadeyes      7\n",
      "523           EX      2\n",
      "524       Fnatic     10\n",
      "525      GodLike      8\n",
      "526         Hype      2\n",
      "527          IND      1\n",
      "528     Instinct      0\n",
      "529    JyanMaara      0\n",
      "530       Marcos      3\n",
      "531    MegaStars      4\n",
      "532           OR      7\n",
      "533       PowerH      0\n",
      "534          SGE      4\n",
      "535         SouL      0\n",
      "536      Tamilas      0\n",
      "537   TSM Entity      6\n",
      "538   Umumba Rxn      3\n",
      "539       Xtreme      0\n"
     ]
    }
   ],
   "source": [
    "#25 Analyze the match with the highest average kills per team.\n",
    "\n",
    "average_kills_per_match = data.groupby('Match No')['Kills'].mean().reset_index()\n",
    "\n",
    "\n",
    "highest_average_kills = average_kills_per_match.loc[average_kills_per_match['Kills'].idxmax()]\n",
    "\n",
    "\n",
    "match_details = data[data['Match No'] == highest_average_kills['Match No']]\n",
    "\n",
    "\n",
    "print(f\"Match No: {highest_average_kills['Match No']}\")\n",
    "\n",
    "print(f\"Highest Average Kills: {highest_average_kills['Kills']:.2f}\")\n",
    "\n",
    "\n",
    "print(\"\\nTeams and their kills:\")\n",
    "\n",
    "print(match_details[['Teams', 'Kills']])\n"
   ]
  },
  {
   "cell_type": "code",
   "execution_count": 35,
   "id": "39e624cf",
   "metadata": {},
   "outputs": [
    {
     "name": "stdout",
     "output_type": "stream",
     "text": [
      "0     2.500000\n",
      "1     2.683333\n",
      "2     1.583333\n",
      "3     1.966667\n",
      "4     3.083333\n",
      "5     3.716667\n",
      "6     2.100000\n",
      "7     2.766667\n",
      "8     1.800000\n",
      "9     1.766667\n",
      "10    2.916667\n",
      "11    3.116667\n",
      "12    4.016667\n",
      "13    2.533333\n",
      "14    4.433333\n",
      "15    3.066667\n",
      "16    4.600000\n",
      "17    2.300000\n",
      "18    2.966667\n",
      "19    1.833333\n",
      "dtype: float64\n"
     ]
    }
   ],
   "source": [
    "#26 Calculate the average number of kills per game for each team and identify significant deviations.\n",
    "\n",
    "team_stats = data.groupby('Teams').agg({'Kills': 'sum','Match Played': 'count'}).reset_index()\n",
    "\n",
    "team_stats= team_stats['Kills'] / team_stats['Match Played']\n",
    "\n",
    "print(team_stats)"
   ]
  },
  {
   "cell_type": "code",
   "execution_count": 36,
   "id": "cfe5d8bd",
   "metadata": {},
   "outputs": [
    {
     "name": "stdout",
     "output_type": "stream",
     "text": [
      "Player/Team with the Highest Kills-to-Damage Ratio:\n",
      "Team:  SGE\n",
      "Total Kills: 266\n",
      "Total Damage (Total): 586.00\n",
      "Kills-to-Damage Ratio: 0.45\n"
     ]
    }
   ],
   "source": [
    "#27 Find the player with the highest kills-to-damage ratio.\n",
    "\n",
    "player_stats = data.groupby('Teams').agg({'Kills': 'sum','Total': 'sum'}).reset_index()\n",
    "\n",
    "player_stats['Kills-to-Damage Ratio'] = player_stats['Kills'] / player_stats['Total']\n",
    "\n",
    "best_player = player_stats.loc[player_stats['Kills-to-Damage Ratio'].idxmax()]\n",
    "\n",
    "print(\"Player/Team with the Highest Kills-to-Damage Ratio:\")\n",
    "print(f\"Team: {best_player['Teams']}\")\n",
    "print(f\"Total Kills: {best_player['Kills']}\")\n",
    "print(f\"Total Damage (Total): {best_player['Total']:.2f}\")\n",
    "print(f\"Kills-to-Damage Ratio: {best_player['Kills-to-Damage Ratio']:.2f}\")\n"
   ]
  },
  {
   "cell_type": "code",
   "execution_count": 38,
   "id": "23d1a2db",
   "metadata": {},
   "outputs": [
    {
     "name": "stdout",
     "output_type": "stream",
     "text": [
      "Average Damage Per Player Across Different Matches:\n",
      "    Match No  Average Damage\n",
      "0          1            6.70\n",
      "1          2            7.05\n",
      "2          3            7.20\n",
      "3          4            6.95\n",
      "4          5            7.20\n",
      "5          6            6.90\n",
      "6          7            6.80\n",
      "7          8            7.05\n",
      "8          9            7.00\n",
      "9         10            7.00\n",
      "10        11            7.00\n",
      "11        12            6.85\n",
      "12        13            7.10\n",
      "13        14            7.00\n",
      "14        15            7.05\n",
      "15        16            7.05\n",
      "16        17            7.20\n",
      "17        18            6.95\n",
      "18        19            7.15\n",
      "19        20            7.05\n",
      "20        21            7.05\n",
      "21        22            6.90\n",
      "22        23            7.10\n",
      "23        24            7.05\n",
      "24        25            6.90\n",
      "25        26            6.90\n",
      "26        27            7.30\n",
      "27        28            7.10\n",
      "28        29            7.05\n",
      "29        30            7.15\n",
      "30        31            7.20\n",
      "31        32            7.00\n",
      "32        33            7.15\n",
      "33        34            7.25\n",
      "34        35            6.80\n",
      "35        36            7.10\n",
      "36        37            7.25\n",
      "37        38            7.05\n",
      "38        39            7.10\n",
      "39        40            7.25\n",
      "40        41            7.10\n",
      "41        42            6.95\n",
      "42        43            6.95\n",
      "43        44            7.05\n",
      "44        45            7.00\n",
      "45        46            6.95\n",
      "46        47            7.00\n",
      "47        48            7.25\n",
      "48        49            6.85\n",
      "49        50            7.00\n",
      "50        51            7.15\n",
      "51        52            6.95\n",
      "52        53            7.05\n",
      "53        54            7.10\n",
      "54        55            7.05\n",
      "55        56            7.15\n",
      "56        57            6.90\n",
      "57        58            6.80\n",
      "58        59            7.00\n",
      "59        60            7.10\n"
     ]
    }
   ],
   "source": [
    "#28 How does the average damage per player vary across different matches?\n",
    "\n",
    "average_damage_per_match = data.groupby('Match No')['Total'].mean().reset_index()\n",
    "\n",
    "average_damage_per_match.columns = ['Match No', 'Average Damage']\n",
    "\n",
    "\n",
    "print(\"Average Damage Per Player Across Different Matches:\")\n",
    "\n",
    "print(average_damage_per_match)\n",
    "\n",
    "\n"
   ]
  },
  {
   "cell_type": "code",
   "execution_count": 41,
   "id": "fb398038",
   "metadata": {},
   "outputs": [
    {
     "name": "stdout",
     "output_type": "stream",
     "text": [
      "Player with the highest kills in a single match:  TSM Entity\n",
      " Kills: 19\n",
      "\n",
      "Performance of the player across all matches:\n",
      "      Match No  Kills        Teams\n",
      "17           1     19   TSM Entity\n",
      "737         37     19   TSM Entity\n",
      "657         33     16   TSM Entity\n",
      "257         13     13   TSM Entity\n",
      "857         43     12   TSM Entity\n",
      "77           4     11   TSM Entity\n",
      "957         48     10   TSM Entity\n",
      "777         39      9   TSM Entity\n",
      "1157        58      9   TSM Entity\n",
      "457         23      9   TSM Entity\n",
      "757         38      9   TSM Entity\n",
      "1117        56      8   TSM Entity\n",
      "517         26      8   TSM Entity\n",
      "717         36      8   TSM Entity\n",
      "97           5      7   TSM Entity\n",
      "837         42      7   TSM Entity\n",
      "1097        55      7   TSM Entity\n",
      "437         22      6   TSM Entity\n",
      "797         40      6   TSM Entity\n",
      "377         19      6   TSM Entity\n",
      "1057        53      6   TSM Entity\n",
      "817         41      6   TSM Entity\n",
      "537         27      6   TSM Entity\n",
      "497         25      5   TSM Entity\n",
      "357         18      5   TSM Entity\n",
      "297         15      5   TSM Entity\n",
      "937         47      5   TSM Entity\n",
      "677         34      5   TSM Entity\n",
      "157          8      4   TSM Entity\n",
      "397         20      4   TSM Entity\n",
      "917         46      3   TSM Entity\n",
      "1077        54      3   TSM Entity\n",
      "37           2      3   TSM Entity\n",
      "137          7      3   TSM Entity\n",
      "277         14      2   TSM Entity\n",
      "1177        59      2   TSM Entity\n",
      "877         44      2   TSM Entity\n",
      "57           3      2   TSM Entity\n",
      "1137        57      1   TSM Entity\n",
      "897         45      1   TSM Entity\n",
      "557         28      1   TSM Entity\n",
      "317         16      1   TSM Entity\n",
      "477         24      1   TSM Entity\n",
      "117          6      1   TSM Entity\n",
      "977         49      0   TSM Entity\n",
      "997         50      0   TSM Entity\n",
      "1017        51      0   TSM Entity\n",
      "1037        52      0   TSM Entity\n",
      "617         31      0   TSM Entity\n",
      "697         35      0   TSM Entity\n",
      "637         32      0   TSM Entity\n",
      "597         30      0   TSM Entity\n",
      "577         29      0   TSM Entity\n",
      "417         21      0   TSM Entity\n",
      "337         17      0   TSM Entity\n",
      "237         12      0   TSM Entity\n",
      "217         11      0   TSM Entity\n",
      "197         10      0   TSM Entity\n",
      "177          9      0   TSM Entity\n",
      "1197        60      0   TSM Entity\n"
     ]
    }
   ],
   "source": [
    "#29 Identify the player with the highest number of kills in a single match and compare their performance across other matches.\n",
    "\n",
    "max_kills_match = data.loc[data['Kills'].idxmax()] \n",
    "\n",
    "\n",
    "player_max_kills = max_kills_match['Teams']\n",
    "\n",
    "max_kills = max_kills_match['Kills']\n",
    "\n",
    "\n",
    "player_performance = data[data['Teams'] == player_max_kills]\n",
    "\n",
    "\n",
    "print(f\"Player with the highest kills in a single match: {player_max_kills}\")\n",
    "\n",
    "print(f\" Kills: {max_kills}\")\n",
    "\n",
    "\n",
    "print(\"\\nPerformance of the player across all matches:\")\n",
    "\n",
    "print(player_performance[['Match No', 'Kills','Teams']].sort_values(by='Kills', ascending=False))\n"
   ]
  },
  {
   "cell_type": "code",
   "execution_count": 43,
   "id": "97b56c76",
   "metadata": {},
   "outputs": [
    {
     "name": "stdout",
     "output_type": "stream",
     "text": [
      "Match No: 1\n",
      "Team:  TSM Entity\n",
      "Placement: 20\n",
      "Kills: 19\n"
     ]
    }
   ],
   "source": [
    "#30 Find the match where the team with the lowest rank achieved the most kills.\n",
    "\n",
    "lowest_ranked_team_per_match = data.loc[data.groupby('Match No')['Placement'].idxmax()]\n",
    "\n",
    "\n",
    "most_kills_by_lowest_ranked = lowest_ranked_team_per_match.sort_values(by='Kills', ascending=False).iloc[0]\n",
    "\n",
    "\n",
    "print(f\"Match No: {most_kills_by_lowest_ranked['Match No']}\")\n",
    "print(f\"Team: {most_kills_by_lowest_ranked['Teams']}\")\n",
    "print(f\"Placement: {most_kills_by_lowest_ranked['Placement']}\")\n",
    "print(f\"Kills: {most_kills_by_lowest_ranked['Kills']}\")\n"
   ]
  },
  {
   "cell_type": "code",
   "execution_count": 42,
   "id": "9526c7fe",
   "metadata": {},
   "outputs": [
    {
     "name": "stdout",
     "output_type": "stream",
     "text": [
      "Total Points Contributed by Each Player on the Top-Ranked Team ( Deadeyes):\n",
      "       Teams  Total\n",
      "0   Deadeyes    229\n"
     ]
    }
   ],
   "source": [
    "#31 Calculate the total points contributed by each player on the top-ranked team.\n",
    "\n",
    "team = data.groupby('Teams')['Placement'].mean().idxmin()\n",
    "\n",
    "top_team = data[data['Teams'] == team]\n",
    "\n",
    "total_points = top_team.groupby('Teams')['Total'].sum().reset_index()\n",
    "\n",
    "print(f\"Total Points Contributed by Each Player on the Top-Ranked Team ({team}):\")\n",
    "\n",
    "print(total_points)\n"
   ]
  },
  {
   "cell_type": "code",
   "execution_count": null,
   "id": "087a12ca",
   "metadata": {},
   "outputs": [],
   "source": []
  }
 ],
 "metadata": {
  "kernelspec": {
   "display_name": "Python 3 (ipykernel)",
   "language": "python",
   "name": "python3"
  },
  "language_info": {
   "codemirror_mode": {
    "name": "ipython",
    "version": 3
   },
   "file_extension": ".py",
   "mimetype": "text/x-python",
   "name": "python",
   "nbconvert_exporter": "python",
   "pygments_lexer": "ipython3",
   "version": "3.9.7"
  }
 },
 "nbformat": 4,
 "nbformat_minor": 5
}
