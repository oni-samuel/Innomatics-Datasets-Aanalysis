{
 "cells": [
  {
   "cell_type": "markdown",
   "id": "708da4a5-2f37-48cb-87e0-6b4a296cc63d",
   "metadata": {
    "id": "708da4a5-2f37-48cb-87e0-6b4a296cc63d"
   },
   "source": [
    "link:- https://www.kaggle.com/datasets/lainguyn123/employee-survey"
   ]
  },
  {
   "cell_type": "code",
   "execution_count": 24,
   "id": "EwvfEi4k3Uh7",
   "metadata": {
    "colab": {
     "base_uri": "https://localhost:8080/",
     "height": 196
    },
    "id": "EwvfEi4k3Uh7",
    "outputId": "6d10ee9a-6cb2-4d6d-d86f-c750ac92817a"
   },
   "outputs": [
    {
     "data": {
      "application/vnd.google.colaboratory.intrinsic+json": {
       "type": "dataframe",
       "variable_name": "data"
      },
      "text/html": [
       "\n",
       "  <div id=\"df-901c2525-17d9-4e85-8b9d-1103314536f7\" class=\"colab-df-container\">\n",
       "    <div>\n",
       "<style scoped>\n",
       "    .dataframe tbody tr th:only-of-type {\n",
       "        vertical-align: middle;\n",
       "    }\n",
       "\n",
       "    .dataframe tbody tr th {\n",
       "        vertical-align: top;\n",
       "    }\n",
       "\n",
       "    .dataframe thead th {\n",
       "        text-align: right;\n",
       "    }\n",
       "</style>\n",
       "<table border=\"1\" class=\"dataframe\">\n",
       "  <thead>\n",
       "    <tr style=\"text-align: right;\">\n",
       "      <th></th>\n",
       "      <th>EmpID</th>\n",
       "      <th>Gender</th>\n",
       "      <th>Age</th>\n",
       "      <th>MaritalStatus</th>\n",
       "      <th>JobLevel</th>\n",
       "      <th>Experience</th>\n",
       "      <th>Dept</th>\n",
       "      <th>EmpType</th>\n",
       "      <th>WLB</th>\n",
       "      <th>WorkEnv</th>\n",
       "      <th>...</th>\n",
       "      <th>SleepHours</th>\n",
       "      <th>CommuteMode</th>\n",
       "      <th>CommuteDistance</th>\n",
       "      <th>NumCompanies</th>\n",
       "      <th>TeamSize</th>\n",
       "      <th>NumReports</th>\n",
       "      <th>EduLevel</th>\n",
       "      <th>haveOT</th>\n",
       "      <th>TrainingHoursPerYear</th>\n",
       "      <th>JobSatisfaction</th>\n",
       "    </tr>\n",
       "  </thead>\n",
       "  <tbody>\n",
       "    <tr>\n",
       "      <th>0</th>\n",
       "      <td>6</td>\n",
       "      <td>Male</td>\n",
       "      <td>32</td>\n",
       "      <td>Married</td>\n",
       "      <td>Mid</td>\n",
       "      <td>7</td>\n",
       "      <td>IT</td>\n",
       "      <td>Full-Time</td>\n",
       "      <td>1</td>\n",
       "      <td>1</td>\n",
       "      <td>...</td>\n",
       "      <td>7.6</td>\n",
       "      <td>Car</td>\n",
       "      <td>20</td>\n",
       "      <td>3</td>\n",
       "      <td>12</td>\n",
       "      <td>0</td>\n",
       "      <td>Bachelor</td>\n",
       "      <td>True</td>\n",
       "      <td>33.5</td>\n",
       "      <td>5</td>\n",
       "    </tr>\n",
       "    <tr>\n",
       "      <th>1</th>\n",
       "      <td>11</td>\n",
       "      <td>Female</td>\n",
       "      <td>34</td>\n",
       "      <td>Married</td>\n",
       "      <td>Mid</td>\n",
       "      <td>12</td>\n",
       "      <td>Finance</td>\n",
       "      <td>Full-Time</td>\n",
       "      <td>1</td>\n",
       "      <td>1</td>\n",
       "      <td>...</td>\n",
       "      <td>7.9</td>\n",
       "      <td>Car</td>\n",
       "      <td>15</td>\n",
       "      <td>4</td>\n",
       "      <td>11</td>\n",
       "      <td>0</td>\n",
       "      <td>Bachelor</td>\n",
       "      <td>False</td>\n",
       "      <td>36.0</td>\n",
       "      <td>5</td>\n",
       "    </tr>\n",
       "  </tbody>\n",
       "</table>\n",
       "<p>2 rows × 23 columns</p>\n",
       "</div>\n",
       "    <div class=\"colab-df-buttons\">\n",
       "\n",
       "  <div class=\"colab-df-container\">\n",
       "    <button class=\"colab-df-convert\" onclick=\"convertToInteractive('df-901c2525-17d9-4e85-8b9d-1103314536f7')\"\n",
       "            title=\"Convert this dataframe to an interactive table.\"\n",
       "            style=\"display:none;\">\n",
       "\n",
       "  <svg xmlns=\"http://www.w3.org/2000/svg\" height=\"24px\" viewBox=\"0 -960 960 960\">\n",
       "    <path d=\"M120-120v-720h720v720H120Zm60-500h600v-160H180v160Zm220 220h160v-160H400v160Zm0 220h160v-160H400v160ZM180-400h160v-160H180v160Zm440 0h160v-160H620v160ZM180-180h160v-160H180v160Zm440 0h160v-160H620v160Z\"/>\n",
       "  </svg>\n",
       "    </button>\n",
       "\n",
       "  <style>\n",
       "    .colab-df-container {\n",
       "      display:flex;\n",
       "      gap: 12px;\n",
       "    }\n",
       "\n",
       "    .colab-df-convert {\n",
       "      background-color: #E8F0FE;\n",
       "      border: none;\n",
       "      border-radius: 50%;\n",
       "      cursor: pointer;\n",
       "      display: none;\n",
       "      fill: #1967D2;\n",
       "      height: 32px;\n",
       "      padding: 0 0 0 0;\n",
       "      width: 32px;\n",
       "    }\n",
       "\n",
       "    .colab-df-convert:hover {\n",
       "      background-color: #E2EBFA;\n",
       "      box-shadow: 0px 1px 2px rgba(60, 64, 67, 0.3), 0px 1px 3px 1px rgba(60, 64, 67, 0.15);\n",
       "      fill: #174EA6;\n",
       "    }\n",
       "\n",
       "    .colab-df-buttons div {\n",
       "      margin-bottom: 4px;\n",
       "    }\n",
       "\n",
       "    [theme=dark] .colab-df-convert {\n",
       "      background-color: #3B4455;\n",
       "      fill: #D2E3FC;\n",
       "    }\n",
       "\n",
       "    [theme=dark] .colab-df-convert:hover {\n",
       "      background-color: #434B5C;\n",
       "      box-shadow: 0px 1px 3px 1px rgba(0, 0, 0, 0.15);\n",
       "      filter: drop-shadow(0px 1px 2px rgba(0, 0, 0, 0.3));\n",
       "      fill: #FFFFFF;\n",
       "    }\n",
       "  </style>\n",
       "\n",
       "    <script>\n",
       "      const buttonEl =\n",
       "        document.querySelector('#df-901c2525-17d9-4e85-8b9d-1103314536f7 button.colab-df-convert');\n",
       "      buttonEl.style.display =\n",
       "        google.colab.kernel.accessAllowed ? 'block' : 'none';\n",
       "\n",
       "      async function convertToInteractive(key) {\n",
       "        const element = document.querySelector('#df-901c2525-17d9-4e85-8b9d-1103314536f7');\n",
       "        const dataTable =\n",
       "          await google.colab.kernel.invokeFunction('convertToInteractive',\n",
       "                                                    [key], {});\n",
       "        if (!dataTable) return;\n",
       "\n",
       "        const docLinkHtml = 'Like what you see? Visit the ' +\n",
       "          '<a target=\"_blank\" href=https://colab.research.google.com/notebooks/data_table.ipynb>data table notebook</a>'\n",
       "          + ' to learn more about interactive tables.';\n",
       "        element.innerHTML = '';\n",
       "        dataTable['output_type'] = 'display_data';\n",
       "        await google.colab.output.renderOutput(dataTable, element);\n",
       "        const docLink = document.createElement('div');\n",
       "        docLink.innerHTML = docLinkHtml;\n",
       "        element.appendChild(docLink);\n",
       "      }\n",
       "    </script>\n",
       "  </div>\n",
       "\n",
       "\n",
       "<div id=\"df-af6e31ba-8eeb-4ba1-8054-e8f63a5e7d55\">\n",
       "  <button class=\"colab-df-quickchart\" onclick=\"quickchart('df-af6e31ba-8eeb-4ba1-8054-e8f63a5e7d55')\"\n",
       "            title=\"Suggest charts\"\n",
       "            style=\"display:none;\">\n",
       "\n",
       "<svg xmlns=\"http://www.w3.org/2000/svg\" height=\"24px\"viewBox=\"0 0 24 24\"\n",
       "     width=\"24px\">\n",
       "    <g>\n",
       "        <path d=\"M19 3H5c-1.1 0-2 .9-2 2v14c0 1.1.9 2 2 2h14c1.1 0 2-.9 2-2V5c0-1.1-.9-2-2-2zM9 17H7v-7h2v7zm4 0h-2V7h2v10zm4 0h-2v-4h2v4z\"/>\n",
       "    </g>\n",
       "</svg>\n",
       "  </button>\n",
       "\n",
       "<style>\n",
       "  .colab-df-quickchart {\n",
       "      --bg-color: #E8F0FE;\n",
       "      --fill-color: #1967D2;\n",
       "      --hover-bg-color: #E2EBFA;\n",
       "      --hover-fill-color: #174EA6;\n",
       "      --disabled-fill-color: #AAA;\n",
       "      --disabled-bg-color: #DDD;\n",
       "  }\n",
       "\n",
       "  [theme=dark] .colab-df-quickchart {\n",
       "      --bg-color: #3B4455;\n",
       "      --fill-color: #D2E3FC;\n",
       "      --hover-bg-color: #434B5C;\n",
       "      --hover-fill-color: #FFFFFF;\n",
       "      --disabled-bg-color: #3B4455;\n",
       "      --disabled-fill-color: #666;\n",
       "  }\n",
       "\n",
       "  .colab-df-quickchart {\n",
       "    background-color: var(--bg-color);\n",
       "    border: none;\n",
       "    border-radius: 50%;\n",
       "    cursor: pointer;\n",
       "    display: none;\n",
       "    fill: var(--fill-color);\n",
       "    height: 32px;\n",
       "    padding: 0;\n",
       "    width: 32px;\n",
       "  }\n",
       "\n",
       "  .colab-df-quickchart:hover {\n",
       "    background-color: var(--hover-bg-color);\n",
       "    box-shadow: 0 1px 2px rgba(60, 64, 67, 0.3), 0 1px 3px 1px rgba(60, 64, 67, 0.15);\n",
       "    fill: var(--button-hover-fill-color);\n",
       "  }\n",
       "\n",
       "  .colab-df-quickchart-complete:disabled,\n",
       "  .colab-df-quickchart-complete:disabled:hover {\n",
       "    background-color: var(--disabled-bg-color);\n",
       "    fill: var(--disabled-fill-color);\n",
       "    box-shadow: none;\n",
       "  }\n",
       "\n",
       "  .colab-df-spinner {\n",
       "    border: 2px solid var(--fill-color);\n",
       "    border-color: transparent;\n",
       "    border-bottom-color: var(--fill-color);\n",
       "    animation:\n",
       "      spin 1s steps(1) infinite;\n",
       "  }\n",
       "\n",
       "  @keyframes spin {\n",
       "    0% {\n",
       "      border-color: transparent;\n",
       "      border-bottom-color: var(--fill-color);\n",
       "      border-left-color: var(--fill-color);\n",
       "    }\n",
       "    20% {\n",
       "      border-color: transparent;\n",
       "      border-left-color: var(--fill-color);\n",
       "      border-top-color: var(--fill-color);\n",
       "    }\n",
       "    30% {\n",
       "      border-color: transparent;\n",
       "      border-left-color: var(--fill-color);\n",
       "      border-top-color: var(--fill-color);\n",
       "      border-right-color: var(--fill-color);\n",
       "    }\n",
       "    40% {\n",
       "      border-color: transparent;\n",
       "      border-right-color: var(--fill-color);\n",
       "      border-top-color: var(--fill-color);\n",
       "    }\n",
       "    60% {\n",
       "      border-color: transparent;\n",
       "      border-right-color: var(--fill-color);\n",
       "    }\n",
       "    80% {\n",
       "      border-color: transparent;\n",
       "      border-right-color: var(--fill-color);\n",
       "      border-bottom-color: var(--fill-color);\n",
       "    }\n",
       "    90% {\n",
       "      border-color: transparent;\n",
       "      border-bottom-color: var(--fill-color);\n",
       "    }\n",
       "  }\n",
       "</style>\n",
       "\n",
       "  <script>\n",
       "    async function quickchart(key) {\n",
       "      const quickchartButtonEl =\n",
       "        document.querySelector('#' + key + ' button');\n",
       "      quickchartButtonEl.disabled = true;  // To prevent multiple clicks.\n",
       "      quickchartButtonEl.classList.add('colab-df-spinner');\n",
       "      try {\n",
       "        const charts = await google.colab.kernel.invokeFunction(\n",
       "            'suggestCharts', [key], {});\n",
       "      } catch (error) {\n",
       "        console.error('Error during call to suggestCharts:', error);\n",
       "      }\n",
       "      quickchartButtonEl.classList.remove('colab-df-spinner');\n",
       "      quickchartButtonEl.classList.add('colab-df-quickchart-complete');\n",
       "    }\n",
       "    (() => {\n",
       "      let quickchartButtonEl =\n",
       "        document.querySelector('#df-af6e31ba-8eeb-4ba1-8054-e8f63a5e7d55 button');\n",
       "      quickchartButtonEl.style.display =\n",
       "        google.colab.kernel.accessAllowed ? 'block' : 'none';\n",
       "    })();\n",
       "  </script>\n",
       "</div>\n",
       "\n",
       "    </div>\n",
       "  </div>\n"
      ],
      "text/plain": [
       "   EmpID  Gender  Age MaritalStatus JobLevel  Experience     Dept    EmpType  \\\n",
       "0      6    Male   32       Married      Mid           7       IT  Full-Time   \n",
       "1     11  Female   34       Married      Mid          12  Finance  Full-Time   \n",
       "\n",
       "   WLB  WorkEnv  ...  SleepHours  CommuteMode  CommuteDistance  NumCompanies  \\\n",
       "0    1        1  ...         7.6          Car               20             3   \n",
       "1    1        1  ...         7.9          Car               15             4   \n",
       "\n",
       "  TeamSize  NumReports  EduLevel  haveOT  TrainingHoursPerYear JobSatisfaction  \n",
       "0       12           0  Bachelor    True                  33.5               5  \n",
       "1       11           0  Bachelor   False                  36.0               5  \n",
       "\n",
       "[2 rows x 23 columns]"
      ]
     },
     "execution_count": 24,
     "metadata": {},
     "output_type": "execute_result"
    }
   ],
   "source": [
    "import pandas as pd\n",
    "data = pd.read_csv(r'/content/sample_data/employee_survey.csv')\n",
    "data.head(2)"
   ]
  },
  {
   "cell_type": "markdown",
   "id": "d9ba12cd-223c-48d2-a49c-947e02ee1e9e",
   "metadata": {
    "id": "d9ba12cd-223c-48d2-a49c-947e02ee1e9e"
   },
   "source": [
    "## 1. How satisfied are employees with their current roles based on survey responses?"
   ]
  },
  {
   "cell_type": "code",
   "execution_count": 12,
   "id": "2073c9c7-5c55-40a5-80ae-f9960bf900c9",
   "metadata": {
    "colab": {
     "base_uri": "https://localhost:8080/"
    },
    "id": "2073c9c7-5c55-40a5-80ae-f9960bf900c9",
    "outputId": "ce46fb1f-31e4-4a1a-e0b0-3deb1afef842"
   },
   "outputs": [
    {
     "name": "stdout",
     "output_type": "stream",
     "text": [
      "Average Job Satisfaction Rating: 3.39\n",
      "\n",
      "Averagely people are satisfied with their jobs\n"
     ]
    }
   ],
   "source": [
    "avg_job_satisfaction = data['JobSatisfaction'].mean()\n",
    "\n",
    "avg_job = data['JobSatisfaction'].value_counts()\n",
    "\n",
    "print(f\"Average Job Satisfaction Rating: {avg_job_satisfaction:.2f}\")\n",
    "\n",
    "print(f\"\\nAveragely people are satisfied with their jobs\")"
   ]
  },
  {
   "cell_type": "markdown",
   "id": "f3f2a2ef-0bdc-4489-a16d-7eb483583dcb",
   "metadata": {
    "id": "f3f2a2ef-0bdc-4489-a16d-7eb483583dcb"
   },
   "source": [
    "## 2.  What percentage of employees participated in the survey, and how might that impact the results?"
   ]
  },
  {
   "cell_type": "code",
   "execution_count": 16,
   "id": "984814ce-bb17-42b5-aeba-159533c49d32",
   "metadata": {
    "colab": {
     "base_uri": "https://localhost:8080/"
    },
    "id": "984814ce-bb17-42b5-aeba-159533c49d32",
    "outputId": "5ae80567-9f04-4457-eb0a-8d0efb48f2a8"
   },
   "outputs": [
    {
     "name": "stdout",
     "output_type": "stream",
     "text": [
      "No participation column found. Assuming all employees participated.\n",
      "\n",
      "Full participation assumed. Results are representative of the dataset.\n"
     ]
    }
   ],
   "source": [
    "print(\"No participation column found. Assuming all employees participated.\")\n",
    "\n",
    "participation_percentage = 100\n",
    "\n",
    "print(\"\\nFull participation assumed. Results are representative of the dataset.\")\n"
   ]
  },
  {
   "cell_type": "markdown",
   "id": "27606497-647b-40e8-8b17-ecb345bc5772",
   "metadata": {
    "id": "27606497-647b-40e8-8b17-ecb345bc5772"
   },
   "source": [
    "## 3. What is the average job satisfaction score for each department?"
   ]
  },
  {
   "cell_type": "code",
   "execution_count": 18,
   "id": "3b00759c-605c-4f24-b5d0-3d9c6152943c",
   "metadata": {
    "colab": {
     "base_uri": "https://localhost:8080/"
    },
    "id": "3b00759c-605c-4f24-b5d0-3d9c6152943c",
    "outputId": "e747a2f0-f0ed-4b93-e806-d368186301c2"
   },
   "outputs": [
    {
     "name": "stdout",
     "output_type": "stream",
     "text": [
      "Average Job Satisfaction by Department:\n",
      " Dept\n",
      "IT    3.282946\n",
      "Name: JobSatisfaction, dtype: float64\n"
     ]
    }
   ],
   "source": [
    "satisfaction_by_dept = data.groupby('Dept')['JobSatisfaction'].mean()\n",
    "\n",
    "print(\"Average Job Satisfaction by Department:\\n\", satisfaction_by_dept)\n"
   ]
  },
  {
   "cell_type": "markdown",
   "id": "f4c3055b-e5e3-4ea8-ab19-3762615e4975",
   "metadata": {
    "id": "f4c3055b-e5e3-4ea8-ab19-3762615e4975"
   },
   "source": [
    "## 4. How many employees are in each age group?"
   ]
  },
  {
   "cell_type": "code",
   "execution_count": 21,
   "id": "ac94950d-6b6d-4eed-be5a-5f2bfe707985",
   "metadata": {
    "colab": {
     "base_uri": "https://localhost:8080/"
    },
    "id": "ac94950d-6b6d-4eed-be5a-5f2bfe707985",
    "outputId": "d904719b-3b1f-48de-ea27-885d8b587248"
   },
   "outputs": [
    {
     "name": "stdout",
     "output_type": "stream",
     "text": [
      "Number of Employees in Each Age Group:\n",
      "AgeGroup\n",
      "30-39    1069\n",
      "20-29     901\n",
      "40-49     594\n",
      "50-59     407\n",
      "60+        54\n",
      "Name: count, dtype: int64\n"
     ]
    }
   ],
   "source": [
    "bins = [0, 29, 39, 49, 59, 100]\n",
    "\n",
    "labels = ['20-29', '30-39', '40-49', '50-59', '60+']\n",
    "\n",
    "data['AgeGroup'] = pd.cut(data['Age'], bins=bins, labels=labels, right=False)\n",
    "\n",
    "age_group_count = data['AgeGroup'].value_counts()\n",
    "\n",
    "print(\"Number of Employees in Each Age Group:\")\n",
    "\n",
    "print(age_group_count)\n"
   ]
  },
  {
   "cell_type": "markdown",
   "id": "b54c15e8-0717-4a4c-bdfd-90b49c5775bf",
   "metadata": {
    "id": "b54c15e8-0717-4a4c-bdfd-90b49c5775bf"
   },
   "source": [
    "## 5. What is the average years of service for each education level?"
   ]
  },
  {
   "cell_type": "code",
   "execution_count": 25,
   "id": "8de546da-6746-4f0e-80f7-997adcfaebb4",
   "metadata": {
    "colab": {
     "base_uri": "https://localhost:8080/"
    },
    "id": "8de546da-6746-4f0e-80f7-997adcfaebb4",
    "outputId": "32f43064-5d01-4a7f-8d09-b734328a11c4"
   },
   "outputs": [
    {
     "name": "stdout",
     "output_type": "stream",
     "text": [
      "Average Years of Service by Education Level: EduLevel\n",
      "Bachelor        9.145652\n",
      "High School     1.600000\n",
      "Master         11.897368\n",
      "PhD            15.270000\n",
      "Name: Experience, dtype: float64\n"
     ]
    }
   ],
   "source": [
    "avg_experience = data.groupby('EduLevel')['Experience'].mean()\n",
    "\n",
    "print(\"Average Years of Service by Education Level:\", avg_experience)\n"
   ]
  },
  {
   "cell_type": "markdown",
   "id": "f9338a1d-319a-4e32-9fef-69f7566946df",
   "metadata": {
    "id": "f9338a1d-319a-4e32-9fef-69f7566946df"
   },
   "source": [
    "## 6.Which departments have the highest and lowest employee engagement scores?"
   ]
  },
  {
   "cell_type": "code",
   "execution_count": 28,
   "id": "2c664eeb-46ae-417c-bb76-6f27ac3c438b",
   "metadata": {
    "colab": {
     "base_uri": "https://localhost:8080/"
    },
    "id": "2c664eeb-46ae-417c-bb76-6f27ac3c438b",
    "outputId": "3323c7a4-b110-4210-c943-59f92fca9f98"
   },
   "outputs": [
    {
     "name": "stdout",
     "output_type": "stream",
     "text": [
      "Department with the Highest Average Engagement Score:\n",
      "IT 1561.1\n",
      "\n",
      "Department with the Lowest Average Engagement Score:\n",
      "HR 299.8\n"
     ]
    }
   ],
   "source": [
    "avg_engagement = data.groupby('Dept')['PhysicalActivityHours'].sum()\n",
    "\n",
    "highest_engagement = avg_engagement.idxmax()\n",
    "\n",
    "lowest_engagement = avg_engagement.idxmin()\n",
    "\n",
    "print(\"Department with the Highest Average Engagement Score:\")\n",
    "\n",
    "print(highest_engagement, avg_engagement[highest_engagement])\n",
    "\n",
    "print(\"\\nDepartment with the Lowest Average Engagement Score:\")\n",
    "\n",
    "print(lowest_engagement, avg_engagement[lowest_engagement])\n"
   ]
  },
  {
   "cell_type": "markdown",
   "id": "1f17fdb4-73f9-471e-b3e1-605426c03f9b",
   "metadata": {
    "id": "1f17fdb4-73f9-471e-b3e1-605426c03f9b"
   },
   "source": [
    "## 7. How many employees in each department have a \"Very Satisfied\" job satisfaction score?"
   ]
  },
  {
   "cell_type": "code",
   "execution_count": 23,
   "id": "15845174-9915-4e0b-9c19-a8788060dc94",
   "metadata": {
    "colab": {
     "base_uri": "https://localhost:8080/"
    },
    "id": "15845174-9915-4e0b-9c19-a8788060dc94",
    "outputId": "a935af1b-2704-46b3-f394-eb422ec496ec"
   },
   "outputs": [
    {
     "name": "stdout",
     "output_type": "stream",
     "text": [
      "Number of 'Very Satisfied' Employees in Each Department:\n",
      " Dept\n",
      "Customer Service     21\n",
      "Finance             124\n",
      "HR                   22\n",
      "IT                  126\n",
      "Legal                36\n",
      "Marketing            52\n",
      "Operations           84\n",
      "Sales                51\n",
      "dtype: int64\n"
     ]
    }
   ],
   "source": [
    "very_satisfied = data[data['JobSatisfaction'] == 5]\n",
    "\n",
    "dept = very_satisfied.groupby('Dept').size()\n",
    "\n",
    "print(\"Number of 'Very Satisfied' Employees in Each Department:\\n\", dept)"
   ]
  },
  {
   "cell_type": "markdown",
   "id": "f29adee0-a593-4149-9ee9-e9960741b05b",
   "metadata": {
    "id": "f29adee0-a593-4149-9ee9-e9960741b05b"
   },
   "source": [
    "## 8. What is the average workload for each job role?"
   ]
  },
  {
   "cell_type": "code",
   "execution_count": 25,
   "id": "56a55eff-6511-41ad-ba0e-61d9431e4b14",
   "metadata": {
    "colab": {
     "base_uri": "https://localhost:8080/"
    },
    "id": "56a55eff-6511-41ad-ba0e-61d9431e4b14",
    "outputId": "32663fbc-e9a0-4576-c912-42f37ffde8d0"
   },
   "outputs": [
    {
     "name": "stdout",
     "output_type": "stream",
     "text": [
      "Average Workload by Job Role: JobLevel\n",
      "Intern/Fresher    2.965347\n",
      "Junior            3.046512\n",
      "Lead              3.049223\n",
      "Mid               2.889034\n",
      "Senior            2.947615\n",
      "Name: Workload, dtype: float64\n"
     ]
    }
   ],
   "source": [
    "avg_workload = data.groupby('JobLevel')['Workload'].mean()\n",
    "\n",
    "print(\"Average Workload by Job Role:\", avg_workload)"
   ]
  },
  {
   "cell_type": "markdown",
   "id": "dac1557e-c037-4b11-9f98-669eae026682",
   "metadata": {
    "id": "dac1557e-c037-4b11-9f98-669eae026682"
   },
   "source": [
    "## 9. Which gender has the highest average compensation score?f"
   ]
  },
  {
   "cell_type": "code",
   "execution_count": 30,
   "id": "9c80fcb0-b371-4072-9f54-b59b424b20b8",
   "metadata": {
    "colab": {
     "base_uri": "https://localhost:8080/"
    },
    "id": "9c80fcb0-b371-4072-9f54-b59b424b20b8",
    "outputId": "0c0e8052-8947-4d7a-89c7-135135f272ab"
   },
   "outputs": [
    {
     "name": "stdout",
     "output_type": "stream",
     "text": [
      "\n",
      "Gender with the Highest Average Compensation: Other\n"
     ]
    }
   ],
   "source": [
    "avg_compensation = data.groupby('Gender')['TrainingHoursPerYear'].mean()\n",
    "\n",
    "highest_avg = avg_compensation.idxmax()\n",
    "\n",
    "print(f\"\\nGender with the Highest Average Compensation: {highest_avg}\")\n"
   ]
  },
  {
   "cell_type": "markdown",
   "id": "e835ac3a-4292-4b67-8325-9861dda31232",
   "metadata": {
    "id": "e835ac3a-4292-4b67-8325-9861dda31232"
   },
   "source": [
    "## 10. What are the top 5 job roles with the highest average employee engagement scores?"
   ]
  },
  {
   "cell_type": "code",
   "execution_count": 14,
   "id": "c7b17d46-5305-404e-b769-0d7f0cb11dae",
   "metadata": {
    "colab": {
     "base_uri": "https://localhost:8080/"
    },
    "id": "c7b17d46-5305-404e-b769-0d7f0cb11dae",
    "outputId": "e6a12d88-ad11-4907-b8d0-42a4ff081a97"
   },
   "outputs": [
    {
     "name": "stdout",
     "output_type": "stream",
     "text": [
      "Top 5 Job Roles with the Highest Average Engagement Scores :\n",
      " JobLevel\n",
      "Lead              2.073575\n",
      "Mid               2.051828\n",
      "Intern/Fresher    2.047030\n",
      "Senior            2.032367\n",
      "Junior            1.962458\n",
      "Name: PhysicalActivityHours, dtype: float64\n"
     ]
    }
   ],
   "source": [
    "avg_physical_activity_by_job = data.groupby('JobLevel')['PhysicalActivityHours'].mean()\n",
    "\n",
    "top_5_engaged_roles = avg_physical_activity_by_job.sort_values(ascending=False).head(5)\n",
    "\n",
    "print(\"Top 5 Job Roles with the Highest Average Engagement Scores :\\n\", top_5_engaged_roles)\n"
   ]
  },
  {
   "cell_type": "markdown",
   "id": "e681ff03-f621-48f1-8b74-70f21afe8f7b",
   "metadata": {
    "id": "e681ff03-f621-48f1-8b74-70f21afe8f7b"
   },
   "source": [
    "## 11. Which employees have the lowest work-life balance scores, sorted by score?"
   ]
  },
  {
   "cell_type": "code",
   "execution_count": 9,
   "id": "826370cb-098b-44e0-aaf9-091494ea9e6a",
   "metadata": {
    "colab": {
     "base_uri": "https://localhost:8080/"
    },
    "id": "826370cb-098b-44e0-aaf9-091494ea9e6a",
    "outputId": "3482ffb1-4f62-4f35-e054-80dec6b8147f"
   },
   "outputs": [
    {
     "name": "stdout",
     "output_type": "stream",
     "text": [
      "Employees with the Lowest Work-Life Balance Score (1):\n",
      "      EmpID  Gender  Age              Dept JobLevel  WLB\n",
      "0         6    Male   32                IT      Mid    1\n",
      "1        11  Female   34           Finance      Mid    1\n",
      "7        44    Male   24                IT   Junior    1\n",
      "80     2788    Male   47           Finance      Mid    1\n",
      "95     2830    Male   39  Customer Service   Senior    1\n",
      "...     ...     ...  ...               ...      ...  ...\n",
      "3016   1939    Male   49                IT     Lead    1\n",
      "3017   1943    Male   57        Operations     Lead    1\n",
      "3020   2070    Male   47         Marketing     Lead    1\n",
      "3022   2145    Male   41                IT     Lead    1\n",
      "3023   2168  Female   54                IT     Lead    1\n",
      "\n",
      "[618 rows x 6 columns]\n"
     ]
    }
   ],
   "source": [
    "wlb_score = data['WLB'].min()\n",
    "\n",
    "wlb_employees = data[data['WLB'] == wlb_score]\n",
    "\n",
    "print(f\"Employees with the Lowest Work-Life Balance Score ({wlb_score}):\")\n",
    "\n",
    "print(wlb_employees[['EmpID', 'Gender', 'Age', 'Dept', 'JobLevel', 'WLB']])\n"
   ]
  },
  {
   "cell_type": "markdown",
   "id": "683db1ae-17ff-4c6a-81fe-29b0c907b538",
   "metadata": {
    "id": "683db1ae-17ff-4c6a-81fe-29b0c907b538"
   },
   "source": [
    "## 12. What is the average compensation for each education level, sorted from highest to lowest?"
   ]
  },
  {
   "cell_type": "code",
   "execution_count": 29,
   "id": "10457c71-ed8a-41f8-bb11-976eb601303d",
   "metadata": {
    "colab": {
     "base_uri": "https://localhost:8080/"
    },
    "id": "10457c71-ed8a-41f8-bb11-976eb601303d",
    "outputId": "d22cdcdb-c197-411c-d8c6-73e6b9e607b1"
   },
   "outputs": [
    {
     "name": "stdout",
     "output_type": "stream",
     "text": [
      "Average Compensation by Education Level (Sorted from Highest to Lowest): EduLevel\n",
      "Master         3.728947\n",
      "High School    3.432653\n",
      "Bachelor       3.345652\n",
      "PhD            2.920000\n",
      "Name: JobSatisfaction, dtype: float64\n"
     ]
    }
   ],
   "source": [
    "avg_compensation = data.groupby('EduLevel')['JobSatisfaction'].mean()\n",
    "\n",
    "avg_compensation_edu = avg_compensation.sort_values(ascending=False)\n",
    "\n",
    "print(\"Average Compensation by Education Level (Sorted from Highest to Lowest):\", avg_compensation_edu)\n"
   ]
  },
  {
   "cell_type": "markdown",
   "id": "b9b98593-d23a-42d5-9654-644f90b02346",
   "metadata": {
    "id": "b9b98593-d23a-42d5-9654-644f90b02346"
   },
   "source": [
    "## 13. What are the details of employees in the \"Sales\" department?"
   ]
  },
  {
   "cell_type": "code",
   "execution_count": 49,
   "id": "50453475-838e-4b49-b52a-78b49d4bc811",
   "metadata": {
    "colab": {
     "base_uri": "https://localhost:8080/"
    },
    "id": "50453475-838e-4b49-b52a-78b49d4bc811",
    "outputId": "95c48fe5-f5b3-4356-975f-1de5a6d1a91b"
   },
   "outputs": [
    {
     "name": "stdout",
     "output_type": "stream",
     "text": [
      "Details of Employees in the Sales Department:\n",
      "       EmpID  Gender  Age MaritalStatus JobLevel  Experience   Dept    EmpType  \\\n",
      "4        28   Other   23        Single   Junior           1  Sales  Part-Time   \n",
      "6        21  Female   26        Single   Junior           4  Sales  Full-Time   \n",
      "15      151    Male   28       Married   Senior           6  Sales  Full-Time   \n",
      "16      173  Female   26        Single      Mid           4  Sales  Part-Time   \n",
      "45     1200  Female   32       Married   Senior           8  Sales   Contract   \n",
      "...     ...     ...  ...           ...      ...         ...    ...        ...   \n",
      "2969    991    Male   40       Married     Lead          18  Sales  Full-Time   \n",
      "2978   1095  Female   44       Married     Lead           6  Sales   Contract   \n",
      "2993    751  Female   50       Married     Lead          21  Sales  Full-Time   \n",
      "2995    863    Male   57       Married     Lead          16  Sales  Full-Time   \n",
      "2999   1089    Male   56       Married     Lead           4  Sales  Full-Time   \n",
      "\n",
      "      WLB  WorkEnv  ...  SleepHours       CommuteMode  CommuteDistance  \\\n",
      "4       3        1  ...         4.9               Car               20   \n",
      "6       2        2  ...         5.8               Car               29   \n",
      "15      4        5  ...         8.3              Bike                3   \n",
      "16      5        5  ...         7.8              Walk                2   \n",
      "45      4        5  ...         6.5  Public Transport                9   \n",
      "...   ...      ...  ...         ...               ...              ...   \n",
      "2969    4        1  ...         6.1               Car               25   \n",
      "2978    3        5  ...         7.2               Car               26   \n",
      "2993    1        2  ...         6.8         Motorbike               18   \n",
      "2995    3        4  ...         7.9               Car               18   \n",
      "2999    2        3  ...         5.2               Car               10   \n",
      "\n",
      "      NumCompanies TeamSize  NumReports  EduLevel  haveOT  \\\n",
      "4                0        7           0  Bachelor   False   \n",
      "6                1        8           0  Bachelor    True   \n",
      "15               2       16           7  Bachelor   False   \n",
      "16               1       15           0  Bachelor   False   \n",
      "45               3       17           2  Bachelor   False   \n",
      "...            ...      ...         ...       ...     ...   \n",
      "2969             6       28           5       PhD   False   \n",
      "2978             7       26           4       PhD   False   \n",
      "2993             9       23           5       PhD    True   \n",
      "2995            11       27           3       PhD   False   \n",
      "2999            11       22           7       PhD   False   \n",
      "\n",
      "      TrainingHoursPerYear JobSatisfaction  \n",
      "4                     20.5               5  \n",
      "6                     22.0               5  \n",
      "15                    43.0               5  \n",
      "16                    32.0               5  \n",
      "45                    44.0               5  \n",
      "...                    ...             ...  \n",
      "2969                  59.0               3  \n",
      "2978                  53.0               2  \n",
      "2993                  60.5               1  \n",
      "2995                  58.0               1  \n",
      "2999                  52.0               1  \n",
      "\n",
      "[281 rows x 23 columns]\n"
     ]
    }
   ],
   "source": [
    "sales_data = data[data['Dept'] == 'Sales']\n",
    "\n",
    "print(\"Details of Employees in the Sales Department:\\n\", sales_data)"
   ]
  },
  {
   "cell_type": "markdown",
   "id": "f0cb8119-f834-47e7-9eb4-2da07aa0ba4f",
   "metadata": {
    "id": "f0cb8119-f834-47e7-9eb4-2da07aa0ba4f"
   },
   "source": [
    "## 14. How many employees are in the \"IT\" department and what are their job satisfaction scores?"
   ]
  },
  {
   "cell_type": "code",
   "execution_count": 17,
   "id": "ce6dcbe0-3c9c-4517-ba00-c0cd687938eb",
   "metadata": {
    "colab": {
     "base_uri": "https://localhost:8080/"
    },
    "id": "ce6dcbe0-3c9c-4517-ba00-c0cd687938eb",
    "outputId": "42801e05-c503-4b06-c636-b244d370db1e"
   },
   "outputs": [
    {
     "name": "stdout",
     "output_type": "stream",
     "text": [
      "Number of Employees in the IT Department: 774\n",
      "\n",
      "Job Satisfaction Scores for Employees in the IT Department: 0       5\n",
      "3       5\n",
      "7       5\n",
      "24      5\n",
      "33      5\n",
      "       ..\n",
      "3016    1\n",
      "3019    1\n",
      "3021    1\n",
      "3022    1\n",
      "3023    1\n",
      "Name: JobSatisfaction, Length: 774, dtype: int64\n"
     ]
    }
   ],
   "source": [
    "data = data[data['Dept'] == 'IT']\n",
    "\n",
    "it_employees = data.shape[0]\n",
    "\n",
    "job_satisfaction = data['JobSatisfaction']\n",
    "\n",
    "print(f\"Number of Employees in the IT Department: {it_employees}\\n\")\n",
    "\n",
    "print(\"Job Satisfaction Scores for Employees in the IT Department:\", job_satisfaction)\n"
   ]
  },
  {
   "cell_type": "markdown",
   "id": "137b8640-412a-47b4-b80d-15ee3a74d853",
   "metadata": {
    "id": "137b8640-412a-47b4-b80d-15ee3a74d853"
   },
   "source": [
    "## 15. What is the average employee engagement score for the \"Marketing\" department?"
   ]
  },
  {
   "cell_type": "code",
   "execution_count": 10,
   "id": "cad27ade-75c6-4561-868e-0a25cfc292f5",
   "metadata": {
    "colab": {
     "base_uri": "https://localhost:8080/"
    },
    "id": "cad27ade-75c6-4561-868e-0a25cfc292f5",
    "outputId": "59597eba-08ec-4e1f-8d1b-027bb9281320"
   },
   "outputs": [
    {
     "name": "stdout",
     "output_type": "stream",
     "text": [
      "Average Employee Engagement (WLB) Score for Marketing Department: 3.14\n"
     ]
    }
   ],
   "source": [
    "marketing_data = data[data['Dept'] == 'Marketing']\n",
    "\n",
    "avg_marketing = marketing_data['WLB'].mean()\n",
    "\n",
    "print(f\"Average Employee Engagement (WLB) Score for Marketing Department: {avg_marketing:.2f}\")\n"
   ]
  },
  {
   "cell_type": "markdown",
   "id": "b1ad9d80-e53e-4dbb-b711-d9e4e202df3e",
   "metadata": {
    "id": "b1ad9d80-e53e-4dbb-b711-d9e4e202df3e"
   },
   "source": [
    "## 16. How many employees belong to each job role?"
   ]
  },
  {
   "cell_type": "code",
   "execution_count": 31,
   "id": "d64427db-75c2-4093-b8f7-331c0e519558",
   "metadata": {
    "colab": {
     "base_uri": "https://localhost:8080/"
    },
    "id": "d64427db-75c2-4093-b8f7-331c0e519558",
    "outputId": "16bbef23-86ae-4ba0-d812-037a51bc15bd"
   },
   "outputs": [
    {
     "name": "stdout",
     "output_type": "stream",
     "text": [
      "Number of Employees in Each Job Role:\n",
      "JobLevel\n",
      "Intern/Fresher     202\n",
      "Junior             602\n",
      "Lead               386\n",
      "Mid                766\n",
      "Senior            1069\n",
      "dtype: int64\n"
     ]
    }
   ],
   "source": [
    "employees_by_job_role = data.groupby('JobLevel').size()\n",
    "\n",
    "print(\"Number of Employees in Each Job Role:\")\n",
    "\n",
    "print(employees_by_job_role)\n"
   ]
  },
  {
   "cell_type": "code",
   "execution_count": null,
   "id": "87d646e2-01b6-4db0-9a94-04279ca68b41",
   "metadata": {
    "id": "87d646e2-01b6-4db0-9a94-04279ca68b41"
   },
   "outputs": [],
   "source": []
  },
  {
   "cell_type": "code",
   "execution_count": null,
   "id": "66309237-f506-42f7-a548-ced9d0e44011",
   "metadata": {
    "id": "66309237-f506-42f7-a548-ced9d0e44011"
   },
   "outputs": [],
   "source": []
  }
 ],
 "metadata": {
  "colab": {
   "provenance": []
  },
  "kernelspec": {
   "display_name": "Python 3 (ipykernel)",
   "language": "python",
   "name": "python3"
  },
  "language_info": {
   "codemirror_mode": {
    "name": "ipython",
    "version": 3
   },
   "file_extension": ".py",
   "mimetype": "text/x-python",
   "name": "python",
   "nbconvert_exporter": "python",
   "pygments_lexer": "ipython3",
   "version": "3.9.7"
  }
 },
 "nbformat": 4,
 "nbformat_minor": 5
}
