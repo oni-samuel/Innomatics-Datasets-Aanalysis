{
  "cells": [
    {
      "cell_type": "markdown",
      "id": "f41414e9-2597-4e3b-b886-ea6b32c80357",
      "metadata": {
        "id": "f41414e9-2597-4e3b-b886-ea6b32c80357"
      },
      "source": [
        "https://www.kaggle.com/code/wilomentena/conflict-analysis-deaths-protests/input\n",
        "\n",
        "**NOTE:**\n",
        "- use 2023-10-01-2024-01-29-Middle_East-Israel-Palestine.csv (9.62 MB) dataset"
      ]
    },
    {
      "cell_type": "code",
      "source": [
        "import pandas as pd\n",
        "\n",
        "data = pd.read_csv(r'/content/sample_data/2023-10-01-2024-01-29-Middle_East-Israel-Palestine.csv')\n",
        "\n",
        "data.head(2)"
      ],
      "metadata": {
        "id": "Ni0fZ65OyULG",
        "outputId": "beae3381-11a0-4af3-e8ac-32eb57605d62",
        "colab": {
          "base_uri": "https://localhost:8080/",
          "height": 352
        }
      },
      "id": "Ni0fZ65OyULG",
      "execution_count": 19,
      "outputs": [
        {
          "output_type": "execute_result",
          "data": {
            "text/plain": [
              "  event_id_cnty       event_date  year  time_precision       disorder_type  \\\n",
              "0      ISR38822  19 January 2024  2024               1  Political violence   \n",
              "1      ISR38830  19 January 2024  2024               1      Demonstrations   \n",
              "\n",
              "                   event_type                     sub_event_type  \\\n",
              "0  Explosions/Remote violence  Shelling/artillery/missile attack   \n",
              "1                    Protests                   Peaceful protest   \n",
              "\n",
              "                actor1                      assoc_actor_1  inter1  ...  \\\n",
              "0            Hezbollah                                NaN       3  ...   \n",
              "1  Protesters (Israel)  Military Forces of Israel (2022-)       6  ...   \n",
              "\n",
              "   location latitude  longitude geo_precision        source source_scale  \\\n",
              "0      Elon  33.0637    35.2201             2          Ynet     National   \n",
              "1    Amikam  32.5635    35.0208             1  Israel Hayom     National   \n",
              "\n",
              "                                               notes fatalities  \\\n",
              "0  On 19 January 2024, Hezbollah forces in Lebano...          0   \n",
              "1  On 19 January 2024, army reservists and relati...          0   \n",
              "\n",
              "                   tags   timestamp  \n",
              "0                   NaN  1705978255  \n",
              "1  crowd size=no report  1705978255  \n",
              "\n",
              "[2 rows x 28 columns]"
            ],
            "text/html": [
              "\n",
              "  <div id=\"df-38dc4820-6bdc-4ee6-b75b-f932615e02f6\" class=\"colab-df-container\">\n",
              "    <div>\n",
              "<style scoped>\n",
              "    .dataframe tbody tr th:only-of-type {\n",
              "        vertical-align: middle;\n",
              "    }\n",
              "\n",
              "    .dataframe tbody tr th {\n",
              "        vertical-align: top;\n",
              "    }\n",
              "\n",
              "    .dataframe thead th {\n",
              "        text-align: right;\n",
              "    }\n",
              "</style>\n",
              "<table border=\"1\" class=\"dataframe\">\n",
              "  <thead>\n",
              "    <tr style=\"text-align: right;\">\n",
              "      <th></th>\n",
              "      <th>event_id_cnty</th>\n",
              "      <th>event_date</th>\n",
              "      <th>year</th>\n",
              "      <th>time_precision</th>\n",
              "      <th>disorder_type</th>\n",
              "      <th>event_type</th>\n",
              "      <th>sub_event_type</th>\n",
              "      <th>actor1</th>\n",
              "      <th>assoc_actor_1</th>\n",
              "      <th>inter1</th>\n",
              "      <th>...</th>\n",
              "      <th>location</th>\n",
              "      <th>latitude</th>\n",
              "      <th>longitude</th>\n",
              "      <th>geo_precision</th>\n",
              "      <th>source</th>\n",
              "      <th>source_scale</th>\n",
              "      <th>notes</th>\n",
              "      <th>fatalities</th>\n",
              "      <th>tags</th>\n",
              "      <th>timestamp</th>\n",
              "    </tr>\n",
              "  </thead>\n",
              "  <tbody>\n",
              "    <tr>\n",
              "      <th>0</th>\n",
              "      <td>ISR38822</td>\n",
              "      <td>19 January 2024</td>\n",
              "      <td>2024</td>\n",
              "      <td>1</td>\n",
              "      <td>Political violence</td>\n",
              "      <td>Explosions/Remote violence</td>\n",
              "      <td>Shelling/artillery/missile attack</td>\n",
              "      <td>Hezbollah</td>\n",
              "      <td>NaN</td>\n",
              "      <td>3</td>\n",
              "      <td>...</td>\n",
              "      <td>Elon</td>\n",
              "      <td>33.0637</td>\n",
              "      <td>35.2201</td>\n",
              "      <td>2</td>\n",
              "      <td>Ynet</td>\n",
              "      <td>National</td>\n",
              "      <td>On 19 January 2024, Hezbollah forces in Lebano...</td>\n",
              "      <td>0</td>\n",
              "      <td>NaN</td>\n",
              "      <td>1705978255</td>\n",
              "    </tr>\n",
              "    <tr>\n",
              "      <th>1</th>\n",
              "      <td>ISR38830</td>\n",
              "      <td>19 January 2024</td>\n",
              "      <td>2024</td>\n",
              "      <td>1</td>\n",
              "      <td>Demonstrations</td>\n",
              "      <td>Protests</td>\n",
              "      <td>Peaceful protest</td>\n",
              "      <td>Protesters (Israel)</td>\n",
              "      <td>Military Forces of Israel (2022-)</td>\n",
              "      <td>6</td>\n",
              "      <td>...</td>\n",
              "      <td>Amikam</td>\n",
              "      <td>32.5635</td>\n",
              "      <td>35.0208</td>\n",
              "      <td>1</td>\n",
              "      <td>Israel Hayom</td>\n",
              "      <td>National</td>\n",
              "      <td>On 19 January 2024, army reservists and relati...</td>\n",
              "      <td>0</td>\n",
              "      <td>crowd size=no report</td>\n",
              "      <td>1705978255</td>\n",
              "    </tr>\n",
              "  </tbody>\n",
              "</table>\n",
              "<p>2 rows × 28 columns</p>\n",
              "</div>\n",
              "    <div class=\"colab-df-buttons\">\n",
              "\n",
              "  <div class=\"colab-df-container\">\n",
              "    <button class=\"colab-df-convert\" onclick=\"convertToInteractive('df-38dc4820-6bdc-4ee6-b75b-f932615e02f6')\"\n",
              "            title=\"Convert this dataframe to an interactive table.\"\n",
              "            style=\"display:none;\">\n",
              "\n",
              "  <svg xmlns=\"http://www.w3.org/2000/svg\" height=\"24px\" viewBox=\"0 -960 960 960\">\n",
              "    <path d=\"M120-120v-720h720v720H120Zm60-500h600v-160H180v160Zm220 220h160v-160H400v160Zm0 220h160v-160H400v160ZM180-400h160v-160H180v160Zm440 0h160v-160H620v160ZM180-180h160v-160H180v160Zm440 0h160v-160H620v160Z\"/>\n",
              "  </svg>\n",
              "    </button>\n",
              "\n",
              "  <style>\n",
              "    .colab-df-container {\n",
              "      display:flex;\n",
              "      gap: 12px;\n",
              "    }\n",
              "\n",
              "    .colab-df-convert {\n",
              "      background-color: #E8F0FE;\n",
              "      border: none;\n",
              "      border-radius: 50%;\n",
              "      cursor: pointer;\n",
              "      display: none;\n",
              "      fill: #1967D2;\n",
              "      height: 32px;\n",
              "      padding: 0 0 0 0;\n",
              "      width: 32px;\n",
              "    }\n",
              "\n",
              "    .colab-df-convert:hover {\n",
              "      background-color: #E2EBFA;\n",
              "      box-shadow: 0px 1px 2px rgba(60, 64, 67, 0.3), 0px 1px 3px 1px rgba(60, 64, 67, 0.15);\n",
              "      fill: #174EA6;\n",
              "    }\n",
              "\n",
              "    .colab-df-buttons div {\n",
              "      margin-bottom: 4px;\n",
              "    }\n",
              "\n",
              "    [theme=dark] .colab-df-convert {\n",
              "      background-color: #3B4455;\n",
              "      fill: #D2E3FC;\n",
              "    }\n",
              "\n",
              "    [theme=dark] .colab-df-convert:hover {\n",
              "      background-color: #434B5C;\n",
              "      box-shadow: 0px 1px 3px 1px rgba(0, 0, 0, 0.15);\n",
              "      filter: drop-shadow(0px 1px 2px rgba(0, 0, 0, 0.3));\n",
              "      fill: #FFFFFF;\n",
              "    }\n",
              "  </style>\n",
              "\n",
              "    <script>\n",
              "      const buttonEl =\n",
              "        document.querySelector('#df-38dc4820-6bdc-4ee6-b75b-f932615e02f6 button.colab-df-convert');\n",
              "      buttonEl.style.display =\n",
              "        google.colab.kernel.accessAllowed ? 'block' : 'none';\n",
              "\n",
              "      async function convertToInteractive(key) {\n",
              "        const element = document.querySelector('#df-38dc4820-6bdc-4ee6-b75b-f932615e02f6');\n",
              "        const dataTable =\n",
              "          await google.colab.kernel.invokeFunction('convertToInteractive',\n",
              "                                                    [key], {});\n",
              "        if (!dataTable) return;\n",
              "\n",
              "        const docLinkHtml = 'Like what you see? Visit the ' +\n",
              "          '<a target=\"_blank\" href=https://colab.research.google.com/notebooks/data_table.ipynb>data table notebook</a>'\n",
              "          + ' to learn more about interactive tables.';\n",
              "        element.innerHTML = '';\n",
              "        dataTable['output_type'] = 'display_data';\n",
              "        await google.colab.output.renderOutput(dataTable, element);\n",
              "        const docLink = document.createElement('div');\n",
              "        docLink.innerHTML = docLinkHtml;\n",
              "        element.appendChild(docLink);\n",
              "      }\n",
              "    </script>\n",
              "  </div>\n",
              "\n",
              "\n",
              "<div id=\"df-8d91c132-d776-4aae-ba7b-df93c35fdfd2\">\n",
              "  <button class=\"colab-df-quickchart\" onclick=\"quickchart('df-8d91c132-d776-4aae-ba7b-df93c35fdfd2')\"\n",
              "            title=\"Suggest charts\"\n",
              "            style=\"display:none;\">\n",
              "\n",
              "<svg xmlns=\"http://www.w3.org/2000/svg\" height=\"24px\"viewBox=\"0 0 24 24\"\n",
              "     width=\"24px\">\n",
              "    <g>\n",
              "        <path d=\"M19 3H5c-1.1 0-2 .9-2 2v14c0 1.1.9 2 2 2h14c1.1 0 2-.9 2-2V5c0-1.1-.9-2-2-2zM9 17H7v-7h2v7zm4 0h-2V7h2v10zm4 0h-2v-4h2v4z\"/>\n",
              "    </g>\n",
              "</svg>\n",
              "  </button>\n",
              "\n",
              "<style>\n",
              "  .colab-df-quickchart {\n",
              "      --bg-color: #E8F0FE;\n",
              "      --fill-color: #1967D2;\n",
              "      --hover-bg-color: #E2EBFA;\n",
              "      --hover-fill-color: #174EA6;\n",
              "      --disabled-fill-color: #AAA;\n",
              "      --disabled-bg-color: #DDD;\n",
              "  }\n",
              "\n",
              "  [theme=dark] .colab-df-quickchart {\n",
              "      --bg-color: #3B4455;\n",
              "      --fill-color: #D2E3FC;\n",
              "      --hover-bg-color: #434B5C;\n",
              "      --hover-fill-color: #FFFFFF;\n",
              "      --disabled-bg-color: #3B4455;\n",
              "      --disabled-fill-color: #666;\n",
              "  }\n",
              "\n",
              "  .colab-df-quickchart {\n",
              "    background-color: var(--bg-color);\n",
              "    border: none;\n",
              "    border-radius: 50%;\n",
              "    cursor: pointer;\n",
              "    display: none;\n",
              "    fill: var(--fill-color);\n",
              "    height: 32px;\n",
              "    padding: 0;\n",
              "    width: 32px;\n",
              "  }\n",
              "\n",
              "  .colab-df-quickchart:hover {\n",
              "    background-color: var(--hover-bg-color);\n",
              "    box-shadow: 0 1px 2px rgba(60, 64, 67, 0.3), 0 1px 3px 1px rgba(60, 64, 67, 0.15);\n",
              "    fill: var(--button-hover-fill-color);\n",
              "  }\n",
              "\n",
              "  .colab-df-quickchart-complete:disabled,\n",
              "  .colab-df-quickchart-complete:disabled:hover {\n",
              "    background-color: var(--disabled-bg-color);\n",
              "    fill: var(--disabled-fill-color);\n",
              "    box-shadow: none;\n",
              "  }\n",
              "\n",
              "  .colab-df-spinner {\n",
              "    border: 2px solid var(--fill-color);\n",
              "    border-color: transparent;\n",
              "    border-bottom-color: var(--fill-color);\n",
              "    animation:\n",
              "      spin 1s steps(1) infinite;\n",
              "  }\n",
              "\n",
              "  @keyframes spin {\n",
              "    0% {\n",
              "      border-color: transparent;\n",
              "      border-bottom-color: var(--fill-color);\n",
              "      border-left-color: var(--fill-color);\n",
              "    }\n",
              "    20% {\n",
              "      border-color: transparent;\n",
              "      border-left-color: var(--fill-color);\n",
              "      border-top-color: var(--fill-color);\n",
              "    }\n",
              "    30% {\n",
              "      border-color: transparent;\n",
              "      border-left-color: var(--fill-color);\n",
              "      border-top-color: var(--fill-color);\n",
              "      border-right-color: var(--fill-color);\n",
              "    }\n",
              "    40% {\n",
              "      border-color: transparent;\n",
              "      border-right-color: var(--fill-color);\n",
              "      border-top-color: var(--fill-color);\n",
              "    }\n",
              "    60% {\n",
              "      border-color: transparent;\n",
              "      border-right-color: var(--fill-color);\n",
              "    }\n",
              "    80% {\n",
              "      border-color: transparent;\n",
              "      border-right-color: var(--fill-color);\n",
              "      border-bottom-color: var(--fill-color);\n",
              "    }\n",
              "    90% {\n",
              "      border-color: transparent;\n",
              "      border-bottom-color: var(--fill-color);\n",
              "    }\n",
              "  }\n",
              "</style>\n",
              "\n",
              "  <script>\n",
              "    async function quickchart(key) {\n",
              "      const quickchartButtonEl =\n",
              "        document.querySelector('#' + key + ' button');\n",
              "      quickchartButtonEl.disabled = true;  // To prevent multiple clicks.\n",
              "      quickchartButtonEl.classList.add('colab-df-spinner');\n",
              "      try {\n",
              "        const charts = await google.colab.kernel.invokeFunction(\n",
              "            'suggestCharts', [key], {});\n",
              "      } catch (error) {\n",
              "        console.error('Error during call to suggestCharts:', error);\n",
              "      }\n",
              "      quickchartButtonEl.classList.remove('colab-df-spinner');\n",
              "      quickchartButtonEl.classList.add('colab-df-quickchart-complete');\n",
              "    }\n",
              "    (() => {\n",
              "      let quickchartButtonEl =\n",
              "        document.querySelector('#df-8d91c132-d776-4aae-ba7b-df93c35fdfd2 button');\n",
              "      quickchartButtonEl.style.display =\n",
              "        google.colab.kernel.accessAllowed ? 'block' : 'none';\n",
              "    })();\n",
              "  </script>\n",
              "</div>\n",
              "\n",
              "    </div>\n",
              "  </div>\n"
            ],
            "application/vnd.google.colaboratory.intrinsic+json": {
              "type": "dataframe",
              "variable_name": "data"
            }
          },
          "metadata": {},
          "execution_count": 19
        }
      ]
    },
    {
      "cell_type": "code",
      "source": [
        "data.info()"
      ],
      "metadata": {
        "id": "hOpiV8oEt-zb",
        "outputId": "c7e58e79-7f6d-4529-ab46-5e13e76f7938",
        "colab": {
          "base_uri": "https://localhost:8080/"
        }
      },
      "id": "hOpiV8oEt-zb",
      "execution_count": 5,
      "outputs": [
        {
          "output_type": "stream",
          "name": "stdout",
          "text": [
            "<class 'pandas.core.frame.DataFrame'>\n",
            "RangeIndex: 18090 entries, 0 to 18089\n",
            "Data columns (total 28 columns):\n",
            " #   Column              Non-Null Count  Dtype  \n",
            "---  ------              --------------  -----  \n",
            " 0   event_id_cnty       18090 non-null  object \n",
            " 1   event_date          18090 non-null  object \n",
            " 2   year                18090 non-null  int64  \n",
            " 3   time_precision      18090 non-null  int64  \n",
            " 4   disorder_type       18090 non-null  object \n",
            " 5   event_type          18090 non-null  object \n",
            " 6   sub_event_type      18090 non-null  object \n",
            " 7   actor1              18090 non-null  object \n",
            " 8   assoc_actor_1       2515 non-null   object \n",
            " 9   inter1              18090 non-null  int64  \n",
            " 10  interaction         18090 non-null  int64  \n",
            " 11  civilian_targeting  6458 non-null   object \n",
            " 12  iso                 18090 non-null  int64  \n",
            " 13  region              18090 non-null  object \n",
            " 14  country             18090 non-null  object \n",
            " 15  admin1              18090 non-null  object \n",
            " 16  admin2              18080 non-null  object \n",
            " 17  admin3              2855 non-null   object \n",
            " 18  location            18090 non-null  object \n",
            " 19  latitude            18090 non-null  float64\n",
            " 20  longitude           18090 non-null  float64\n",
            " 21  geo_precision       18090 non-null  int64  \n",
            " 22  source              18090 non-null  object \n",
            " 23  source_scale        18090 non-null  object \n",
            " 24  notes               18090 non-null  object \n",
            " 25  fatalities          18090 non-null  int64  \n",
            " 26  tags                4196 non-null   object \n",
            " 27  timestamp           18090 non-null  int64  \n",
            "dtypes: float64(2), int64(8), object(18)\n",
            "memory usage: 3.9+ MB\n"
          ]
        }
      ]
    },
    {
      "cell_type": "code",
      "execution_count": 22,
      "id": "353fc04b-141a-4a39-b989-f66ca66b9067",
      "metadata": {
        "id": "353fc04b-141a-4a39-b989-f66ca66b9067",
        "colab": {
          "base_uri": "https://localhost:8080/"
        },
        "outputId": "c6128b94-70a2-48f3-a969-bc7d24738d51"
      },
      "outputs": [
        {
          "output_type": "stream",
          "name": "stdout",
          "text": [
            "Number of incidents per day:          event_date    0\n",
            "0  01 December 2023  229\n",
            "1   01 January 2024  133\n",
            "2  01 November 2023  232\n",
            "3   01 October 2023   42\n",
            "4  02 December 2023  181\n"
          ]
        }
      ],
      "source": [
        "## 1.How many incidents occurred each day during the specified period?\n",
        "\n",
        "daily_incidents = data.groupby('event_date').size().reset_index()\n",
        "\n",
        "print(\"Number of incidents per day:\", daily_incidents.head())\n",
        "\n"
      ]
    },
    {
      "cell_type": "code",
      "execution_count": null,
      "id": "118b5d50-ec24-4129-803a-eb0ce66b7a10",
      "metadata": {
        "id": "118b5d50-ec24-4129-803a-eb0ce66b7a10",
        "outputId": "c75274fe-a11f-48f4-8688-eacc0f7a1b82",
        "colab": {
          "base_uri": "https://localhost:8080/"
        }
      },
      "outputs": [
        {
          "output_type": "stream",
          "name": "stdout",
          "text": [
            "Duplicate events with the same fatalities:\n",
            "      event_id_cnty       event_date     location  fatalities\n",
            "4          ISR38868  19 January 2024        Haifa           0\n",
            "5          ISR38868  19 January 2024        Haifa           0\n",
            "6          ISR38869  19 January 2024         Akko           0\n",
            "7          ISR38869  19 January 2024         Akko           0\n",
            "8          ISR38870  19 January 2024     Nahal Oz           0\n",
            "...             ...              ...          ...         ...\n",
            "18085      PSE36552  01 October 2023      Bayt El           0\n",
            "18086      PSE36553  01 October 2023  Turmus Ayya           0\n",
            "18087      PSE36553  01 October 2023  Turmus Ayya           0\n",
            "18088      ISR16135  01 October 2023      Metulla           0\n",
            "18089      ISR16135  01 October 2023      Metulla           0\n",
            "\n",
            "[15784 rows x 4 columns]\n"
          ]
        }
      ],
      "source": [
        "## 2.How to check the duplicates in event_id which have same fatalities report\n",
        "\n",
        "duplicates = data[data.duplicated(subset=['event_id_cnty', 'fatalities'], keep=False)]\n",
        "\n",
        "print(\"Duplicate events with the same fatalities:\")\n",
        "\n",
        "print(duplicates[['event_id_cnty', 'event_date', 'location', 'fatalities']])\n"
      ]
    },
    {
      "cell_type": "code",
      "execution_count": 24,
      "id": "dde38376-a354-4f43-a58a-d55d7de69c61",
      "metadata": {
        "id": "dde38376-a354-4f43-a58a-d55d7de69c61",
        "outputId": "ccdf0146-13cc-4793-966a-f943f16b4c78",
        "colab": {
          "base_uri": "https://localhost:8080/"
        }
      },
      "outputs": [
        {
          "output_type": "stream",
          "name": "stdout",
          "text": [
            "           event_date    country  fatalities\n",
            "0    01 December 2023     Israel           0\n",
            "1    01 December 2023  Palestine         354\n",
            "2     01 January 2024     Israel           0\n",
            "3     01 January 2024  Palestine         372\n",
            "4    01 November 2023     Israel           2\n",
            "..                ...        ...         ...\n",
            "215   30 October 2023  Palestine         310\n",
            "216  31 December 2023     Israel           0\n",
            "217  31 December 2023  Palestine         358\n",
            "218   31 October 2023     Israel           0\n",
            "219   31 October 2023  Palestine         774\n",
            "\n",
            "[220 rows x 3 columns]\n"
          ]
        }
      ],
      "source": [
        "## 3.What is the sum of total fatalities per day in each country?\n",
        "\n",
        "fatalities = data.groupby(['event_date', 'country'], as_index=False)['fatalities'].sum()\n",
        "\n",
        "print(fatalities)\n"
      ]
    },
    {
      "cell_type": "code",
      "execution_count": 11,
      "id": "ff0bf8b1-61aa-4c60-80b6-fe5d0c76098a",
      "metadata": {
        "id": "ff0bf8b1-61aa-4c60-80b6-fe5d0c76098a",
        "colab": {
          "base_uri": "https://localhost:8080/"
        },
        "outputId": "0010e78e-969e-445c-dbeb-6c436a7af446"
      },
      "outputs": [
        {
          "output_type": "stream",
          "name": "stdout",
          "text": [
            "     longitude  latitude  fatalities\n",
            "0      34.2226   31.3474           2\n",
            "1      34.2299   31.3294           0\n",
            "2      34.2414   31.3098         196\n",
            "3      34.2482   31.2842          76\n",
            "4      34.2532   31.2718          50\n",
            "..         ...       ...         ...\n",
            "731    35.6098   33.1717           0\n",
            "732    35.6384   32.7827           0\n",
            "733    35.6387   33.2301           0\n",
            "734    35.6584   33.1959           0\n",
            "735    35.6773   33.2407           0\n",
            "\n",
            "[736 rows x 3 columns]\n"
          ]
        }
      ],
      "source": [
        "## 4.Total no.of fatalities based on longitudes and latitudes\n",
        "\n",
        "fatalities = data.groupby(['longitude', 'latitude'], as_index=False)['fatalities'].sum()\n",
        "\n",
        "print(fatalities)\n"
      ]
    },
    {
      "cell_type": "code",
      "execution_count": 12,
      "id": "7f700946-4e1b-4498-a10b-b1eee0233f94",
      "metadata": {
        "id": "7f700946-4e1b-4498-a10b-b1eee0233f94",
        "colab": {
          "base_uri": "https://localhost:8080/"
        },
        "outputId": "55fc7534-9b1e-4727-b66c-6bf88f41c2f8"
      },
      "outputs": [
        {
          "output_type": "stream",
          "name": "stdout",
          "text": [
            "Top 3 reported event types: event_type\n",
            "Explosions/Remote violence    7325\n",
            "Riots                         3672\n",
            "Battles                       2920\n",
            "Name: count, dtype: int64\n"
          ]
        }
      ],
      "source": [
        "## 5.What are the top 3 types of events reported?\n",
        "\n",
        "top_event = data['event_type'].value_counts().nlargest(3)\n",
        "\n",
        "print(\"Top 3 reported event types:\",top_event)"
      ]
    },
    {
      "cell_type": "code",
      "execution_count": 14,
      "id": "9b31b500-f7af-486b-bc24-8fc99ce5b410",
      "metadata": {
        "id": "9b31b500-f7af-486b-bc24-8fc99ce5b410",
        "colab": {
          "base_uri": "https://localhost:8080/"
        },
        "outputId": "9c895cf6-d0f3-46d2-f5fd-a8197ed8e7ab"
      },
      "outputs": [
        {
          "output_type": "stream",
          "name": "stdout",
          "text": [
            "Average number of incidents per location: 24.71311475409836\n"
          ]
        }
      ],
      "source": [
        "## 6.What is the average number of incidents per location?\n",
        "\n",
        "incidents = data['location'].value_counts()\n",
        "\n",
        "average_incidents = incidents.mean()\n",
        "\n",
        "print(\"Average number of incidents per location:\", average_incidents)\n"
      ]
    },
    {
      "cell_type": "code",
      "execution_count": 16,
      "id": "e2fdbc2c-514c-489a-8b14-2e429c9ac96e",
      "metadata": {
        "id": "e2fdbc2c-514c-489a-8b14-2e429c9ac96e",
        "colab": {
          "base_uri": "https://localhost:8080/"
        },
        "outputId": "fa9c1a4a-916e-4e14-ce18-9560a2476d0e"
      },
      "outputs": [
        {
          "output_type": "stream",
          "name": "stdout",
          "text": [
            "Number of incidents in each 'admin1' region: admin1\n",
            "Gaza Strip    7680\n",
            "West Bank     7547\n",
            "HaDarom       1174\n",
            "HaZafon        880\n",
            "HaMerkaz       388\n",
            "Tel Aviv       255\n",
            "Jerusalem       93\n",
            "Haifa           73\n",
            "Name: count, dtype: int64\n"
          ]
        }
      ],
      "source": [
        "## 7.How many incidents occurred in admin1 (e.g., Gaza, West Bank)?\n",
        "\n",
        "incidents = data['admin1'].value_counts()\n",
        "\n",
        "print(\"Number of incidents in each 'admin1' region:\", incidents)\n"
      ]
    },
    {
      "cell_type": "code",
      "execution_count": 3,
      "id": "3bc379bc-6a43-4018-bbfc-5e1bca4a200a",
      "metadata": {
        "id": "3bc379bc-6a43-4018-bbfc-5e1bca4a200a",
        "colab": {
          "base_uri": "https://localhost:8080/"
        },
        "outputId": "5f8c885d-648a-4e2d-af7f-2de6ba0866c9"
      },
      "outputs": [
        {
          "output_type": "stream",
          "name": "stdout",
          "text": [
            "Most common event type in Palestine: Explosions/Remote violence\n"
          ]
        }
      ],
      "source": [
        "## 8.What is the most common incident or event type in Palestine?\n",
        "\n",
        "palestine = data[data['country'] == 'Palestine']\n",
        "\n",
        "common_palestine = palestine ['event_type'].value_counts().idxmax()\n",
        "\n",
        "print(\"Most common event type in Palestine:\", common_palestine)\n"
      ]
    },
    {
      "cell_type": "code",
      "execution_count": 5,
      "id": "fa625d9c-4bf7-49f7-9a3f-0461e12c7db5",
      "metadata": {
        "id": "fa625d9c-4bf7-49f7-9a3f-0461e12c7db5",
        "colab": {
          "base_uri": "https://localhost:8080/"
        },
        "outputId": "916db899-8259-49f0-fd7d-a96ae21615f0"
      },
      "outputs": [
        {
          "output_type": "stream",
          "name": "stdout",
          "text": [
            "Percentage of event types resulting in at least one fatality: 20.80707573244887 %\n"
          ]
        }
      ],
      "source": [
        "## 9.What percentage of event types resulted in at least one fatality?\n",
        "\n",
        "fatalities = data[data['fatalities'] > 0]\n",
        "\n",
        "percentage_fatalities = (len(fatalities) / len(data)) * 100\n",
        "\n",
        "print(\"Percentage of event types resulting in at least one fatality:\", percentage_fatalities, \"%\")\n"
      ]
    },
    {
      "cell_type": "code",
      "execution_count": 6,
      "id": "e06e8e2a-1be4-4e80-ae65-f92575f72309",
      "metadata": {
        "id": "e06e8e2a-1be4-4e80-ae65-f92575f72309",
        "colab": {
          "base_uri": "https://localhost:8080/"
        },
        "outputId": "876f6531-1175-4c15-c7d0-8c54f8125696"
      },
      "outputs": [
        {
          "output_type": "stream",
          "name": "stdout",
          "text": [
            "Top 5 most frequent combinations of 'event_type' and 'country':\n",
            "                   event_type    country  count\n",
            "3  Explosions/Remote violence  Palestine   6520\n",
            "7                       Riots  Palestine   3657\n",
            "1                     Battles  Palestine   2538\n",
            "8      Strategic developments     Israel   1401\n",
            "9      Strategic developments  Palestine   1100\n"
          ]
        }
      ],
      "source": [
        "## 10.What are the top 5 most frequent combinations of any two columns?\n",
        "\n",
        "top_combinations = data.groupby(['event_type', 'country']).size().reset_index(name='count')\n",
        "\n",
        "top_5_combinations = top_combinations.sort_values(by='count', ascending=False).head(5)\n",
        "\n",
        "print(\"Top 5 most frequent combinations of 'event_type' and 'country':\")\n",
        "\n",
        "print(top_5_combinations)\n"
      ]
    },
    {
      "cell_type": "code",
      "execution_count": 2,
      "id": "18985f24-8272-4566-bb8d-c12a968b03f9",
      "metadata": {
        "id": "18985f24-8272-4566-bb8d-c12a968b03f9",
        "colab": {
          "base_uri": "https://localhost:8080/"
        },
        "outputId": "987790aa-06e9-4943-ef7b-a502df903416"
      },
      "outputs": [
        {
          "output_type": "stream",
          "name": "stdout",
          "text": [
            "   fatalities fatality_category\n",
            "0           0               Low\n",
            "1           0               Low\n",
            "2           0               Low\n",
            "3           0               Low\n",
            "4           0               Low\n"
          ]
        }
      ],
      "source": [
        "## 11.Categorize rows based on a condition where deaths or fatalities are greater than 30 as high or else low\n",
        "\n",
        "data['fatality_category'] = data['fatalities'].apply(lambda x: 'High' if x > 30 else 'Low')\n",
        "\n",
        "print(data[['fatalities', 'fatality_category']].head())\n"
      ]
    },
    {
      "cell_type": "code",
      "execution_count": 3,
      "id": "c0322fd1-6222-4ce0-a699-6778437b7a3b",
      "metadata": {
        "id": "c0322fd1-6222-4ce0-a699-6778437b7a3b",
        "colab": {
          "base_uri": "https://localhost:8080/"
        },
        "outputId": "69063a6b-dda6-4a00-808d-9b46bb864088"
      },
      "outputs": [
        {
          "output_type": "stream",
          "name": "stdout",
          "text": [
            "Mean of each numeric column:\n",
            "event_id_cnty                  NaN\n",
            "event_date                     NaN\n",
            "year                  2.023139e+03\n",
            "time_precision        1.002819e+00\n",
            "disorder_type                  NaN\n",
            "event_type                     NaN\n",
            "sub_event_type                 NaN\n",
            "actor1                         NaN\n",
            "assoc_actor_1                  NaN\n",
            "inter1                6.022443e+00\n",
            "interaction           5.522521e+01\n",
            "civilian_targeting             NaN\n",
            "iso                   2.909847e+02\n",
            "region                         NaN\n",
            "country                        NaN\n",
            "admin1                         NaN\n",
            "admin2                         NaN\n",
            "admin3                         NaN\n",
            "location                       NaN\n",
            "latitude              3.178126e+01\n",
            "longitude             3.480987e+01\n",
            "geo_precision         1.352570e+00\n",
            "source                         NaN\n",
            "source_scale                   NaN\n",
            "notes                          NaN\n",
            "fatalities            2.897236e+00\n",
            "tags                           NaN\n",
            "timestamp             1.701853e+09\n",
            "fatality_category              NaN\n",
            "dtype: float64\n"
          ]
        }
      ],
      "source": [
        "## 12.Find mean of each numeric column using apply function?\n",
        "\n",
        "mean_values = data.apply(lambda x: x.mean() if x.dtype in ['int64', 'float64'] else None)\n",
        "\n",
        "print(\"Mean of each numeric column:\")\n",
        "\n",
        "print(mean_values)\n"
      ]
    },
    {
      "cell_type": "code",
      "execution_count": 4,
      "id": "e0c919b0-b09a-4867-b8a0-f9faf05052ef",
      "metadata": {
        "id": "e0c919b0-b09a-4867-b8a0-f9faf05052ef",
        "colab": {
          "base_uri": "https://localhost:8080/"
        },
        "outputId": "9a77a347-8b7d-4dd2-e9ba-1d073906a42c"
      },
      "outputs": [
        {
          "output_type": "stream",
          "name": "stdout",
          "text": [
            "Sum of each numeric column:\n",
            "event_id_cnty                  NaN\n",
            "event_date                     NaN\n",
            "year                  3.659859e+07\n",
            "time_precision        1.814100e+04\n",
            "disorder_type                  NaN\n",
            "event_type                     NaN\n",
            "sub_event_type                 NaN\n",
            "actor1                         NaN\n",
            "assoc_actor_1                  NaN\n",
            "inter1                1.089460e+05\n",
            "interaction           9.990240e+05\n",
            "civilian_targeting             NaN\n",
            "iso                   5.263913e+06\n",
            "region                         NaN\n",
            "country                        NaN\n",
            "admin1                         NaN\n",
            "admin2                         NaN\n",
            "admin3                         NaN\n",
            "location                       NaN\n",
            "latitude              5.749230e+05\n",
            "longitude             6.297105e+05\n",
            "geo_precision         2.446800e+04\n",
            "source                         NaN\n",
            "source_scale                   NaN\n",
            "notes                          NaN\n",
            "fatalities            5.241100e+04\n",
            "tags                           NaN\n",
            "timestamp             3.078651e+13\n",
            "fatality_category              NaN\n",
            "dtype: float64\n"
          ]
        }
      ],
      "source": [
        "## 13.What is the sum of each numeric column using apply function?\n",
        "\n",
        "sum_values = data.apply(lambda x: x.sum() if x.dtype in ['int64', 'float64'] else None)\n",
        "\n",
        "print(\"Sum of each numeric column:\")\n",
        "\n",
        "print(sum_values)\n"
      ]
    },
    {
      "cell_type": "code",
      "execution_count": 27,
      "id": "4a7174d4-2c17-4f8e-96d8-054297564869",
      "metadata": {
        "id": "4a7174d4-2c17-4f8e-96d8-054297564869",
        "colab": {
          "base_uri": "https://localhost:8080/"
        },
        "outputId": "0d5c6728-ebb7-4940-fbd5-1b0e96d4caf8"
      },
      "outputs": [
        {
          "output_type": "stream",
          "name": "stdout",
          "text": [
            "Aggregations for 'fatalities' and 'interaction' in Palestine:\n",
            "         fatalities    interaction\n",
            "sum   49587.000000  940324.000000\n",
            "mean      3.256518      61.753727\n",
            "max     471.000000      88.000000\n"
          ]
        }
      ],
      "source": [
        "## 14.Calculate aggregations of any two numeric columns that involved a specific country or location?\n",
        "\n",
        "country_data = data[data['country'] == 'Palestine']\n",
        "\n",
        "aggregations = country_data[['fatalities', 'interaction']].agg({\n",
        "    'fatalities': ['sum', 'mean', 'max'],\n",
        "    'interaction': ['sum', 'mean', 'max']\n",
        "})\n",
        "\n",
        "print(\"Aggregations for 'fatalities' and 'interaction' in Palestine:\\n\", aggregations)"
      ]
    },
    {
      "cell_type": "code",
      "execution_count": 7,
      "id": "d694a650-fff2-4f82-85b2-44a0ec87b2d3",
      "metadata": {
        "id": "d694a650-fff2-4f82-85b2-44a0ec87b2d3",
        "colab": {
          "base_uri": "https://localhost:8080/"
        },
        "outputId": "69147563-792f-4e92-fa8d-01c0e981616a"
      },
      "outputs": [
        {
          "output_type": "stream",
          "name": "stdout",
          "text": [
            "Rows for event type 'Protests':\n",
            "  event_id_cnty       event_date  year  time_precision   disorder_type  \\\n",
            "1      ISR38830  19 January 2024  2024               1  Demonstrations   \n",
            "2      ISR38864  19 January 2024  2024               1  Demonstrations   \n",
            "3      ISR38867  19 January 2024  2024               1  Demonstrations   \n",
            "\n",
            "  event_type    sub_event_type               actor1  \\\n",
            "1   Protests  Peaceful protest  Protesters (Israel)   \n",
            "2   Protests  Peaceful protest  Protesters (Israel)   \n",
            "3   Protests  Peaceful protest  Protesters (Israel)   \n",
            "\n",
            "                       assoc_actor_1  inter1  ...  latitude longitude  \\\n",
            "1  Military Forces of Israel (2022-)       6  ...   32.5635   35.0208   \n",
            "2                  Students (Israel)       6  ...   32.0871   34.8875   \n",
            "3                     Women (Israel)       6  ...   32.0809   34.7806   \n",
            "\n",
            "   geo_precision        source source_scale  \\\n",
            "1              1  Israel Hayom     National   \n",
            "2              1       Haaretz     National   \n",
            "3              1       Haaretz     National   \n",
            "\n",
            "                                               notes fatalities  \\\n",
            "1  On 19 January 2024, army reservists and relati...          0   \n",
            "2  On 19 January 2024, dozens of high school stud...          0   \n",
            "3  On 19 January 2024, dozens of women and relati...          0   \n",
            "\n",
            "                   tags   timestamp  fatality_category  \n",
            "1  crowd size=no report  1705978255                Low  \n",
            "2     crowd size=dozens  1705978256                Low  \n",
            "3     crowd size=dozens  1705978256                Low  \n",
            "\n",
            "[3 rows x 29 columns]\n"
          ]
        }
      ],
      "source": [
        "## 15.Extract all rows for any specific event type\n",
        "\n",
        "protests_data = data[data['event_type'] == 'Protests']\n",
        "\n",
        "print(\"Rows for event type 'Protests':\")\n",
        "\n",
        "print(protests_data.head(3))\n"
      ]
    },
    {
      "cell_type": "code",
      "execution_count": 9,
      "id": "19f1d17b-84b1-48ad-9ae8-ba221dc2e28a",
      "metadata": {
        "id": "19f1d17b-84b1-48ad-9ae8-ba221dc2e28a",
        "colab": {
          "base_uri": "https://localhost:8080/"
        },
        "outputId": "7a4058cb-a3f8-4363-eb57-47292909f8b2"
      },
      "outputs": [
        {
          "output_type": "stream",
          "name": "stdout",
          "text": [
            "Minimum length of text in 'notes': 88\n",
            "Maximum length of text in 'notes': 1090\n"
          ]
        }
      ],
      "source": [
        "## 16.Determine the minimum and maximum length of text in the notes column\n",
        "\n",
        "data['notes_length'] = data['notes'].apply(len)\n",
        "\n",
        "min_length = data['notes_length'].min()\n",
        "\n",
        "max_length = data['notes_length'].max()\n",
        "\n",
        "print(\"Minimum length of text in 'notes':\", min_length)\n",
        "\n",
        "print(\"Maximum length of text in 'notes':\", max_length)\n"
      ]
    },
    {
      "cell_type": "code",
      "execution_count": 12,
      "id": "2a27b02a-e7cc-41bc-bfd1-5e6bb87d9de8",
      "metadata": {
        "id": "2a27b02a-e7cc-41bc-bfd1-5e6bb87d9de8",
        "colab": {
          "base_uri": "https://localhost:8080/"
        },
        "outputId": "9c6d230b-d330-4a03-9542-3132133ea9e5"
      },
      "outputs": [
        {
          "output_type": "stream",
          "name": "stdout",
          "text": [
            "Random sample of rows for the year 2023:      event_id_cnty        event_date  year  time_precision  \\\n",
            "2521      ISR38402  31 December 2023  2023               1   \n",
            "2522      ISR38402  31 December 2023  2023               1   \n",
            "\n",
            "           disorder_type                  event_type  \\\n",
            "2521  Political violence  Explosions/Remote violence   \n",
            "2522  Political violence  Explosions/Remote violence   \n",
            "\n",
            "                         sub_event_type                             actor1  \\\n",
            "2521  Shelling/artillery/missile attack                          Hezbollah   \n",
            "2522  Shelling/artillery/missile attack  Military Forces of Israel (2022-)   \n",
            "\n",
            "     assoc_actor_1  inter1  ...  longitude geo_precision           source  \\\n",
            "2521           NaN       3  ...    35.5439             2  Globes; Haaretz   \n",
            "2522           NaN       1  ...    35.5439             2  Globes; Haaretz   \n",
            "\n",
            "     source_scale                                              notes  \\\n",
            "2521     National  On 31 December 2023, Hezbollah forces fired tw...   \n",
            "2522     National  On 31 December 2023, Hezbollah forces fired tw...   \n",
            "\n",
            "     fatalities tags   timestamp fatality_category  notes_length  \n",
            "2521          0  NaN  1704757981               Low           196  \n",
            "2522          0  NaN  1704757981               Low           196  \n",
            "\n",
            "[2 rows x 30 columns]\n"
          ]
        }
      ],
      "source": [
        "## 17.Get a random sample of rows for any specific year\n",
        "\n",
        "year_2023 = data[data['year'] == 2023]\n",
        "\n",
        "random_sample = year_2023.head(2)\n",
        "\n",
        "print(\"Random sample of rows for the year 2023:\", random_sample)\n"
      ]
    },
    {
      "cell_type": "code",
      "execution_count": 13,
      "id": "032cbad2-866c-4025-a7f6-88949f093283",
      "metadata": {
        "id": "032cbad2-866c-4025-a7f6-88949f093283",
        "colab": {
          "base_uri": "https://localhost:8080/"
        },
        "outputId": "296163ec-1472-48ae-e206-780fb701a400"
      },
      "outputs": [
        {
          "output_type": "stream",
          "name": "stdout",
          "text": [
            "Maximum value of each numeric column: event_id_cnty                  NaN\n",
            "event_date                     NaN\n",
            "year                  2.024000e+03\n",
            "time_precision        3.000000e+00\n",
            "disorder_type                  NaN\n",
            "event_type                     NaN\n",
            "sub_event_type                 NaN\n",
            "actor1                         NaN\n",
            "assoc_actor_1                  NaN\n",
            "inter1                8.000000e+00\n",
            "interaction           8.800000e+01\n",
            "civilian_targeting             NaN\n",
            "iso                   3.760000e+02\n",
            "region                         NaN\n",
            "country                        NaN\n",
            "admin1                         NaN\n",
            "admin2                         NaN\n",
            "admin3                         NaN\n",
            "location                       NaN\n",
            "latitude              3.327920e+01\n",
            "longitude             3.567730e+01\n",
            "geo_precision         3.000000e+00\n",
            "source                         NaN\n",
            "source_scale                   NaN\n",
            "notes                          NaN\n",
            "fatalities            4.710000e+02\n",
            "tags                           NaN\n",
            "timestamp             1.706035e+09\n",
            "fatality_category              NaN\n",
            "notes_length          1.090000e+03\n",
            "dtype: float64\n"
          ]
        }
      ],
      "source": [
        "## 18.Find the maximum value in each numeric column using apply\n",
        "\n",
        "max_values = data.apply(lambda x: x.max() if x.dtype in ['int64', 'float64'] else None)\n",
        "\n",
        "print(\"Maximum value of each numeric column:\", max_values)\n"
      ]
    },
    {
      "cell_type": "code",
      "execution_count": 14,
      "id": "a637189b-e178-4936-ba23-8cc3a65a7587",
      "metadata": {
        "id": "a637189b-e178-4936-ba23-8cc3a65a7587",
        "colab": {
          "base_uri": "https://localhost:8080/"
        },
        "outputId": "287433d0-0133-4bb5-c733-5ec56767499b"
      },
      "outputs": [
        {
          "output_type": "stream",
          "name": "stdout",
          "text": [
            "First row for each country:      country event_id_cnty       event_date  year  time_precision  \\\n",
            "0     Israel      ISR38822  19 January 2024  2024               1   \n",
            "1  Palestine      PSE45100  19 January 2024  2024               1   \n",
            "\n",
            "        disorder_type                  event_type  \\\n",
            "0  Political violence  Explosions/Remote violence   \n",
            "1  Political violence  Explosions/Remote violence   \n",
            "\n",
            "                      sub_event_type          actor1  \\\n",
            "0  Shelling/artillery/missile attack       Hezbollah   \n",
            "1  Shelling/artillery/missile attack  Hamas Movement   \n",
            "\n",
            "                       assoc_actor_1  ...  longitude  geo_precision  \\\n",
            "0  Military Forces of Israel (2022-)  ...    35.2201              2   \n",
            "1                Rioters (Palestine)  ...    34.4522              2   \n",
            "\n",
            "              source        source_scale  \\\n",
            "0               Ynet            National   \n",
            "1  Newpress; Twitter  New media-National   \n",
            "\n",
            "                                               notes fatalities  \\\n",
            "0  On 19 January 2024, Hezbollah forces in Lebano...          0   \n",
            "1  On 19 January 2024, Hamas militants targeted a...          0   \n",
            "\n",
            "                   tags   timestamp fatality_category  notes_length  \n",
            "0  crowd size=no report  1705978255               Low           230  \n",
            "1  crowd size=no report  1705978271               Low           283  \n",
            "\n",
            "[2 rows x 30 columns]\n",
            "\n",
            "Last row for each country:      country event_id_cnty       event_date  year  time_precision  \\\n",
            "0     Israel      ISR16135  01 October 2023  2023               1   \n",
            "1  Palestine      PSE36553  01 October 2023  2023               1   \n",
            "\n",
            "        disorder_type event_type sub_event_type  \\\n",
            "0  Political violence      Riots   Mob violence   \n",
            "1  Political violence      Riots   Mob violence   \n",
            "\n",
            "                              actor1          assoc_actor_1  ...  longitude  \\\n",
            "0  Military Forces of Israel (2022-)  Jewish Group (Israel)  ...    35.5795   \n",
            "1                 Civilians (Israel)      Settlers (Israel)  ...    35.2856   \n",
            "\n",
            "   geo_precision                                        source  \\\n",
            "0              2                    Arutz Sheva; Ma'ariv; Ynet   \n",
            "1              2  Long War Journal; Quds News Network; Twitter   \n",
            "\n",
            "         source_scale                                              notes  \\\n",
            "0            National  On 1 October 2023, Lebanese rioters threw ston...   \n",
            "1  New media-National  On 1 October 2023, Palestinian rioters threw s...   \n",
            "\n",
            "  fatalities                  tags   timestamp fatality_category  notes_length  \n",
            "0          0  crowd size=no report  1706035442               Low           231  \n",
            "1          0  crowd size=no report  1696881789               Low           202  \n",
            "\n",
            "[2 rows x 30 columns]\n"
          ]
        }
      ],
      "source": [
        "## 19.Find the first and last row for each group in a specific column\n",
        "\n",
        "first_rows = data.groupby('country').first().reset_index()\n",
        "\n",
        "last_rows = data.groupby('country').last().reset_index()\n",
        "\n",
        "print(\"First row for each country:\",first_rows)\n",
        "\n",
        "print(\"\\nLast row for each country:\",last_rows)"
      ]
    },
    {
      "cell_type": "code",
      "execution_count": 18,
      "id": "e7f20e82-8450-440f-a4f7-ba59a6a7d90f",
      "metadata": {
        "id": "e7f20e82-8450-440f-a4f7-ba59a6a7d90f",
        "colab": {
          "base_uri": "https://localhost:8080/"
        },
        "outputId": "57834481-23bc-4566-deb1-e0f51d778643"
      },
      "outputs": [
        {
          "output_type": "stream",
          "name": "stdout",
          "text": [
            "First row of 'fatalities' after sorting by 'country': 0\n"
          ]
        }
      ],
      "source": [
        "## 20.Find the first row a column (e.x., fatalities) after sorting the DataFrame by any another column(e.x.,country)\n",
        "\n",
        "sorted_data = data.sort_values(by='country')\n",
        "\n",
        "first_fatality = sorted_data['fatalities'].iloc[0]\n",
        "\n",
        "print(\"First row of 'fatalities' after sorting by 'country':\", first_fatality)\n",
        "\n"
      ]
    },
    {
      "cell_type": "code",
      "source": [],
      "metadata": {
        "id": "sg8SnKFqMy-s"
      },
      "id": "sg8SnKFqMy-s",
      "execution_count": null,
      "outputs": []
    }
  ],
  "metadata": {
    "kernelspec": {
      "display_name": "Python 3 (ipykernel)",
      "language": "python",
      "name": "python3"
    },
    "language_info": {
      "codemirror_mode": {
        "name": "ipython",
        "version": 3
      },
      "file_extension": ".py",
      "mimetype": "text/x-python",
      "name": "python",
      "nbconvert_exporter": "python",
      "pygments_lexer": "ipython3",
      "version": "3.11.7"
    },
    "colab": {
      "provenance": []
    }
  },
  "nbformat": 4,
  "nbformat_minor": 5
}