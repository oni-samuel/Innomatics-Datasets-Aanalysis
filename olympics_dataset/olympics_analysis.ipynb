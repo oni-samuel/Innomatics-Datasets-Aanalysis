{
  "cells": [
    {
      "cell_type": "markdown",
      "id": "0871ad4f-55a2-47af-ad09-38c24fe531ca",
      "metadata": {
        "id": "0871ad4f-55a2-47af-ad09-38c24fe531ca"
      },
      "source": [
        "link:-https://www.kaggle.com/datasets/stefanydeoliveira/summer-olympics-medals-1896-2024"
      ]
    },
    {
      "cell_type": "code",
      "source": [
        "import pandas as pd\n",
        "data = pd.read_csv(r'/content/sample_data/olympics_dataset.csv')\n",
        "data.head()"
      ],
      "metadata": {
        "id": "Ll5O8fj7Sm5H",
        "outputId": "4b4ce8f9-0158-4ae8-e1da-869a733729ff",
        "colab": {
          "base_uri": "https://localhost:8080/",
          "height": 206
        }
      },
      "id": "Ll5O8fj7Sm5H",
      "execution_count": 9,
      "outputs": [
        {
          "output_type": "execute_result",
          "data": {
            "text/plain": [
              "   player_id                   Name Sex            Team  NOC  Year  Season  \\\n",
              "0          0              A Dijiang   M           China  CHN  1992  Summer   \n",
              "1          1               A Lamusi   M           China  CHN  2012  Summer   \n",
              "2          2            Gunnar Aaby   M         Denmark  DEN  1920  Summer   \n",
              "3          3            Edgar Aabye   M  Denmark/Sweden  DEN  1900  Summer   \n",
              "4         26  Cornelia (-strannood)   F     Netherlands  NED  1932  Summer   \n",
              "\n",
              "          City       Sport                         Event     Medal  \n",
              "0    Barcelona  Basketball   Basketball Men's Basketball  No medal  \n",
              "1       London        Judo  Judo Men's Extra-Lightweight  No medal  \n",
              "2    Antwerpen    Football       Football Men's Football  No medal  \n",
              "3        Paris  Tug-Of-War   Tug-Of-War Men's Tug-Of-War      Gold  \n",
              "4  Los Angeles   Athletics  Athletics Women's 100 metres  No medal  "
            ],
            "text/html": [
              "\n",
              "  <div id=\"df-e87e5807-5b0f-475e-b2ce-e47f9672fbc6\" class=\"colab-df-container\">\n",
              "    <div>\n",
              "<style scoped>\n",
              "    .dataframe tbody tr th:only-of-type {\n",
              "        vertical-align: middle;\n",
              "    }\n",
              "\n",
              "    .dataframe tbody tr th {\n",
              "        vertical-align: top;\n",
              "    }\n",
              "\n",
              "    .dataframe thead th {\n",
              "        text-align: right;\n",
              "    }\n",
              "</style>\n",
              "<table border=\"1\" class=\"dataframe\">\n",
              "  <thead>\n",
              "    <tr style=\"text-align: right;\">\n",
              "      <th></th>\n",
              "      <th>player_id</th>\n",
              "      <th>Name</th>\n",
              "      <th>Sex</th>\n",
              "      <th>Team</th>\n",
              "      <th>NOC</th>\n",
              "      <th>Year</th>\n",
              "      <th>Season</th>\n",
              "      <th>City</th>\n",
              "      <th>Sport</th>\n",
              "      <th>Event</th>\n",
              "      <th>Medal</th>\n",
              "    </tr>\n",
              "  </thead>\n",
              "  <tbody>\n",
              "    <tr>\n",
              "      <th>0</th>\n",
              "      <td>0</td>\n",
              "      <td>A Dijiang</td>\n",
              "      <td>M</td>\n",
              "      <td>China</td>\n",
              "      <td>CHN</td>\n",
              "      <td>1992</td>\n",
              "      <td>Summer</td>\n",
              "      <td>Barcelona</td>\n",
              "      <td>Basketball</td>\n",
              "      <td>Basketball Men's Basketball</td>\n",
              "      <td>No medal</td>\n",
              "    </tr>\n",
              "    <tr>\n",
              "      <th>1</th>\n",
              "      <td>1</td>\n",
              "      <td>A Lamusi</td>\n",
              "      <td>M</td>\n",
              "      <td>China</td>\n",
              "      <td>CHN</td>\n",
              "      <td>2012</td>\n",
              "      <td>Summer</td>\n",
              "      <td>London</td>\n",
              "      <td>Judo</td>\n",
              "      <td>Judo Men's Extra-Lightweight</td>\n",
              "      <td>No medal</td>\n",
              "    </tr>\n",
              "    <tr>\n",
              "      <th>2</th>\n",
              "      <td>2</td>\n",
              "      <td>Gunnar Aaby</td>\n",
              "      <td>M</td>\n",
              "      <td>Denmark</td>\n",
              "      <td>DEN</td>\n",
              "      <td>1920</td>\n",
              "      <td>Summer</td>\n",
              "      <td>Antwerpen</td>\n",
              "      <td>Football</td>\n",
              "      <td>Football Men's Football</td>\n",
              "      <td>No medal</td>\n",
              "    </tr>\n",
              "    <tr>\n",
              "      <th>3</th>\n",
              "      <td>3</td>\n",
              "      <td>Edgar Aabye</td>\n",
              "      <td>M</td>\n",
              "      <td>Denmark/Sweden</td>\n",
              "      <td>DEN</td>\n",
              "      <td>1900</td>\n",
              "      <td>Summer</td>\n",
              "      <td>Paris</td>\n",
              "      <td>Tug-Of-War</td>\n",
              "      <td>Tug-Of-War Men's Tug-Of-War</td>\n",
              "      <td>Gold</td>\n",
              "    </tr>\n",
              "    <tr>\n",
              "      <th>4</th>\n",
              "      <td>26</td>\n",
              "      <td>Cornelia (-strannood)</td>\n",
              "      <td>F</td>\n",
              "      <td>Netherlands</td>\n",
              "      <td>NED</td>\n",
              "      <td>1932</td>\n",
              "      <td>Summer</td>\n",
              "      <td>Los Angeles</td>\n",
              "      <td>Athletics</td>\n",
              "      <td>Athletics Women's 100 metres</td>\n",
              "      <td>No medal</td>\n",
              "    </tr>\n",
              "  </tbody>\n",
              "</table>\n",
              "</div>\n",
              "    <div class=\"colab-df-buttons\">\n",
              "\n",
              "  <div class=\"colab-df-container\">\n",
              "    <button class=\"colab-df-convert\" onclick=\"convertToInteractive('df-e87e5807-5b0f-475e-b2ce-e47f9672fbc6')\"\n",
              "            title=\"Convert this dataframe to an interactive table.\"\n",
              "            style=\"display:none;\">\n",
              "\n",
              "  <svg xmlns=\"http://www.w3.org/2000/svg\" height=\"24px\" viewBox=\"0 -960 960 960\">\n",
              "    <path d=\"M120-120v-720h720v720H120Zm60-500h600v-160H180v160Zm220 220h160v-160H400v160Zm0 220h160v-160H400v160ZM180-400h160v-160H180v160Zm440 0h160v-160H620v160ZM180-180h160v-160H180v160Zm440 0h160v-160H620v160Z\"/>\n",
              "  </svg>\n",
              "    </button>\n",
              "\n",
              "  <style>\n",
              "    .colab-df-container {\n",
              "      display:flex;\n",
              "      gap: 12px;\n",
              "    }\n",
              "\n",
              "    .colab-df-convert {\n",
              "      background-color: #E8F0FE;\n",
              "      border: none;\n",
              "      border-radius: 50%;\n",
              "      cursor: pointer;\n",
              "      display: none;\n",
              "      fill: #1967D2;\n",
              "      height: 32px;\n",
              "      padding: 0 0 0 0;\n",
              "      width: 32px;\n",
              "    }\n",
              "\n",
              "    .colab-df-convert:hover {\n",
              "      background-color: #E2EBFA;\n",
              "      box-shadow: 0px 1px 2px rgba(60, 64, 67, 0.3), 0px 1px 3px 1px rgba(60, 64, 67, 0.15);\n",
              "      fill: #174EA6;\n",
              "    }\n",
              "\n",
              "    .colab-df-buttons div {\n",
              "      margin-bottom: 4px;\n",
              "    }\n",
              "\n",
              "    [theme=dark] .colab-df-convert {\n",
              "      background-color: #3B4455;\n",
              "      fill: #D2E3FC;\n",
              "    }\n",
              "\n",
              "    [theme=dark] .colab-df-convert:hover {\n",
              "      background-color: #434B5C;\n",
              "      box-shadow: 0px 1px 3px 1px rgba(0, 0, 0, 0.15);\n",
              "      filter: drop-shadow(0px 1px 2px rgba(0, 0, 0, 0.3));\n",
              "      fill: #FFFFFF;\n",
              "    }\n",
              "  </style>\n",
              "\n",
              "    <script>\n",
              "      const buttonEl =\n",
              "        document.querySelector('#df-e87e5807-5b0f-475e-b2ce-e47f9672fbc6 button.colab-df-convert');\n",
              "      buttonEl.style.display =\n",
              "        google.colab.kernel.accessAllowed ? 'block' : 'none';\n",
              "\n",
              "      async function convertToInteractive(key) {\n",
              "        const element = document.querySelector('#df-e87e5807-5b0f-475e-b2ce-e47f9672fbc6');\n",
              "        const dataTable =\n",
              "          await google.colab.kernel.invokeFunction('convertToInteractive',\n",
              "                                                    [key], {});\n",
              "        if (!dataTable) return;\n",
              "\n",
              "        const docLinkHtml = 'Like what you see? Visit the ' +\n",
              "          '<a target=\"_blank\" href=https://colab.research.google.com/notebooks/data_table.ipynb>data table notebook</a>'\n",
              "          + ' to learn more about interactive tables.';\n",
              "        element.innerHTML = '';\n",
              "        dataTable['output_type'] = 'display_data';\n",
              "        await google.colab.output.renderOutput(dataTable, element);\n",
              "        const docLink = document.createElement('div');\n",
              "        docLink.innerHTML = docLinkHtml;\n",
              "        element.appendChild(docLink);\n",
              "      }\n",
              "    </script>\n",
              "  </div>\n",
              "\n",
              "\n",
              "<div id=\"df-e6fbcf97-3da5-4864-abb5-f8b1ca9b9040\">\n",
              "  <button class=\"colab-df-quickchart\" onclick=\"quickchart('df-e6fbcf97-3da5-4864-abb5-f8b1ca9b9040')\"\n",
              "            title=\"Suggest charts\"\n",
              "            style=\"display:none;\">\n",
              "\n",
              "<svg xmlns=\"http://www.w3.org/2000/svg\" height=\"24px\"viewBox=\"0 0 24 24\"\n",
              "     width=\"24px\">\n",
              "    <g>\n",
              "        <path d=\"M19 3H5c-1.1 0-2 .9-2 2v14c0 1.1.9 2 2 2h14c1.1 0 2-.9 2-2V5c0-1.1-.9-2-2-2zM9 17H7v-7h2v7zm4 0h-2V7h2v10zm4 0h-2v-4h2v4z\"/>\n",
              "    </g>\n",
              "</svg>\n",
              "  </button>\n",
              "\n",
              "<style>\n",
              "  .colab-df-quickchart {\n",
              "      --bg-color: #E8F0FE;\n",
              "      --fill-color: #1967D2;\n",
              "      --hover-bg-color: #E2EBFA;\n",
              "      --hover-fill-color: #174EA6;\n",
              "      --disabled-fill-color: #AAA;\n",
              "      --disabled-bg-color: #DDD;\n",
              "  }\n",
              "\n",
              "  [theme=dark] .colab-df-quickchart {\n",
              "      --bg-color: #3B4455;\n",
              "      --fill-color: #D2E3FC;\n",
              "      --hover-bg-color: #434B5C;\n",
              "      --hover-fill-color: #FFFFFF;\n",
              "      --disabled-bg-color: #3B4455;\n",
              "      --disabled-fill-color: #666;\n",
              "  }\n",
              "\n",
              "  .colab-df-quickchart {\n",
              "    background-color: var(--bg-color);\n",
              "    border: none;\n",
              "    border-radius: 50%;\n",
              "    cursor: pointer;\n",
              "    display: none;\n",
              "    fill: var(--fill-color);\n",
              "    height: 32px;\n",
              "    padding: 0;\n",
              "    width: 32px;\n",
              "  }\n",
              "\n",
              "  .colab-df-quickchart:hover {\n",
              "    background-color: var(--hover-bg-color);\n",
              "    box-shadow: 0 1px 2px rgba(60, 64, 67, 0.3), 0 1px 3px 1px rgba(60, 64, 67, 0.15);\n",
              "    fill: var(--button-hover-fill-color);\n",
              "  }\n",
              "\n",
              "  .colab-df-quickchart-complete:disabled,\n",
              "  .colab-df-quickchart-complete:disabled:hover {\n",
              "    background-color: var(--disabled-bg-color);\n",
              "    fill: var(--disabled-fill-color);\n",
              "    box-shadow: none;\n",
              "  }\n",
              "\n",
              "  .colab-df-spinner {\n",
              "    border: 2px solid var(--fill-color);\n",
              "    border-color: transparent;\n",
              "    border-bottom-color: var(--fill-color);\n",
              "    animation:\n",
              "      spin 1s steps(1) infinite;\n",
              "  }\n",
              "\n",
              "  @keyframes spin {\n",
              "    0% {\n",
              "      border-color: transparent;\n",
              "      border-bottom-color: var(--fill-color);\n",
              "      border-left-color: var(--fill-color);\n",
              "    }\n",
              "    20% {\n",
              "      border-color: transparent;\n",
              "      border-left-color: var(--fill-color);\n",
              "      border-top-color: var(--fill-color);\n",
              "    }\n",
              "    30% {\n",
              "      border-color: transparent;\n",
              "      border-left-color: var(--fill-color);\n",
              "      border-top-color: var(--fill-color);\n",
              "      border-right-color: var(--fill-color);\n",
              "    }\n",
              "    40% {\n",
              "      border-color: transparent;\n",
              "      border-right-color: var(--fill-color);\n",
              "      border-top-color: var(--fill-color);\n",
              "    }\n",
              "    60% {\n",
              "      border-color: transparent;\n",
              "      border-right-color: var(--fill-color);\n",
              "    }\n",
              "    80% {\n",
              "      border-color: transparent;\n",
              "      border-right-color: var(--fill-color);\n",
              "      border-bottom-color: var(--fill-color);\n",
              "    }\n",
              "    90% {\n",
              "      border-color: transparent;\n",
              "      border-bottom-color: var(--fill-color);\n",
              "    }\n",
              "  }\n",
              "</style>\n",
              "\n",
              "  <script>\n",
              "    async function quickchart(key) {\n",
              "      const quickchartButtonEl =\n",
              "        document.querySelector('#' + key + ' button');\n",
              "      quickchartButtonEl.disabled = true;  // To prevent multiple clicks.\n",
              "      quickchartButtonEl.classList.add('colab-df-spinner');\n",
              "      try {\n",
              "        const charts = await google.colab.kernel.invokeFunction(\n",
              "            'suggestCharts', [key], {});\n",
              "      } catch (error) {\n",
              "        console.error('Error during call to suggestCharts:', error);\n",
              "      }\n",
              "      quickchartButtonEl.classList.remove('colab-df-spinner');\n",
              "      quickchartButtonEl.classList.add('colab-df-quickchart-complete');\n",
              "    }\n",
              "    (() => {\n",
              "      let quickchartButtonEl =\n",
              "        document.querySelector('#df-e6fbcf97-3da5-4864-abb5-f8b1ca9b9040 button');\n",
              "      quickchartButtonEl.style.display =\n",
              "        google.colab.kernel.accessAllowed ? 'block' : 'none';\n",
              "    })();\n",
              "  </script>\n",
              "</div>\n",
              "\n",
              "    </div>\n",
              "  </div>\n"
            ],
            "application/vnd.google.colaboratory.intrinsic+json": {
              "type": "dataframe",
              "variable_name": "data"
            }
          },
          "metadata": {},
          "execution_count": 9
        }
      ]
    },
    {
      "cell_type": "code",
      "execution_count": 11,
      "id": "1fd57263-fb7b-4b58-9ccd-c1d000b785a0",
      "metadata": {
        "id": "1fd57263-fb7b-4b58-9ccd-c1d000b785a0",
        "outputId": "3759726d-d2c8-4a45-f3fa-aaf180f9007a",
        "colab": {
          "base_uri": "https://localhost:8080/"
        }
      },
      "outputs": [
        {
          "output_type": "stream",
          "name": "stdout",
          "text": [
            "Number of unique athletes: 129992\n"
          ]
        }
      ],
      "source": [
        "#Q1.How many unique athletes are there in the dataset?\n",
        "\n",
        "unique_athletes = data['Name'].nunique()\n",
        "\n",
        "print(f\"Number of unique athletes: {unique_athletes}\")\n"
      ]
    },
    {
      "cell_type": "code",
      "execution_count": 22,
      "id": "df7447bb-0a26-4e4a-bd58-61f0ecb603a3",
      "metadata": {
        "id": "df7447bb-0a26-4e4a-bd58-61f0ecb603a3",
        "outputId": "828379df-e920-403c-ef0c-6506432cebf6",
        "colab": {
          "base_uri": "https://localhost:8080/"
        }
      },
      "outputs": [
        {
          "output_type": "stream",
          "name": "stdout",
          "text": [
            "Grouped data by 'City' with multiple aggregation functions:\n",
            "                Year                Sport  Medal\n",
            "                 min   max  count nunique  count\n",
            "City                                            \n",
            "Amsterdam       1928  1928   4992      17   4992\n",
            "Antwerpen       1920  1920   4292      25   4292\n",
            "Athina          1896  2004  15556      35  15556\n",
            "Atlanta         1996  1996  13780      31  13780\n",
            "Barcelona       1992  1992  12977      29  12977\n",
            "Beijing         2008  2008  13602      34  13602\n",
            "Berlin          1936  1936   6506      24   6506\n",
            "Helsinki        1952  1952   8270      19   8270\n",
            "London          1908  2012  22426      41  22426\n",
            "Los Angeles     1932  1984  12423      27  12423\n",
            "Melbourne       1956  1956   4829      18   4829\n",
            "Mexico City     1968  1968   8588      20   8588\n",
            "Montreal        1976  1976   8641      23   8641\n",
            "Moskva          1980  1980   7191      23   7191\n",
            "Munich          1972  1972  10304      23  10304\n",
            "Paris           1900  2024  22061      60  22061\n",
            "Rio de Janeiro  2016  2016  13688      34  13688\n",
            "Roma            1960  1960   8119      19   8119\n",
            "Seoul           1988  1988  12037      27  12037\n",
            "St. Louis       1904  1904   1301      18   1301\n",
            "Stockholm       1912  1956   4338      17   4338\n",
            "Sydney          2000  2000  13821      34  13821\n",
            "Tokyo           1964  2020  22823      50  22823\n"
          ]
        }
      ],
      "source": [
        "#Q2.How do group data by ‘City’ and apply multiple aggregation functions?\n",
        "\n",
        "grouped_data = data.groupby('City').agg({\n",
        "    'Year': ['min', 'max', 'count'],\n",
        "    'Sport': 'nunique',\n",
        "    'Medal': 'count'\n",
        "})\n",
        "\n",
        "print(\"Grouped data by 'City' with multiple aggregation functions:\")\n",
        "print(grouped_data)\n"
      ]
    },
    {
      "cell_type": "code",
      "execution_count": 13,
      "id": "a0fe43a8-66ae-4891-bcee-2110711e7eed",
      "metadata": {
        "id": "a0fe43a8-66ae-4891-bcee-2110711e7eed",
        "outputId": "4a045e0b-c7e1-4974-a10e-c9534ab5eaa7",
        "colab": {
          "base_uri": "https://localhost:8080/"
        }
      },
      "outputs": [
        {
          "output_type": "stream",
          "name": "stdout",
          "text": [
            "Different sports in the dataset: ['Basketball' 'Judo' 'Football' 'Tug-Of-War' 'Athletics' 'Swimming'\n",
            " 'Badminton' 'Sailing' 'Gymnastics' 'Art Competitions' 'Handball'\n",
            " 'Weightlifting' 'Wrestling' 'Water Polo' 'Hockey' 'Rowing' 'Fencing'\n",
            " 'Equestrianism' 'Shooting' 'Boxing' 'Taekwondo' 'Cycling' 'Diving'\n",
            " 'Canoeing' 'Tennis' 'Modern Pentathlon' 'Golf' 'Softball' 'Archery'\n",
            " 'Volleyball' 'Synchronized Swimming' 'Table Tennis' 'Baseball'\n",
            " 'Rhythmic Gymnastics' 'Rugby Sevens' 'Trampolining' 'Beach Volleyball'\n",
            " 'Triathlon' 'Rugby' 'Lacrosse' 'Polo' 'Cricket' 'Ice Hockey' 'Racquets'\n",
            " 'Motorboating' 'Croquet' 'Figure Skating' 'Jeu De Paume' 'Roque'\n",
            " 'Basque Pelota' 'Alpinism' 'Aeronautics' 'Cycling Road'\n",
            " 'Artistic Gymnastics' 'Karate' 'Baseball/Softball'\n",
            " 'Trampoline Gymnastics' 'Marathon Swimming' 'Canoe Slalom' 'Surfing'\n",
            " 'Canoe Sprint' 'Cycling BMX Racing' 'Equestrian' 'Artistic Swimming'\n",
            " 'Cycling Track' 'Skateboarding' 'Cycling Mountain Bike' '3x3 Basketball'\n",
            " 'Cycling BMX Freestyle' 'Sport Climbing' 'Marathon Swimming, Swimming'\n",
            " 'Breaking' 'Cycling Road, Cycling Track'\n",
            " 'Cycling Road, Cycling Mountain Bike' 'Cycling Road, Triathlon'\n",
            " '3x3 Basketball, Basketball']\n"
          ]
        }
      ],
      "source": [
        "#Q3.What are the different sports included in the dataset?\n",
        "\n",
        "unique_sports = data['Sport'].unique()\n",
        "\n",
        "print(f\"Different sports in the dataset: {unique_sports}\")\n"
      ]
    },
    {
      "cell_type": "code",
      "execution_count": 11,
      "id": "2d510a2c-4272-4111-a768-3c53b6549401",
      "metadata": {
        "id": "2d510a2c-4272-4111-a768-3c53b6549401",
        "outputId": "05e47a1d-14e6-439e-9188-f25569bd427b",
        "colab": {
          "base_uri": "https://localhost:8080/"
        }
      },
      "outputs": [
        {
          "output_type": "stream",
          "name": "stdout",
          "text": [
            "Int Data Type:    player_id  Year\n",
            "0          0  1992\n",
            "1          1  2012\n",
            "\n",
            "Missing values in integer columns: player_id    0\n",
            "Year         0\n",
            "dtype: int64\n"
          ]
        }
      ],
      "source": [
        "#Q4.How can we select only the columns with integer data types from a DataFrame and check for missing values in those columns?\n",
        "\n",
        "int_columns = data.select_dtypes(include=['int64'])\n",
        "\n",
        "missing_values = int_columns.isnull().sum()\n",
        "\n",
        "print(\"Int Data Type:\", int_columns.head(2))\n",
        "\n",
        "print(\"\\nMissing values in integer columns:\", missing_values)\n",
        "\n"
      ]
    },
    {
      "cell_type": "code",
      "execution_count": 12,
      "id": "a340b785-4ece-4472-9ff9-41b9760d5814",
      "metadata": {
        "id": "a340b785-4ece-4472-9ff9-41b9760d5814",
        "outputId": "95eae97c-b4bb-4208-8557-56cd87b4deab",
        "colab": {
          "base_uri": "https://localhost:8080/"
        }
      },
      "outputs": [
        {
          "output_type": "stream",
          "name": "stdout",
          "text": [
            "The city that hosted the most Olympic Games is Tokyo with 22823 occurrences.\n"
          ]
        }
      ],
      "source": [
        "#Q5.Which city hosted the most Olympic Games in this dataset?\n",
        "\n",
        "city = data['City'].value_counts().idxmax()\n",
        "\n",
        "count = data['City'].value_counts().max()\n",
        "\n",
        "print(f\"The city that hosted the most Olympic Games is {city} with {count} occurrences.\")\n"
      ]
    },
    {
      "cell_type": "code",
      "execution_count": 13,
      "id": "fa60b8d4-aad2-4c83-b971-784e5efa0647",
      "metadata": {
        "id": "fa60b8d4-aad2-4c83-b971-784e5efa0647",
        "outputId": "a6881d8a-9709-4323-b251-694a4bab736c",
        "colab": {
          "base_uri": "https://localhost:8080/"
        }
      },
      "outputs": [
        {
          "output_type": "stream",
          "name": "stdout",
          "text": [
            "Percentiles for the 'Year' column: 0.25    1960.0\n",
            "0.50    1988.0\n",
            "0.75    2008.0\n",
            "0.90    2020.0\n",
            "0.95    2024.0\n",
            "Name: Year, dtype: float64\n"
          ]
        }
      ],
      "source": [
        "#Q6.How can calculate the percentiles for the given dataset?\n",
        "\n",
        "percentiles = data['Year'].quantile([0.25, 0.5, 0.75, 0.9, 0.95])\n",
        "\n",
        "print(\"Percentiles for the 'Year' column:\", percentiles)\n"
      ]
    },
    {
      "cell_type": "code",
      "execution_count": 22,
      "id": "da92181e-f75c-43f1-a241-5fcecebe6cec",
      "metadata": {
        "id": "da92181e-f75c-43f1-a241-5fcecebe6cec",
        "outputId": "4ea04ec8-b236-4f49-ab28-8ff84e370c01",
        "colab": {
          "base_uri": "https://localhost:8080/"
        }
      },
      "outputs": [
        {
          "output_type": "stream",
          "name": "stdout",
          "text": [
            "All duplicated rows (including first occurrence): Empty DataFrame\n",
            "Columns: [player_id, Name, Sex, Team, NOC, Year, Season, City, Sport, Event, Medal]\n",
            "Index: []\n"
          ]
        }
      ],
      "source": [
        "#Q7.How can I identify duplicated in dataset?\n",
        "\n",
        "duplicates = data[data.duplicated(keep=False)]\n",
        "\n",
        "print(\"All duplicated rows (including first occurrence):\", duplicates)\n"
      ]
    },
    {
      "cell_type": "code",
      "execution_count": 24,
      "id": "c10240d5-ed42-4066-8f08-3d9dee23e7f9",
      "metadata": {
        "id": "c10240d5-ed42-4066-8f08-3d9dee23e7f9",
        "outputId": "b66c2b39-6a50-483c-c8bc-21ef4fe69b5c",
        "colab": {
          "base_uri": "https://localhost:8080/"
        }
      },
      "outputs": [
        {
          "output_type": "stream",
          "name": "stdout",
          "text": [
            "   player_id                   Name Sex            Team  NOC  Year  Season  \\\n",
            "0          0              A Dijiang   M           China  CHN  1992  Summer   \n",
            "1          1               A Lamusi   M           China  CHN  2012  Summer   \n",
            "2          2            Gunnar Aaby   M         Denmark  DEN  1920  Summer   \n",
            "3          3            Edgar Aabye   M  Denmark/Sweden  DEN  1900  Summer   \n",
            "4         26  Cornelia (-strannood)   F     Netherlands  NED  1932  Summer   \n",
            "\n",
            "          City       Sport                         Event     Medal  \n",
            "0    Barcelona  Basketball   Basketball Men's Basketball  No medal  \n",
            "1       London        Judo  Judo Men's Extra-Lightweight  No medal  \n",
            "2    Antwerpen    Football       Football Men's Football  No medal  \n",
            "3        Paris  Tug-Of-War   Tug-Of-War Men's Tug-Of-War      Gold  \n",
            "4  Los Angeles   Athletics  Athletics Women's 100 metres  No medal  \n"
          ]
        }
      ],
      "source": [
        "#Q8.How can filter out duplicates rows from  dataset?\n",
        "\n",
        "cleaned_data = data.drop_duplicates()\n",
        "\n",
        "print(cleaned_data.head())\n"
      ]
    },
    {
      "cell_type": "code",
      "execution_count": 26,
      "id": "cb6d7eff-8eb2-4606-8ba4-de4bbf9e3bea",
      "metadata": {
        "id": "cb6d7eff-8eb2-4606-8ba4-de4bbf9e3bea",
        "outputId": "99bef174-75aa-4b25-8283-0a8be0ebf9d8",
        "colab": {
          "base_uri": "https://localhost:8080/"
        }
      },
      "outputs": [
        {
          "output_type": "stream",
          "name": "stdout",
          "text": [
            "The year with the highest number of recorded events is 2020 with 15121 events.\n"
          ]
        }
      ],
      "source": [
        "#Q9.Which year has the highest number of recorded events?\n",
        "\n",
        "events_per_year = data.groupby('Year')['Event'].count()\n",
        "\n",
        "year = events_per_year.idxmax()\n",
        "\n",
        "max_events = events_per_year.max()\n",
        "\n",
        "print(f\"The year with the highest number of recorded events is {year} with {max_events} events.\")\n"
      ]
    },
    {
      "cell_type": "code",
      "execution_count": 27,
      "id": "5b052a32-40c2-4704-8734-80b07a6b10ff",
      "metadata": {
        "id": "5b052a32-40c2-4704-8734-80b07a6b10ff",
        "outputId": "9b67323b-6cf2-4894-d04f-f37828ca6430",
        "colab": {
          "base_uri": "https://localhost:8080/"
        }
      },
      "outputs": [
        {
          "output_type": "stream",
          "name": "stdout",
          "text": [
            "Number of duplicated rows: 0\n"
          ]
        }
      ],
      "source": [
        "#Q10.How can count the number of duplicated values?\n",
        "\n",
        "duplicate_count = data.duplicated().sum()\n",
        "\n",
        "print(f\"Number of duplicated rows: {duplicate_count}\")\n"
      ]
    },
    {
      "cell_type": "code",
      "execution_count": 29,
      "id": "4de27c27-6fd9-4ea3-9544-695dc7b08985",
      "metadata": {
        "id": "4de27c27-6fd9-4ea3-9544-695dc7b08985",
        "outputId": "13bb7d84-9bcf-428d-ac96-f0d361e84199",
        "colab": {
          "base_uri": "https://localhost:8080/"
        }
      },
      "outputs": [
        {
          "output_type": "stream",
          "name": "stdout",
          "text": [
            "Data for China team:         player_id           Name Sex   Team  NOC  Year  Season  \\\n",
            "0               0      A Dijiang   M  China  CHN  1992  Summer   \n",
            "1               1       A Lamusi   M  China  CHN  2012  Summer   \n",
            "921          1072  Abudoureheman   M  China  CHN  2000  Summer   \n",
            "2266         2611      Ai Linuer   M  China  CHN  2004  Summer   \n",
            "2267         2612      Ai Yanhan   F  China  CHN  2016  Summer   \n",
            "...           ...            ...  ..    ...  ...   ...     ...   \n",
            "250275    1961747    Jianlin Lyu   M  China  CHN  2024  Summer   \n",
            "250276    1961747    Jianlin Lyu   M  China  CHN  2024  Summer   \n",
            "251771    1975792      Yixiao Lv   F  China  CHN  2024  Summer   \n",
            "252455    4646625      Enqi Jiao   F  China  CHN  2024  Summer   \n",
            "252469    4658690   Saisai Zheng   F  China  CHN  2024  Summer   \n",
            "\n",
            "                  City       Sport                                     Event  \\\n",
            "0            Barcelona  Basketball               Basketball Men's Basketball   \n",
            "1               London        Judo              Judo Men's Extra-Lightweight   \n",
            "921             Sydney      Boxing                 Boxing Men's Middleweight   \n",
            "2266            Athina   Wrestling  Wrestling Men's Lightweight, Greco-Roman   \n",
            "2267    Rio de Janeiro    Swimming     Swimming Women's 200 metres Freestyle   \n",
            "...                ...         ...                                       ...   \n",
            "250275           Paris    Shooting                                 Skeet Men   \n",
            "250276           Paris    Shooting                          Skeet Mixed Team   \n",
            "251771           Paris     Sailing                              Mixed Dinghy   \n",
            "252455           Paris     Fencing                         Women's Foil Team   \n",
            "252469           Paris      Tennis                           Women's Doubles   \n",
            "\n",
            "           Medal  \n",
            "0       No medal  \n",
            "1       No medal  \n",
            "921     No medal  \n",
            "2266    No medal  \n",
            "2267    No medal  \n",
            "...          ...  \n",
            "250275  No medal  \n",
            "250276    Bronze  \n",
            "251771  No medal  \n",
            "252455  No medal  \n",
            "252469  No medal  \n",
            "\n",
            "[5340 rows x 11 columns]\n"
          ]
        }
      ],
      "source": [
        "#Q11.How can extract the group of data for the ‘China’ team?\n",
        "\n",
        "china_team = data[data['Team'] == 'China']\n",
        "\n",
        "print(\"Data for China team:\", china_team)\n"
      ]
    },
    {
      "cell_type": "code",
      "execution_count": 30,
      "id": "229da373-5596-4e65-b8ae-306d1ba87190",
      "metadata": {
        "id": "229da373-5596-4e65-b8ae-306d1ba87190",
        "outputId": "3c46d011-218c-4c89-e300-8b386de768be",
        "colab": {
          "base_uri": "https://localhost:8080/"
        }
      },
      "outputs": [
        {
          "output_type": "stream",
          "name": "stdout",
          "text": [
            "The earliest year in the dataset is 1896\n",
            "The latest year in the dataset is 2024\n"
          ]
        }
      ],
      "source": [
        "#Q12.How do you find the earliest and latest \"year\" in dataset?\n",
        "\n",
        "earliest_year = data['Year'].min()\n",
        "\n",
        "latest_year = data['Year'].max()\n",
        "\n",
        "print(f\"The earliest year in the dataset is {earliest_year}\")\n",
        "\n",
        "print(f\"The latest year in the dataset is {latest_year}\")\n"
      ]
    },
    {
      "cell_type": "code",
      "execution_count": 31,
      "id": "22485f27-2797-43ae-a751-8dde6ffb4c6d",
      "metadata": {
        "id": "22485f27-2797-43ae-a751-8dde6ffb4c6d",
        "outputId": "ec08e8da-b50d-4cfd-e1de-30e6b1c18ce8",
        "colab": {
          "base_uri": "https://localhost:8080/"
        }
      },
      "outputs": [
        {
          "output_type": "stream",
          "name": "stdout",
          "text": [
            "Random sample of 'Team' rows:\n",
            "110591    Chinese Taipei\n",
            "180033     United States\n",
            "15155            Belarus\n",
            "212630            Sweden\n",
            "184044            Norway\n",
            "Name: Team, dtype: object\n"
          ]
        }
      ],
      "source": [
        "#Q13.How do get a random sample of 'Team' of the rows from  dataset?\n",
        "\n",
        "random_sample_teams = data['Team'].sample(n=5)\n",
        "\n",
        "print(\"Random sample of 'Team' rows:\")\n",
        "\n",
        "print(random_sample_teams)\n"
      ]
    },
    {
      "cell_type": "code",
      "execution_count": 16,
      "id": "ce3e56e9-36db-4266-b1b4-c000808f7a76",
      "metadata": {
        "id": "ce3e56e9-36db-4266-b1b4-c000808f7a76",
        "outputId": "5a8a1ce0-41ca-4477-d8b0-ed234f1544f4",
        "colab": {
          "base_uri": "https://localhost:8080/"
        }
      },
      "outputs": [
        {
          "output_type": "stream",
          "name": "stdout",
          "text": [
            "Highest medal type awarded each year:\n",
            "        Year     Medal  Count\n",
            "1    1896.0  No medal      8\n",
            "5    1900.0  No medal     32\n",
            "9    1904.0  No medal     21\n",
            "13   1906.0  No medal     65\n",
            "17   1908.0  No medal     84\n",
            "21   1912.0  No medal    145\n",
            "25   1920.0  No medal    109\n",
            "29   1924.0  No medal    156\n",
            "33   1928.0  No medal    152\n",
            "37   1932.0  No medal     54\n",
            "41   1936.0  No medal    204\n",
            "45   1948.0  No medal    293\n",
            "49   1952.0  No medal    273\n",
            "53   1956.0  No medal    135\n",
            "57   1960.0  No medal    310\n",
            "61   1964.0  No medal    281\n",
            "65   1968.0  No medal    387\n",
            "69   1972.0  No medal    439\n",
            "73   1976.0  No medal    331\n",
            "77   1980.0  No medal    323\n",
            "81   1984.0  No medal    447\n",
            "85   1988.0  No medal    569\n",
            "89   1992.0  No medal    506\n",
            "93   1996.0  No medal    545\n",
            "97   2000.0  No medal    537\n",
            "101  2004.0  No medal    513\n",
            "105  2008.0  No medal    540\n",
            "109  2012.0  No medal    540\n",
            "113  2016.0  No medal    651\n"
          ]
        }
      ],
      "source": [
        "#Q14.How can find the highest medal type awarded each year in  dataset?\n",
        "\n",
        "medals = data.groupby(['Year', 'Medal']).size().reset_index(name='Count')\n",
        "\n",
        "highest_medal = medals.loc[medals.groupby('Year')['Count'].idxmax()]\n",
        "\n",
        "print(\"Highest medal type awarded each year:\\n\", highest_medal)\n"
      ]
    },
    {
      "cell_type": "code",
      "execution_count": 18,
      "id": "b4463c17-dc7f-4457-9aea-7be02c61922e",
      "metadata": {
        "id": "b4463c17-dc7f-4457-9aea-7be02c61922e",
        "outputId": "8399e1de-f7e3-4734-8f0d-4802d3bbfa10",
        "colab": {
          "base_uri": "https://localhost:8080/"
        }
      },
      "outputs": [
        {
          "output_type": "stream",
          "name": "stdout",
          "text": [
            "The earliest year with a 'Bronze' medal awarded is 1900.0.\n"
          ]
        }
      ],
      "source": [
        "#Q15.Which year had the earliest medal type as ‘Bronze’?\n",
        "\n",
        "bronze_medals = data[data['Medal'] == 'Bronze']\n",
        "\n",
        "bronze_year = bronze_medals['Year'].min()\n",
        "\n",
        "print(f\"The earliest year with a 'Bronze' medal awarded is {bronze_year}.\")\n"
      ]
    },
    {
      "cell_type": "code",
      "execution_count": 20,
      "id": "b34bb0e6-4a76-4000-8bd3-a184ff77120e",
      "metadata": {
        "id": "b34bb0e6-4a76-4000-8bd3-a184ff77120e",
        "outputId": "12e34579-0ec4-4988-a1f6-bdd41dfb5719",
        "colab": {
          "base_uri": "https://localhost:8080/"
        }
      },
      "outputs": [
        {
          "output_type": "stream",
          "name": "stdout",
          "text": [
            "Number of unique values for each attribute within each team:\n",
            "                 player_id  Name  Sex  NOC  Year  Season  City  Sport  Event  \\\n",
            "Team                                                                          \n",
            "Afghanistan            14    13    1    1     7       1     7      3      6   \n",
            "Algeria                47    33    2    1    11       1    11      9     21   \n",
            "Ali-Baba II             1     1    1    1     1       1     1      1      1   \n",
            "American Samoa          1     1    1    1     1       1     1      1      1   \n",
            "Amolgavar               1     1    1    1     1       1     1      1      1   \n",
            "...                   ...   ...  ...  ...   ...     ...   ...    ...    ...   \n",
            "Yeoman XII              1     1    1    1     1       1     1      1      1   \n",
            "Yugoslavia             44    21    2    1    11       1    11      9     22   \n",
            "Yugoslavia-1            1     1    1    1     1       1     1      1      1   \n",
            "Zimbabwe                1     1    1    1     1       1     1      1      1   \n",
            "rn-2                    2     2    1    1     1       1     1      1      1   \n",
            "\n",
            "                Medal  \n",
            "Team                   \n",
            "Afghanistan         1  \n",
            "Algeria             2  \n",
            "Ali-Baba II         1  \n",
            "American Samoa      1  \n",
            "Amolgavar           1  \n",
            "...               ...  \n",
            "Yeoman XII          1  \n",
            "Yugoslavia          4  \n",
            "Yugoslavia-1        1  \n",
            "Zimbabwe            1  \n",
            "rn-2                1  \n",
            "\n",
            "[305 rows x 10 columns]\n"
          ]
        }
      ],
      "source": [
        "#Q16.How many unique values are there for each attribute within each team?\n",
        "\n",
        "unique_values = data.groupby('Team').nunique()\n",
        "\n",
        "print(\"Number of unique values for each attribute within each team:\\n\", unique_values)\n"
      ]
    },
    {
      "cell_type": "code",
      "execution_count": 20,
      "id": "f81f546a-b926-42b4-bef1-58ea811c84da",
      "metadata": {
        "id": "f81f546a-b926-42b4-bef1-58ea811c84da",
        "outputId": "737da80a-64b7-4033-c393-90165bd79ae1",
        "colab": {
          "base_uri": "https://localhost:8080/"
        }
      },
      "outputs": [
        {
          "output_type": "stream",
          "name": "stdout",
          "text": [
            "First row for each team:\n",
            "        player_id                   Name Sex            Team  NOC  Year  \\\n",
            "0               0              A Dijiang   M           China  CHN  1992   \n",
            "1               1               A Lamusi   M           China  CHN  2012   \n",
            "2               2            Gunnar Aaby   M         Denmark  DEN  1920   \n",
            "3               3            Edgar Aabye   M  Denmark/Sweden  DEN  1900   \n",
            "4              26  Cornelia (-strannood)   F     Netherlands  NED  1932   \n",
            "...           ...                    ...  ..             ...  ...   ...   \n",
            "252128    1980116                  Mi Jo   F       DPR Korea  PRK  2024   \n",
            "252129    1980119               Myong Im   M       DPR Korea  PRK  2024   \n",
            "252130    1980122              Ryong Han   M       DPR Korea  PRK  2024   \n",
            "252483    4674332        Herve Toumandji   M  Centr Afric Re  CAF  2024   \n",
            "252555    4979790    Steven Insixiengmay   M         Lao PDR  LAO  2024   \n",
            "\n",
            "        Season         City       Sport                              Event  \\\n",
            "0       Summer    Barcelona  Basketball        Basketball Men's Basketball   \n",
            "1       Summer       London        Judo       Judo Men's Extra-Lightweight   \n",
            "2       Summer    Antwerpen    Football            Football Men's Football   \n",
            "3       Summer        Paris  Tug-Of-War        Tug-Of-War Men's Tug-Of-War   \n",
            "4       Summer  Los Angeles   Athletics       Athletics Women's 100 metres   \n",
            "...        ...          ...         ...                                ...   \n",
            "252128  Summer        Paris      Diving  Women's Synchronised 10m Platform   \n",
            "252129  Summer        Paris      Diving                 Men's 10m Platform   \n",
            "252130  Summer        Paris   Athletics                     Men's Marathon   \n",
            "252483  Summer        Paris   Athletics                         Men's 100m   \n",
            "252555  Summer        Paris    Swimming            Men's 100m Breaststroke   \n",
            "\n",
            "           Medal  \n",
            "0       No medal  \n",
            "1       No medal  \n",
            "2       No medal  \n",
            "3           Gold  \n",
            "4       No medal  \n",
            "...          ...  \n",
            "252128    Silver  \n",
            "252129  No medal  \n",
            "252130  No medal  \n",
            "252483  No medal  \n",
            "252555  No medal  \n",
            "\n",
            "[4328 rows x 11 columns]\n"
          ]
        }
      ],
      "source": [
        "#Q17.How can extract the first, nth, and last rows from each group in a dataset?\n",
        "\n",
        "# Extract the first row from each group\n",
        "first_row = data.groupby('Team')\n",
        "\n",
        "print(\"First row for each team:\")\n",
        "\n",
        "print(first_row.head())\n"
      ]
    },
    {
      "cell_type": "code",
      "source": [
        "# Extract the last row from each group\n",
        "last_row = data.groupby('Team').last()\n",
        "print(\"\\nLast row for each team:\")\n",
        "print(last_row)\n"
      ],
      "metadata": {
        "id": "rFxoftfzRPqh",
        "outputId": "8b98356e-48d8-4d34-feca-01e1c510be28",
        "colab": {
          "base_uri": "https://localhost:8080/"
        }
      },
      "id": "rFxoftfzRPqh",
      "execution_count": 21,
      "outputs": [
        {
          "output_type": "stream",
          "name": "stdout",
          "text": [
            "\n",
            "Last row for each team:\n",
            "                       player_id                Name Sex  NOC  Year  Season  \\\n",
            "Team                                                                          \n",
            "30. Februar               254456        Harald Musil   M  AUT  1952  Summer   \n",
            "A North American Team     263255      William Wright   M  USA  1900  Summer   \n",
            "AIN                      4968593       Evgenii Somov   M  AIN  2024  Summer   \n",
            "Acipactli                 193165      Francisco Lpez   M  MEX  1964  Summer   \n",
            "Acturus                   188185      Jorge Estrella   M  ARG  1948  Summer   \n",
            "...                          ...                 ...  ..  ...   ...     ...   \n",
            "Zambia                   1982385       Sitali Kakene   M  ZAM  2024  Summer   \n",
            "Zefyros                   253549  Nikolaos Vlangalis   M  GRE  1960  Summer   \n",
            "Zimbabwe                 1932735  Denilson Cyprianos   M  ZIM  2024  Summer   \n",
            "Zut                       258096    Henri Weewauters   M  BEL  1908  Summer   \n",
            "rn-2                      111494        Bertel Jusln   M  FIN  1912  Summer   \n",
            "\n",
            "                            City      Sport  \\\n",
            "Team                                          \n",
            "30. Februar             Helsinki    Sailing   \n",
            "A North American Team      Paris       Polo   \n",
            "AIN                        Paris   Swimming   \n",
            "Acipactli                  Tokyo    Sailing   \n",
            "Acturus                   London    Sailing   \n",
            "...                          ...        ...   \n",
            "Zambia                     Paris  Athletics   \n",
            "Zefyros                     Roma    Sailing   \n",
            "Zimbabwe                   Paris   Swimming   \n",
            "Zut                       London    Sailing   \n",
            "rn-2                   Stockholm    Sailing   \n",
            "\n",
            "                                                     Event     Medal  \n",
            "Team                                                                  \n",
            "30. Februar              Sailing Mixed Two Person Keelboat  No medal  \n",
            "A North American Team                      Polo Men's Polo    Bronze  \n",
            "AIN                                    Men's 50m Freestyle  No medal  \n",
            "Acipactli              Sailing Mixed Three Person Keelboat  No medal  \n",
            "Acturus                  Sailing Mixed Two Person Keelboat  No medal  \n",
            "...                                                    ...       ...  \n",
            "Zambia                                Men's 4 x 400m Relay  No medal  \n",
            "Zefyros                  Sailing Mixed Two Person Keelboat  No medal  \n",
            "Zimbabwe                             Men's 200m Backstroke  No medal  \n",
            "Zut                                 Sailing Mixed 6 metres    Silver  \n",
            "rn-2                                Sailing Mixed 8 metres  No medal  \n",
            "\n",
            "[1193 rows x 10 columns]\n"
          ]
        }
      ]
    },
    {
      "cell_type": "code",
      "execution_count": 27,
      "id": "91c4589c-3bfa-4cdf-8c1f-90793454ab24",
      "metadata": {
        "id": "91c4589c-3bfa-4cdf-8c1f-90793454ab24",
        "outputId": "76afe41c-d82e-4036-c8c5-122811475dab",
        "colab": {
          "base_uri": "https://localhost:8080/"
        }
      },
      "outputs": [
        {
          "output_type": "stream",
          "name": "stdout",
          "text": [
            "Data sorted by 'Year' (ascending):\n",
            "       player_id                    Name Sex      Team  NOC    Year  Season  \\\n",
            "2677       3080  Aristidis Akratopoulos   M  Greece-3  GRE  1896.0  Summer   \n",
            "\n",
            "        City   Sport                 Event     Medal  \n",
            "2677  Athina  Tennis  Tennis Men's Doubles  No medal  \n"
          ]
        }
      ],
      "source": [
        "#Q18.How do use the sort_values method in  DataFrame?\n",
        "\n",
        "sorted_data = data.sort_values(by='Year')\n",
        "\n",
        "print(\"Data sorted by 'Year' (ascending):\\n\", sorted_data.head(1))\n"
      ]
    },
    {
      "cell_type": "code",
      "execution_count": 30,
      "id": "a4a5131e-47e2-4657-a9c3-62a336f9bfd6",
      "metadata": {
        "id": "a4a5131e-47e2-4657-a9c3-62a336f9bfd6",
        "outputId": "3f4f6ee2-4c2b-4092-d91c-82cdc8f21db9",
        "colab": {
          "base_uri": "https://localhost:8080/"
        }
      },
      "outputs": [
        {
          "output_type": "stream",
          "name": "stdout",
          "text": [
            "Details of all athletes in the team 'Austria':\n",
            "       player_id             Name Sex     Team  NOC    Year  Season       City  \\\n",
            "1498       1738  Margarete Adler   F  Austria  AUT  1912.0  Summer  Stockholm   \n",
            "\n",
            "         Sport                                  Event     Medal  \n",
            "1498  Swimming  Swimming Women's 100 metres Freestyle  No medal  \n"
          ]
        }
      ],
      "source": [
        "#Q19.What are the details of all athletes in the team ‘Austria’?\n",
        "\n",
        "austria_athletes = data[data['Team'] == 'Austria']\n",
        "\n",
        "print(\"Details of all athletes in the team 'Austria':\\n\", austria_athletes.head(1))\n"
      ]
    },
    {
      "cell_type": "code",
      "execution_count": 31,
      "id": "23230574-df5c-4565-b251-195fa94c563f",
      "metadata": {
        "id": "23230574-df5c-4565-b251-195fa94c563f",
        "outputId": "7d10664d-fef7-40de-ad2a-046d1f37d064",
        "colab": {
          "base_uri": "https://localhost:8080/"
        }
      },
      "outputs": [
        {
          "output_type": "stream",
          "name": "stdout",
          "text": [
            "Data sorted by 'Year' (ascending) and 'Medal' (descending):\n",
            "      player_id                       Name  Sex           Team  NOC    Year  \\\n",
            "6404       7353            Ioannis Andreou    M         Greece  GRE  1896.0   \n",
            "2676       3079     Aristidis Akratopoulos    M         Greece  GRE  1896.0   \n",
            "2677       3080     Aristidis Akratopoulos    M       Greece-3  GRE  1896.0   \n",
            "2678       3081  Konstantinos Akratopoulos    M         Greece  GRE  1896.0   \n",
            "2679       3082  Konstantinos Akratopoulos    M       Greece-3  GRE  1896.0   \n",
            "...         ...                        ...  ...            ...  ...     ...   \n",
            "8671      10134      Geraldina Asher-smith    F  Great Britain  GBR  2016.0   \n",
            "9634      11264                 Mohd Awang    M       Malaysia  MAS  2016.0   \n",
            "9663      11293             Viktor Axelsen    M        Denmark  DEN  2016.0   \n",
            "9703      11345                  Almaz Eba    F       Ethiopia  ETH  2016.0   \n",
            "9835        115                        NaN  NaN            NaN  NaN     NaN   \n",
            "\n",
            "      Season            City      Sport  \\\n",
            "6404  Summer          Athina   Swimming   \n",
            "2676  Summer          Athina     Tennis   \n",
            "2677  Summer          Athina     Tennis   \n",
            "2678  Summer          Athina     Tennis   \n",
            "2679  Summer          Athina     Tennis   \n",
            "...      ...             ...        ...   \n",
            "8671  Summer  Rio de Janeiro  Athletics   \n",
            "9634  Summer  Rio de Janeiro    Cycling   \n",
            "9663  Summer  Rio de Janeiro  Badminton   \n",
            "9703  Summer  Rio de Janeiro  Athletics   \n",
            "9835     NaN             NaN        NaN   \n",
            "\n",
            "                                       Event     Medal  \n",
            "6404   Swimming Men's 1,200 metres Freestyle    Silver  \n",
            "2676                    Tennis Men's Singles  No medal  \n",
            "2677                    Tennis Men's Doubles  No medal  \n",
            "2678                    Tennis Men's Singles  No medal  \n",
            "2679                    Tennis Men's Doubles  No medal  \n",
            "...                                      ...       ...  \n",
            "8671  Athletics Women's 4 x 100 metres Relay    Bronze  \n",
            "9634                    Cycling Men's Keirin    Bronze  \n",
            "9663                 Badminton Men's Singles    Bronze  \n",
            "9703          Athletics Women's 5,000 metres    Bronze  \n",
            "9835                                     NaN       NaN  \n",
            "\n",
            "[9836 rows x 11 columns]\n"
          ]
        }
      ],
      "source": [
        "#Q20.How do use the sort_values method in  DataFrame by the year and medal?\n",
        "\n",
        "sorted_data = data.sort_values(by=['Year', 'Medal'], ascending=[True, False])\n",
        "\n",
        "print(\"Data sorted by 'Year' (ascending) and 'Medal' (descending):\")\n",
        "print(sorted_data)\n"
      ]
    },
    {
      "cell_type": "code",
      "source": [],
      "metadata": {
        "id": "aOsqZkvfTjA5"
      },
      "id": "aOsqZkvfTjA5",
      "execution_count": null,
      "outputs": []
    }
  ],
  "metadata": {
    "kernelspec": {
      "display_name": "Python 3 (ipykernel)",
      "language": "python",
      "name": "python3"
    },
    "language_info": {
      "codemirror_mode": {
        "name": "ipython",
        "version": 3
      },
      "file_extension": ".py",
      "mimetype": "text/x-python",
      "name": "python",
      "nbconvert_exporter": "python",
      "pygments_lexer": "ipython3",
      "version": "3.11.7"
    },
    "colab": {
      "provenance": []
    }
  },
  "nbformat": 4,
  "nbformat_minor": 5
}