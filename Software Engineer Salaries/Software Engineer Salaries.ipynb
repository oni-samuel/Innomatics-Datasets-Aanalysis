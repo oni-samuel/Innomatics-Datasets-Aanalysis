{
 "cells": [
  {
   "cell_type": "markdown",
   "id": "43549ac4-bfba-4044-b7ea-f2367293fed1",
   "metadata": {
    "id": "43549ac4-bfba-4044-b7ea-f2367293fed1"
   },
   "source": [
    "### Link : https://www.kaggle.com/datasets/emreksz/software-engineer-jobs-and-salaries-2024"
   ]
  },
  {
   "cell_type": "markdown",
   "id": "7c10816e-0560-4d81-a469-3d15ca62f8c8",
   "metadata": {
    "id": "7c10816e-0560-4d81-a469-3d15ca62f8c8"
   },
   "source": [
    "## 1.What is the estimated salary range for a Software Engineer at Garmin International, Inc.?"
   ]
  },
  {
   "cell_type": "code",
   "execution_count": 57,
   "id": "42056897-3088-4bae-968b-825a6f432c74",
   "metadata": {
    "id": "42056897-3088-4bae-968b-825a6f432c74"
   },
   "outputs": [],
   "source": [
    "import pandas as pd\n",
    "data= pd.read_csv('/content/sample_data/Software Engineer Salaries.csv')"
   ]
  },
  {
   "cell_type": "code",
   "execution_count": 58,
   "id": "670ae970-2bcb-4b82-a1da-192589a7655e",
   "metadata": {
    "colab": {
     "base_uri": "https://localhost:8080/"
    },
    "id": "670ae970-2bcb-4b82-a1da-192589a7655e",
    "outputId": "18dc2af5-bb37-4262-8a16-937610c66175"
   },
   "outputs": [
    {
     "name": "stdout",
     "output_type": "stream",
     "text": [
      "The estimated salary range is: 2    $95K - $118K (Glassdoor est.)\n",
      "Name: Salary, dtype: object\n"
     ]
    }
   ],
   "source": [
    "garmin = data.loc[(data['Company'] == 'Garmin International, Inc.') & (data['Job Title'] == 'C# Software Engineer')]\n",
    "\n",
    "garmin_salaries = garmin['Salary']\n",
    "\n",
    "print('The estimated salary range is:', garmin_salaries)"
   ]
  },
  {
   "cell_type": "code",
   "execution_count": 59,
   "id": "CLNByhLfsB0g",
   "metadata": {
    "colab": {
     "base_uri": "https://localhost:8080/",
     "height": 206
    },
    "id": "CLNByhLfsB0g",
    "outputId": "4e6dc293-28c9-4c38-d3c9-6bc74729a1cf"
   },
   "outputs": [
    {
     "data": {
      "application/vnd.google.colaboratory.intrinsic+json": {
       "summary": "{\n  \"name\": \"data\",\n  \"rows\": 870,\n  \"fields\": [\n    {\n      \"column\": \"Company\",\n      \"properties\": {\n        \"dtype\": \"string\",\n        \"num_unique_values\": 648,\n        \"samples\": [\n          \"PacBio\",\n          \"BAE Systems\",\n          \"Turn5, Inc.\"\n        ],\n        \"semantic_type\": \"\",\n        \"description\": \"\"\n      }\n    },\n    {\n      \"column\": \"Company Score\",\n      \"properties\": {\n        \"dtype\": \"number\",\n        \"std\": 0.5249518335684344,\n        \"min\": 1.0,\n        \"max\": 5.0,\n        \"num_unique_values\": 30,\n        \"samples\": [\n          2.5,\n          4.4,\n          2.7\n        ],\n        \"semantic_type\": \"\",\n        \"description\": \"\"\n      }\n    },\n    {\n      \"column\": \"Job Title\",\n      \"properties\": {\n        \"dtype\": \"string\",\n        \"num_unique_values\": 542,\n        \"samples\": [\n          \"Junior Software Engineer - Panama Shift!\",\n          \"Software Engineer - Java Springboot (DT)\",\n          \"Software Engineer / Simulation - Virtual Prototyping\"\n        ],\n        \"semantic_type\": \"\",\n        \"description\": \"\"\n      }\n    },\n    {\n      \"column\": \"Location\",\n      \"properties\": {\n        \"dtype\": \"category\",\n        \"num_unique_values\": 329,\n        \"samples\": [\n          \"San Francisco, CA\",\n          \"Redwood City, CA\",\n          \"Sherman, TX\"\n        ],\n        \"semantic_type\": \"\",\n        \"description\": \"\"\n      }\n    },\n    {\n      \"column\": \"Date\",\n      \"properties\": {\n        \"dtype\": \"category\",\n        \"num_unique_values\": 31,\n        \"samples\": [\n          \"27d\",\n          \"16d\",\n          \"29d\"\n        ],\n        \"semantic_type\": \"\",\n        \"description\": \"\"\n      }\n    },\n    {\n      \"column\": \"Salary\",\n      \"properties\": {\n        \"dtype\": \"string\",\n        \"num_unique_values\": 680,\n        \"samples\": [\n          \"$53K - $96K\\u00a0(Glassdoor est.)\",\n          \"$102K - $159K\\u00a0(Employer est.)\",\n          \"$141K - $179K\\u00a0(Employer est.)\"\n        ],\n        \"semantic_type\": \"\",\n        \"description\": \"\"\n      }\n    }\n  ]\n}",
       "type": "dataframe",
       "variable_name": "data"
      },
      "text/html": [
       "\n",
       "  <div id=\"df-456c846e-4b82-4b1d-b727-1556943a0a0a\" class=\"colab-df-container\">\n",
       "    <div>\n",
       "<style scoped>\n",
       "    .dataframe tbody tr th:only-of-type {\n",
       "        vertical-align: middle;\n",
       "    }\n",
       "\n",
       "    .dataframe tbody tr th {\n",
       "        vertical-align: top;\n",
       "    }\n",
       "\n",
       "    .dataframe thead th {\n",
       "        text-align: right;\n",
       "    }\n",
       "</style>\n",
       "<table border=\"1\" class=\"dataframe\">\n",
       "  <thead>\n",
       "    <tr style=\"text-align: right;\">\n",
       "      <th></th>\n",
       "      <th>Company</th>\n",
       "      <th>Company Score</th>\n",
       "      <th>Job Title</th>\n",
       "      <th>Location</th>\n",
       "      <th>Date</th>\n",
       "      <th>Salary</th>\n",
       "    </tr>\n",
       "  </thead>\n",
       "  <tbody>\n",
       "    <tr>\n",
       "      <th>0</th>\n",
       "      <td>ViewSoft</td>\n",
       "      <td>4.8</td>\n",
       "      <td>Software Engineer</td>\n",
       "      <td>Manassas, VA</td>\n",
       "      <td>8d</td>\n",
       "      <td>$68K - $94K (Glassdoor est.)</td>\n",
       "    </tr>\n",
       "    <tr>\n",
       "      <th>1</th>\n",
       "      <td>Workiva</td>\n",
       "      <td>4.3</td>\n",
       "      <td>Software Support Engineer</td>\n",
       "      <td>Remote</td>\n",
       "      <td>2d</td>\n",
       "      <td>$61K - $104K (Employer est.)</td>\n",
       "    </tr>\n",
       "    <tr>\n",
       "      <th>2</th>\n",
       "      <td>Garmin International, Inc.</td>\n",
       "      <td>3.9</td>\n",
       "      <td>C# Software Engineer</td>\n",
       "      <td>Cary, NC</td>\n",
       "      <td>2d</td>\n",
       "      <td>$95K - $118K (Glassdoor est.)</td>\n",
       "    </tr>\n",
       "    <tr>\n",
       "      <th>3</th>\n",
       "      <td>Snapchat</td>\n",
       "      <td>3.5</td>\n",
       "      <td>Software Engineer, Fullstack, 1+ Years of Expe...</td>\n",
       "      <td>Los Angeles, CA</td>\n",
       "      <td>2d</td>\n",
       "      <td>$97K - $145K (Employer est.)</td>\n",
       "    </tr>\n",
       "    <tr>\n",
       "      <th>4</th>\n",
       "      <td>Vitesco Technologies Group AG</td>\n",
       "      <td>3.1</td>\n",
       "      <td>Software Engineer</td>\n",
       "      <td>Seguin, TX</td>\n",
       "      <td>2d</td>\n",
       "      <td>$85K - $108K (Glassdoor est.)</td>\n",
       "    </tr>\n",
       "  </tbody>\n",
       "</table>\n",
       "</div>\n",
       "    <div class=\"colab-df-buttons\">\n",
       "\n",
       "  <div class=\"colab-df-container\">\n",
       "    <button class=\"colab-df-convert\" onclick=\"convertToInteractive('df-456c846e-4b82-4b1d-b727-1556943a0a0a')\"\n",
       "            title=\"Convert this dataframe to an interactive table.\"\n",
       "            style=\"display:none;\">\n",
       "\n",
       "  <svg xmlns=\"http://www.w3.org/2000/svg\" height=\"24px\" viewBox=\"0 -960 960 960\">\n",
       "    <path d=\"M120-120v-720h720v720H120Zm60-500h600v-160H180v160Zm220 220h160v-160H400v160Zm0 220h160v-160H400v160ZM180-400h160v-160H180v160Zm440 0h160v-160H620v160ZM180-180h160v-160H180v160Zm440 0h160v-160H620v160Z\"/>\n",
       "  </svg>\n",
       "    </button>\n",
       "\n",
       "  <style>\n",
       "    .colab-df-container {\n",
       "      display:flex;\n",
       "      gap: 12px;\n",
       "    }\n",
       "\n",
       "    .colab-df-convert {\n",
       "      background-color: #E8F0FE;\n",
       "      border: none;\n",
       "      border-radius: 50%;\n",
       "      cursor: pointer;\n",
       "      display: none;\n",
       "      fill: #1967D2;\n",
       "      height: 32px;\n",
       "      padding: 0 0 0 0;\n",
       "      width: 32px;\n",
       "    }\n",
       "\n",
       "    .colab-df-convert:hover {\n",
       "      background-color: #E2EBFA;\n",
       "      box-shadow: 0px 1px 2px rgba(60, 64, 67, 0.3), 0px 1px 3px 1px rgba(60, 64, 67, 0.15);\n",
       "      fill: #174EA6;\n",
       "    }\n",
       "\n",
       "    .colab-df-buttons div {\n",
       "      margin-bottom: 4px;\n",
       "    }\n",
       "\n",
       "    [theme=dark] .colab-df-convert {\n",
       "      background-color: #3B4455;\n",
       "      fill: #D2E3FC;\n",
       "    }\n",
       "\n",
       "    [theme=dark] .colab-df-convert:hover {\n",
       "      background-color: #434B5C;\n",
       "      box-shadow: 0px 1px 3px 1px rgba(0, 0, 0, 0.15);\n",
       "      filter: drop-shadow(0px 1px 2px rgba(0, 0, 0, 0.3));\n",
       "      fill: #FFFFFF;\n",
       "    }\n",
       "  </style>\n",
       "\n",
       "    <script>\n",
       "      const buttonEl =\n",
       "        document.querySelector('#df-456c846e-4b82-4b1d-b727-1556943a0a0a button.colab-df-convert');\n",
       "      buttonEl.style.display =\n",
       "        google.colab.kernel.accessAllowed ? 'block' : 'none';\n",
       "\n",
       "      async function convertToInteractive(key) {\n",
       "        const element = document.querySelector('#df-456c846e-4b82-4b1d-b727-1556943a0a0a');\n",
       "        const dataTable =\n",
       "          await google.colab.kernel.invokeFunction('convertToInteractive',\n",
       "                                                    [key], {});\n",
       "        if (!dataTable) return;\n",
       "\n",
       "        const docLinkHtml = 'Like what you see? Visit the ' +\n",
       "          '<a target=\"_blank\" href=https://colab.research.google.com/notebooks/data_table.ipynb>data table notebook</a>'\n",
       "          + ' to learn more about interactive tables.';\n",
       "        element.innerHTML = '';\n",
       "        dataTable['output_type'] = 'display_data';\n",
       "        await google.colab.output.renderOutput(dataTable, element);\n",
       "        const docLink = document.createElement('div');\n",
       "        docLink.innerHTML = docLinkHtml;\n",
       "        element.appendChild(docLink);\n",
       "      }\n",
       "    </script>\n",
       "  </div>\n",
       "\n",
       "\n",
       "<div id=\"df-8b40665f-3c6f-414b-a42f-d47cf41fa530\">\n",
       "  <button class=\"colab-df-quickchart\" onclick=\"quickchart('df-8b40665f-3c6f-414b-a42f-d47cf41fa530')\"\n",
       "            title=\"Suggest charts\"\n",
       "            style=\"display:none;\">\n",
       "\n",
       "<svg xmlns=\"http://www.w3.org/2000/svg\" height=\"24px\"viewBox=\"0 0 24 24\"\n",
       "     width=\"24px\">\n",
       "    <g>\n",
       "        <path d=\"M19 3H5c-1.1 0-2 .9-2 2v14c0 1.1.9 2 2 2h14c1.1 0 2-.9 2-2V5c0-1.1-.9-2-2-2zM9 17H7v-7h2v7zm4 0h-2V7h2v10zm4 0h-2v-4h2v4z\"/>\n",
       "    </g>\n",
       "</svg>\n",
       "  </button>\n",
       "\n",
       "<style>\n",
       "  .colab-df-quickchart {\n",
       "      --bg-color: #E8F0FE;\n",
       "      --fill-color: #1967D2;\n",
       "      --hover-bg-color: #E2EBFA;\n",
       "      --hover-fill-color: #174EA6;\n",
       "      --disabled-fill-color: #AAA;\n",
       "      --disabled-bg-color: #DDD;\n",
       "  }\n",
       "\n",
       "  [theme=dark] .colab-df-quickchart {\n",
       "      --bg-color: #3B4455;\n",
       "      --fill-color: #D2E3FC;\n",
       "      --hover-bg-color: #434B5C;\n",
       "      --hover-fill-color: #FFFFFF;\n",
       "      --disabled-bg-color: #3B4455;\n",
       "      --disabled-fill-color: #666;\n",
       "  }\n",
       "\n",
       "  .colab-df-quickchart {\n",
       "    background-color: var(--bg-color);\n",
       "    border: none;\n",
       "    border-radius: 50%;\n",
       "    cursor: pointer;\n",
       "    display: none;\n",
       "    fill: var(--fill-color);\n",
       "    height: 32px;\n",
       "    padding: 0;\n",
       "    width: 32px;\n",
       "  }\n",
       "\n",
       "  .colab-df-quickchart:hover {\n",
       "    background-color: var(--hover-bg-color);\n",
       "    box-shadow: 0 1px 2px rgba(60, 64, 67, 0.3), 0 1px 3px 1px rgba(60, 64, 67, 0.15);\n",
       "    fill: var(--button-hover-fill-color);\n",
       "  }\n",
       "\n",
       "  .colab-df-quickchart-complete:disabled,\n",
       "  .colab-df-quickchart-complete:disabled:hover {\n",
       "    background-color: var(--disabled-bg-color);\n",
       "    fill: var(--disabled-fill-color);\n",
       "    box-shadow: none;\n",
       "  }\n",
       "\n",
       "  .colab-df-spinner {\n",
       "    border: 2px solid var(--fill-color);\n",
       "    border-color: transparent;\n",
       "    border-bottom-color: var(--fill-color);\n",
       "    animation:\n",
       "      spin 1s steps(1) infinite;\n",
       "  }\n",
       "\n",
       "  @keyframes spin {\n",
       "    0% {\n",
       "      border-color: transparent;\n",
       "      border-bottom-color: var(--fill-color);\n",
       "      border-left-color: var(--fill-color);\n",
       "    }\n",
       "    20% {\n",
       "      border-color: transparent;\n",
       "      border-left-color: var(--fill-color);\n",
       "      border-top-color: var(--fill-color);\n",
       "    }\n",
       "    30% {\n",
       "      border-color: transparent;\n",
       "      border-left-color: var(--fill-color);\n",
       "      border-top-color: var(--fill-color);\n",
       "      border-right-color: var(--fill-color);\n",
       "    }\n",
       "    40% {\n",
       "      border-color: transparent;\n",
       "      border-right-color: var(--fill-color);\n",
       "      border-top-color: var(--fill-color);\n",
       "    }\n",
       "    60% {\n",
       "      border-color: transparent;\n",
       "      border-right-color: var(--fill-color);\n",
       "    }\n",
       "    80% {\n",
       "      border-color: transparent;\n",
       "      border-right-color: var(--fill-color);\n",
       "      border-bottom-color: var(--fill-color);\n",
       "    }\n",
       "    90% {\n",
       "      border-color: transparent;\n",
       "      border-bottom-color: var(--fill-color);\n",
       "    }\n",
       "  }\n",
       "</style>\n",
       "\n",
       "  <script>\n",
       "    async function quickchart(key) {\n",
       "      const quickchartButtonEl =\n",
       "        document.querySelector('#' + key + ' button');\n",
       "      quickchartButtonEl.disabled = true;  // To prevent multiple clicks.\n",
       "      quickchartButtonEl.classList.add('colab-df-spinner');\n",
       "      try {\n",
       "        const charts = await google.colab.kernel.invokeFunction(\n",
       "            'suggestCharts', [key], {});\n",
       "      } catch (error) {\n",
       "        console.error('Error during call to suggestCharts:', error);\n",
       "      }\n",
       "      quickchartButtonEl.classList.remove('colab-df-spinner');\n",
       "      quickchartButtonEl.classList.add('colab-df-quickchart-complete');\n",
       "    }\n",
       "    (() => {\n",
       "      let quickchartButtonEl =\n",
       "        document.querySelector('#df-8b40665f-3c6f-414b-a42f-d47cf41fa530 button');\n",
       "      quickchartButtonEl.style.display =\n",
       "        google.colab.kernel.accessAllowed ? 'block' : 'none';\n",
       "    })();\n",
       "  </script>\n",
       "</div>\n",
       "\n",
       "    </div>\n",
       "  </div>\n"
      ],
      "text/plain": [
       "                         Company  Company Score  \\\n",
       "0                       ViewSoft            4.8   \n",
       "1                        Workiva            4.3   \n",
       "2     Garmin International, Inc.            3.9   \n",
       "3                       Snapchat            3.5   \n",
       "4  Vitesco Technologies Group AG            3.1   \n",
       "\n",
       "                                           Job Title         Location Date  \\\n",
       "0                                  Software Engineer     Manassas, VA   8d   \n",
       "1                          Software Support Engineer           Remote   2d   \n",
       "2                               C# Software Engineer         Cary, NC   2d   \n",
       "3  Software Engineer, Fullstack, 1+ Years of Expe...  Los Angeles, CA   2d   \n",
       "4                                  Software Engineer       Seguin, TX   2d   \n",
       "\n",
       "                          Salary  \n",
       "0   $68K - $94K (Glassdoor est.)  \n",
       "1   $61K - $104K (Employer est.)  \n",
       "2  $95K - $118K (Glassdoor est.)  \n",
       "3   $97K - $145K (Employer est.)  \n",
       "4  $85K - $108K (Glassdoor est.)  "
      ]
     },
     "execution_count": 59,
     "metadata": {},
     "output_type": "execute_result"
    }
   ],
   "source": [
    "data.head()"
   ]
  },
  {
   "cell_type": "markdown",
   "id": "ff2c7ac9-9c00-408d-b092-c942a4f05008",
   "metadata": {
    "id": "ff2c7ac9-9c00-408d-b092-c942a4f05008"
   },
   "source": [
    "## 2.Which company offers a Software Support Engineer role?"
   ]
  },
  {
   "cell_type": "code",
   "execution_count": null,
   "id": "e3678224-96b8-454b-9fca-a141911c8a20",
   "metadata": {
    "colab": {
     "base_uri": "https://localhost:8080/"
    },
    "id": "e3678224-96b8-454b-9fca-a141911c8a20",
    "outputId": "91861edb-26d8-45e0-a652-7a87c0f66eea"
   },
   "outputs": [
    {
     "name": "stdout",
     "output_type": "stream",
     "text": [
      "Companies offering Software Engineer roles:\n",
      " ['Workiva' 'LSEG (London Stock Exchange Group)'\n",
      " 'Garmin International, Inc.' 'Prophet Software']\n"
     ]
    }
   ],
   "source": [
    "software_engineer_roles = data[data['Job Title'].str.contains('Software Support Engineer', case=False)]\n",
    "\n",
    "companies_offering_roles = software_engineer_roles['Company'].unique()\n",
    "\n",
    "print('Companies offering Software Engineer roles:\\n', companies_offering_roles)\n"
   ]
  },
  {
   "cell_type": "markdown",
   "id": "628cd7df-48bc-4f02-ac12-24cd0ae9eea1",
   "metadata": {
    "id": "628cd7df-48bc-4f02-ac12-24cd0ae9eea1"
   },
   "source": [
    "## 3.What is the company score for Snapchat?"
   ]
  },
  {
   "cell_type": "code",
   "execution_count": null,
   "id": "46e22757-61d9-41d5-927c-c8ec77028373",
   "metadata": {
    "colab": {
     "base_uri": "https://localhost:8080/"
    },
    "id": "46e22757-61d9-41d5-927c-c8ec77028373",
    "outputId": "b6aeb5b3-b6e7-419b-b556-a20cccf4abdd"
   },
   "outputs": [
    {
     "name": "stdout",
     "output_type": "stream",
     "text": [
      "The company score for Snapchat:\n",
      "       Company  Company Score\n",
      "3    Snapchat            3.5\n",
      "17   Snapchat            3.5\n",
      "281  Snapchat            4.3\n",
      "284  Snapchat            3.8\n"
     ]
    }
   ],
   "source": [
    "snapchat = data[data['Company'] == 'Snapchat'][['Company', 'Company Score']]\n",
    "\n",
    "print('The company score for Snapchat:\\n', snapchat)\n"
   ]
  },
  {
   "cell_type": "code",
   "execution_count": null,
   "id": "34267282-e7a2-40d2-a3b5-9c440a095064",
   "metadata": {
    "colab": {
     "base_uri": "https://localhost:8080/"
    },
    "id": "34267282-e7a2-40d2-a3b5-9c440a095064",
    "outputId": "d5e8f886-b1c4-4d88-ca71-261af25a3e65"
   },
   "outputs": [
    {
     "data": {
      "text/plain": [
       "Index(['Company', 'Company Score', 'Job Title', 'Location', 'Date', 'Salary'], dtype='object')"
      ]
     },
     "execution_count": 73,
     "metadata": {},
     "output_type": "execute_result"
    }
   ],
   "source": [
    "data.columns"
   ]
  },
  {
   "cell_type": "markdown",
   "id": "d57a8d5b-5d7a-4faa-a54e-9e8dab76d271",
   "metadata": {
    "id": "d57a8d5b-5d7a-4faa-a54e-9e8dab76d271"
   },
   "source": [
    "## 4.In which city is the job located for the position of C# Software Engineer?"
   ]
  },
  {
   "cell_type": "code",
   "execution_count": null,
   "id": "c2897252-281a-4071-8895-8a18601333ee",
   "metadata": {
    "colab": {
     "base_uri": "https://localhost:8080/"
    },
    "id": "c2897252-281a-4071-8895-8a18601333ee",
    "outputId": "42f1fcf5-0a3c-4b80-8abe-a7ccbf01237d"
   },
   "outputs": [
    {
     "name": "stdout",
     "output_type": "stream",
     "text": [
      "Cities where C# Software Engineer jobs are located:\n",
      "          Location             Job Title\n",
      "2        Cary, NC  C# Software Engineer\n",
      "581  Pennsylvania  C# Software Engineer\n"
     ]
    }
   ],
   "source": [
    "location = data[data['Job Title'] == 'C# Software Engineer'][['Location','Job Title']]\n",
    "\n",
    "\n",
    "print('Cities where C# Software Engineer jobs are located:\\n', location)\n"
   ]
  },
  {
   "cell_type": "markdown",
   "id": "eb33f19d-cccf-4835-9e8b-18e57b2a142d",
   "metadata": {
    "id": "eb33f19d-cccf-4835-9e8b-18e57b2a142d"
   },
   "source": [
    "## 5.Which company offers a salary range of $68K - $94K for a Software Engineer role?"
   ]
  },
  {
   "cell_type": "code",
   "execution_count": 13,
   "id": "1ed1e632-ab51-4266-9584-cf58e0f51139",
   "metadata": {
    "colab": {
     "base_uri": "https://localhost:8080/"
    },
    "id": "1ed1e632-ab51-4266-9584-cf58e0f51139",
    "outputId": "fba1e96d-591a-44a2-e779-efc42f3f5a45"
   },
   "outputs": [
    {
     "name": "stdout",
     "output_type": "stream",
     "text": [
      "    Company          Job Title                        Salary\n",
      "0  ViewSoft  Software Engineer  $68K - $94K (Glassdoor est.)\n"
     ]
    }
   ],
   "source": [
    "salary_range = data[(data['Job Title'] == 'Software Engineer') & (data['Salary'].str.contains(r'68K.*94K'))]\n",
    "\n",
    "result = salary_range[['Company', 'Job Title', 'Salary']]\n",
    "\n",
    "print(result)\n"
   ]
  },
  {
   "cell_type": "markdown",
   "id": "96c688c2-7c57-42be-ac1f-9ec71214cd7f",
   "metadata": {
    "id": "96c688c2-7c57-42be-ac1f-9ec71214cd7f"
   },
   "source": [
    "## 6.Which company has a higher company score, ViewSoft or Workiva?"
   ]
  },
  {
   "cell_type": "code",
   "execution_count": null,
   "id": "24c30629-2220-4717-82d3-e31bd606fc32",
   "metadata": {
    "id": "24c30629-2220-4717-82d3-e31bd606fc32"
   },
   "outputs": [],
   "source": [
    "viewsoft_score = data[data['Company'] == 'ViewSoft']['Company Score']\n",
    "\n",
    "workiva_score = data[data['Company'] == 'Workiva']['Company Score']\n",
    "\n",
    "viewsoft_score_value = viewsoft_score.values[0]\n",
    "\n",
    "workiva_score_value = workiva_score.values[0]"
   ]
  },
  {
   "cell_type": "code",
   "execution_count": null,
   "id": "0a644c99-1b2e-4af5-98b0-3059f53e26a4",
   "metadata": {
    "colab": {
     "base_uri": "https://localhost:8080/"
    },
    "id": "0a644c99-1b2e-4af5-98b0-3059f53e26a4",
    "outputId": "780d3960-c38d-4dbd-c8d1-be6ab3bd238b"
   },
   "outputs": [
    {
     "name": "stdout",
     "output_type": "stream",
     "text": [
      "ViewSoft has a higher company score: 4.8\n"
     ]
    }
   ],
   "source": [
    "if viewsoft_score_value > workiva_score_value:\n",
    "\n",
    "  print('ViewSoft has a higher company score:', viewsoft_score_value)\n",
    "\n",
    "elif workiva_score_value > viewsoft_score_value:\n",
    "\n",
    "  print('Workiva has a higher company score:', workiva_score_value)\n",
    "\n",
    "else:\n",
    "\n",
    "  print('Both companies have the same company score:', viewsoft_score_value)"
   ]
  },
  {
   "cell_type": "markdown",
   "id": "1dafdd7c-98a7-4a6c-bef3-a2f9d559ffcd",
   "metadata": {
    "id": "1dafdd7c-98a7-4a6c-bef3-a2f9d559ffcd"
   },
   "source": [
    "## 7.Compare the salary range of the Software Engineer at Vitesco Technologies Group AG and the Software Engineer at Garmin International, Inc."
   ]
  },
  {
   "cell_type": "code",
   "execution_count": null,
   "id": "a7841507-7cc1-4871-9ba8-680d9e1b931f",
   "metadata": {
    "colab": {
     "base_uri": "https://localhost:8080/"
    },
    "id": "a7841507-7cc1-4871-9ba8-680d9e1b931f",
    "outputId": "3aab6244-e2ac-41fc-b16c-9b9818d18d63"
   },
   "outputs": [
    {
     "name": "stdout",
     "output_type": "stream",
     "text": [
      "Software Engineer Salary at Vitesco Technologies Group AG:\n",
      "4    $85K - $108K (Glassdoor est.)\n",
      "Name: Salary, dtype: object\n",
      "\n",
      "Software Engineer Salary at Garmin International, Inc.:\n",
      "2      $95K - $118K (Glassdoor est.)\n",
      "384     $70K - $96K (Glassdoor est.)\n",
      "530    $83K - $110K (Glassdoor est.)\n",
      "544    $85K - $130K (Glassdoor est.)\n",
      "Name: Salary, dtype: object\n"
     ]
    }
   ],
   "source": [
    "vitesco_salaries = data[(data['Company'] == 'Vitesco Technologies Group AG') & (data['Job Title'] == 'Software Engineer')]['Salary']\n",
    "\n",
    "garmin_salaries = data[(data['Company'] == 'Garmin International, Inc.') & (data['Job Title'].str.contains('Software Engineer', case=False))]['Salary']\n",
    "\n",
    "print('Software Engineer Salary at Vitesco Technologies Group AG:')\n",
    "\n",
    "print(vitesco_salaries)\n",
    "\n",
    "print('\\nSoftware Engineer Salary at Garmin International, Inc.:')\n",
    "print(garmin_salaries)\n"
   ]
  },
  {
   "cell_type": "markdown",
   "id": "424c4b84-4151-48c3-9236-156ee717a4ed",
   "metadata": {
    "id": "424c4b84-4151-48c3-9236-156ee717a4ed"
   },
   "source": [
    "## 8.Which job offers a salary range of over $100K?"
   ]
  },
  {
   "cell_type": "code",
   "execution_count": 21,
   "id": "b2d0c409-37c0-49dd-85a9-801be673ab97",
   "metadata": {
    "colab": {
     "base_uri": "https://localhost:8080/"
    },
    "id": "b2d0c409-37c0-49dd-85a9-801be673ab97",
    "outputId": "74d43022-1e9e-45e6-b9a9-c4f3e2bbba53"
   },
   "outputs": [
    {
     "name": "stdout",
     "output_type": "stream",
     "text": [
      "                                             Job Title  \\\n",
      "5                                  Backend Engineer II   \n",
      "9                                Sr. Software Engineer   \n",
      "14      Software Engineer, athenaCollector – RCM Rules   \n",
      "18                                   Software Engineer   \n",
      "23                         Associate Software Engineer   \n",
      "..                                                 ...   \n",
      "752                                 Software Developer   \n",
      "754      Software Dev Engineer, L5 , SFSC Integrations   \n",
      "758                      Junior Java Software Engineer   \n",
      "759                   Apprentice ETL Software Engineer   \n",
      "760  Software Engineer, Tool & Infrastructure, Reli...   \n",
      "\n",
      "                             Salary  \n",
      "5     $123K - $175K (Employer est.)  \n",
      "9     $147K - $189K (Employer est.)  \n",
      "14    $192K - $288K (Employer est.)  \n",
      "18    $124K - $234K (Employer est.)  \n",
      "23    $108K - $199K (Employer est.)  \n",
      "..                              ...  \n",
      "752  $118K - $184K (Glassdoor est.)  \n",
      "754   $124K - $234K (Employer est.)  \n",
      "758   $234K - $284K (Employer est.)  \n",
      "759   $160K - $385K (Employer est.)  \n",
      "760           $222K (Employer est.)  \n",
      "\n",
      "[320 rows x 2 columns]\n"
     ]
    }
   ],
   "source": [
    "data['new salary'] = data['Salary'].str.extract(r'(\\d{2,3})K')[0].astype(float)\n",
    "\n",
    "high_salary_jobs = data[data['new salary']> 100]\n",
    "\n",
    "result = high_salary_jobs[['Job Title', 'Salary']]\n",
    "\n",
    "print(result)\n"
   ]
  },
  {
   "cell_type": "markdown",
   "id": "e3b361a9-ce28-423a-a5c5-6e395642d481",
   "metadata": {
    "id": "e3b361a9-ce28-423a-a5c5-6e395642d481"
   },
   "source": [
    "## 9.Which company has a company score of less than 4.0?"
   ]
  },
  {
   "cell_type": "code",
   "execution_count": null,
   "id": "897ad45d-819b-4921-9c89-e48bae30ea50",
   "metadata": {
    "colab": {
     "base_uri": "https://localhost:8080/"
    },
    "id": "897ad45d-819b-4921-9c89-e48bae30ea50",
    "outputId": "b49fa99b-1392-4fc7-c59f-182ab8fd471b"
   },
   "outputs": [
    {
     "name": "stdout",
     "output_type": "stream",
     "text": [
      "Companies with a company score of less than 4.0:\n",
      "                            Company  Company Score\n",
      "2       Garmin International, Inc.            3.9\n",
      "3                         Snapchat            3.5\n",
      "4    Vitesco Technologies Group AG            3.1\n",
      "5                          Spotify            3.9\n",
      "8                            WHOOP            3.3\n",
      "..                             ...            ...\n",
      "782                     SimpliSafe            2.9\n",
      "783                 Inspire Brands            3.7\n",
      "785                   Deluxe Media            3.5\n",
      "786                           Meta            3.7\n",
      "787                      Liquibase            3.8\n",
      "\n",
      "[430 rows x 2 columns]\n"
     ]
    }
   ],
   "source": [
    "score = data[data['Company Score'] < 4.0]\n",
    "\n",
    "print('Companies with a company score of less than 4.0:\\n', score[['Company', 'Company Score']])\n"
   ]
  },
  {
   "cell_type": "markdown",
   "id": "9c94db37-a4ae-44c4-b59b-07ed87485057",
   "metadata": {
    "id": "9c94db37-a4ae-44c4-b59b-07ed87485057"
   },
   "source": [
    "## 10.What is the job title with the highest company score in this dataset?"
   ]
  },
  {
   "cell_type": "code",
   "execution_count": null,
   "id": "2a50f626-67b7-4323-acb3-cef262550338",
   "metadata": {
    "colab": {
     "base_uri": "https://localhost:8080/"
    },
    "id": "2a50f626-67b7-4323-acb3-cef262550338",
    "outputId": "e491dcb6-c9c0-4db3-fba3-7f675528aa1d"
   },
   "outputs": [
    {
     "name": "stdout",
     "output_type": "stream",
     "text": [
      "Job title(s) with the highest company score:\n",
      " 7                                    Software Developers\n",
      "16       Entry Level to Senior Level Software Developers\n",
      "41              Software Dev Engineer - Computer Science\n",
      "51                                     Software Engineer\n",
      "89                                 Software Engineer III\n",
      "90                                 Software Engineer III\n",
      "101                               Java Software Engineer\n",
      "102                                 Software Engineer II\n",
      "138                                    Software Engineer\n",
      "169                                    Software Engineer\n",
      "233                            Site Reliability Engineer\n",
      "262                             Senior Software Engineer\n",
      "264                                    Software Engineer\n",
      "331                                    Software Engineer\n",
      "409                       Sr. Front End Engineer (React)\n",
      "420                                    Software Engineer\n",
      "452                Software Systems Engineer - Mason, OH\n",
      "470         Full Stack Engineer II (Frontend) - Benefits\n",
      "471                           Software Engineer - Hybrid\n",
      "489                 Senior Software Engineer - Warehouse\n",
      "502                                DSP Software Engineer\n",
      "517               Senior Software Engineer, Service Mesh\n",
      "532                           Embedded Software Engineer\n",
      "578    Software Engineer 2 - Mainframe (Cobol, JCL, V...\n",
      "626    Senior Software Development Engineer - Data En...\n",
      "649                Software Integration Engineer, Junior\n",
      "656                                    Software Engineer\n",
      "702                                    Software Engineer\n",
      "Name: Job Title, dtype: object\n"
     ]
    }
   ],
   "source": [
    "max_score = data['Company Score'].max()\n",
    "\n",
    "highest_score_job = data[data['Company Score'] == max_score]\n",
    "\n",
    "print('Job title(s) with the highest company score:\\n', highest_score_job['Job Title'])\n"
   ]
  },
  {
   "cell_type": "markdown",
   "id": "76ba866c-451c-499f-9b38-81022c67e819",
   "metadata": {
    "id": "76ba866c-451c-499f-9b38-81022c67e819"
   },
   "source": [
    "## 11.List all companies that offer a salary range with a maximum value greater than $100K."
   ]
  },
  {
   "cell_type": "code",
   "execution_count": 22,
   "id": "eb5f4793-86ca-403e-8e64-3f08eafb5773",
   "metadata": {
    "colab": {
     "base_uri": "https://localhost:8080/"
    },
    "id": "eb5f4793-86ca-403e-8e64-3f08eafb5773",
    "outputId": "37fb3edb-fc49-4f2e-8824-b2feb2e2eed1"
   },
   "outputs": [
    {
     "name": "stdout",
     "output_type": "stream",
     "text": [
      "                       Company                          Salary\n",
      "5                      Spotify   $123K - $175K (Employer est.)\n",
      "9                          PFF   $147K - $189K (Employer est.)\n",
      "14                Athenahealth   $192K - $288K (Employer est.)\n",
      "18                       Hertz   $124K - $234K (Employer est.)\n",
      "23       The MITRE Corporation   $108K - $199K (Employer est.)\n",
      "..                         ...                             ...\n",
      "752  Amazon Web Services, Inc.  $118K - $184K (Glassdoor est.)\n",
      "754               Audacy, Inc.   $124K - $234K (Employer est.)\n",
      "758                      Tesla   $234K - $284K (Employer est.)\n",
      "759                     OpenAI   $160K - $385K (Employer est.)\n",
      "760                 NCR Atleos           $222K (Employer est.)\n",
      "\n",
      "[320 rows x 2 columns]\n"
     ]
    }
   ],
   "source": [
    "data['new salary'] = data['Salary'].str.extract(r'(\\d{2,3})K')[0].astype(float)\n",
    "\n",
    "jobs = data[data['new salary']> 100]\n",
    "\n",
    "result = jobs[['Company', 'Salary']]\n",
    "\n",
    "print(result)\n"
   ]
  },
  {
   "cell_type": "markdown",
   "id": "efd21121-30de-4159-b53e-fd5f60d7e146",
   "metadata": {
    "id": "efd21121-30de-4159-b53e-fd5f60d7e146"
   },
   "source": [
    "## 12.Which company has the lowest company score but offers a salary range above $90K?"
   ]
  },
  {
   "cell_type": "code",
   "execution_count": 25,
   "id": "e4c2d5fa-3260-48f7-b4e3-a0f1db8e9d7e",
   "metadata": {
    "colab": {
     "base_uri": "https://localhost:8080/"
    },
    "id": "e4c2d5fa-3260-48f7-b4e3-a0f1db8e9d7e",
    "outputId": "7b933850-560f-4f6c-82fa-541fc957d5e8"
   },
   "outputs": [
    {
     "name": "stdout",
     "output_type": "stream",
     "text": [
      "Company                                              BorgWarner\n",
      "Company Score                                               1.0\n",
      "Job Title        Software Development Engineer, Officer, Onsite\n",
      "Location                                             Quincy, MA\n",
      "Date                                                         3d\n",
      "Salary                            $120K - $140K (Employer est.)\n",
      "new salary                                                120.0\n",
      "Name: 600, dtype: object\n"
     ]
    }
   ],
   "source": [
    "data['new salary'] = data['Salary'].str.extract(r'(\\d{2,3})K')[0].astype(float)\n",
    "\n",
    "jobs = data[data['new salary']> 90]\n",
    "\n",
    "score = jobs.loc[jobs['Company Score'].idxmin()]\n",
    "\n",
    "print(score)\n"
   ]
  },
  {
   "cell_type": "markdown",
   "id": "d130fad6-ccd4-4931-a7db-3cfaaf331edc",
   "metadata": {
    "id": "d130fad6-ccd4-4931-a7db-3cfaaf331edc"
   },
   "source": [
    "## 13.List all jobs that are located in Texas and have a company score above 3.0."
   ]
  },
  {
   "cell_type": "code",
   "execution_count": null,
   "id": "fc9b52e4-85a1-4f59-b32c-97ecb9e02754",
   "metadata": {
    "colab": {
     "base_uri": "https://localhost:8080/"
    },
    "id": "fc9b52e4-85a1-4f59-b32c-97ecb9e02754",
    "outputId": "8e249675-7d17-461f-b749-af1000f13202"
   },
   "outputs": [
    {
     "name": "stdout",
     "output_type": "stream",
     "text": [
      "Jobs located in Texas with a company score above 3.0:\n",
      "                                  Job Title    Company Location  Company Score\n",
      "382  WordPress Full Stack Engineer (React)      Plaid    Texas            3.7\n",
      "494       Staff Software Engineer (Remote)  ByteDance    Texas            3.6\n"
     ]
    }
   ],
   "source": [
    "texas_jobs = data[(data['Location'] == 'Texas') & (data['Company Score'] > 3.0)]\n",
    "\n",
    "print('Jobs located in Texas with a company score above 3.0:\\n', texas_jobs[['Job Title', 'Company', 'Location', 'Company Score']])\n"
   ]
  },
  {
   "cell_type": "markdown",
   "id": "6b5d4d3c-c90f-45df-b1f3-e2ee5d9a95e6",
   "metadata": {
    "id": "6b5d4d3c-c90f-45df-b1f3-e2ee5d9a95e6"
   },
   "source": [
    "## 14.Which company offers the highest salary range for software engineering roles?"
   ]
  },
  {
   "cell_type": "code",
   "execution_count": null,
   "id": "adea432b-47fb-48c4-80c6-a75c41795695",
   "metadata": {
    "colab": {
     "base_uri": "https://localhost:8080/"
    },
    "id": "adea432b-47fb-48c4-80c6-a75c41795695",
    "outputId": "e29f7922-1df9-4568-8d64-8e026e0be53c"
   },
   "outputs": [
    {
     "name": "stdout",
     "output_type": "stream",
     "text": [
      "Company offering the highest salary:\n",
      "     Company                 Job Title                         Salary\n",
      "526  BOEING  Senior Software Engineer  $343K - $637K (Employer est.)\n"
     ]
    }
   ],
   "source": [
    "software_roles = data[data['Job Title'].str.contains('Software Engineer', case=False, na=False)]\n",
    "\n",
    "highest_salary = software_roles.loc[software_roles['Salary'].str.extract(r'(\\d{2,3})K').astype(float).idxmax()]\n",
    "\n",
    "print('Company offering the highest salary:\\n', highest_salary[['Company', 'Job Title', 'Salary']])\n"
   ]
  },
  {
   "cell_type": "markdown",
   "id": "abb2381e-effa-4df5-8068-39aba9edc88b",
   "metadata": {
    "id": "abb2381e-effa-4df5-8068-39aba9edc88b"
   },
   "source": [
    "## 15.What is the job title with the lowest salary range?"
   ]
  },
  {
   "cell_type": "code",
   "execution_count": null,
   "id": "136f1fa4-07db-4592-b6a4-045318b53929",
   "metadata": {
    "colab": {
     "base_uri": "https://localhost:8080/"
    },
    "id": "136f1fa4-07db-4592-b6a4-045318b53929",
    "outputId": "2d540729-33f0-43f8-9d0a-b826f2cde2dd"
   },
   "outputs": [
    {
     "name": "stdout",
     "output_type": "stream",
     "text": [
      "Job title with the lowest salary range:\n",
      " Job Title              Software Engineer\n",
      "Company          Solvere Technical Group\n",
      "Salary       $10K - $20K (Employer est.)\n",
      "Name: 350, dtype: object\n"
     ]
    }
   ],
   "source": [
    "salary= data['Salary'].str.extract(r'(\\d{2,3})K')[0].astype(float)\n",
    "\n",
    "lowest_salary = salary.idxmin()\n",
    "\n",
    "lowest_salary_role = data.loc[lowest_salary]\n",
    "\n",
    "print('Job title with the lowest salary range:\\n', lowest_salary_role[['Job Title', 'Company', 'Salary']])\n"
   ]
  },
  {
   "cell_type": "markdown",
   "id": "d5ef8a7e-92d6-4ffc-a0f8-a66965dbe32d",
   "metadata": {
    "id": "d5ef8a7e-92d6-4ffc-a0f8-a66965dbe32d"
   },
   "source": [
    "## 16.How many companies have a company score greater than 4.0?"
   ]
  },
  {
   "cell_type": "code",
   "execution_count": null,
   "id": "d60cce9d-309a-4ffa-8219-acef9d49c359",
   "metadata": {
    "colab": {
     "base_uri": "https://localhost:8080/"
    },
    "id": "d60cce9d-309a-4ffa-8219-acef9d49c359",
    "outputId": "ee161617-f308-42bc-b0df-e045072c1df3"
   },
   "outputs": [
    {
     "name": "stdout",
     "output_type": "stream",
     "text": [
      "Number of companies with a company score greater than 4.0: 249\n"
     ]
    }
   ],
   "source": [
    "high_score = data[data['Company Score'] > 4.0]\n",
    "\n",
    "companies = high_score['Company'].nunique()\n",
    "\n",
    "print('Number of companies with a company score greater than 4.0:',companies)\n"
   ]
  },
  {
   "cell_type": "markdown",
   "id": "7b5063fb-ea24-47c3-9984-2435ceebca8c",
   "metadata": {
    "id": "7b5063fb-ea24-47c3-9984-2435ceebca8c"
   },
   "source": [
    "### 17.Which job title is offered in Los Angeles, CA?"
   ]
  },
  {
   "cell_type": "code",
   "execution_count": null,
   "id": "38871751-0f80-43c7-943c-2f4065bf15d7",
   "metadata": {
    "colab": {
     "base_uri": "https://localhost:8080/"
    },
    "id": "38871751-0f80-43c7-943c-2f4065bf15d7",
    "outputId": "3eb7ab15-3252-40f9-fd1f-570597c70fef"
   },
   "outputs": [
    {
     "name": "stdout",
     "output_type": "stream",
     "text": [
      "Job titles offered in Los Angeles, CA:\n",
      " ['Software Engineer, Fullstack, 1+ Years of Experience'\n",
      " 'Software Engineer, C++' 'Software Engineer Sr'\n",
      " 'Senior DevOps Engineer - Los Angeles'\n",
      " 'Software Engineer, C++, 3+ Years of Experience'\n",
      " 'Contract Software Engineer'\n",
      " 'AI Software Engineer, Campus, United States - BCG X'\n",
      " 'Analytics Engineer' 'Software Engineer (C++)']\n"
     ]
    }
   ],
   "source": [
    "jobs = data[data['Location'] == 'Los Angeles, CA']\n",
    "\n",
    "job_titles = jobs['Job Title'].unique()\n",
    "\n",
    "print('Job titles offered in Los Angeles, CA:\\n', job_titles)\n"
   ]
  },
  {
   "cell_type": "markdown",
   "id": "239df016-0fbe-4dff-8c10-b30340e7d284",
   "metadata": {
    "id": "239df016-0fbe-4dff-8c10-b30340e7d284"
   },
   "source": [
    "## 18.Compare the salary ranges of software engineering jobs in Virginia and California."
   ]
  },
  {
   "cell_type": "code",
   "execution_count": null,
   "id": "2015f8aa-fa59-409f-8df6-531614615145",
   "metadata": {
    "colab": {
     "base_uri": "https://localhost:8080/"
    },
    "id": "2015f8aa-fa59-409f-8df6-531614615145",
    "outputId": "37254eba-235a-4980-a615-522284d3dc6f"
   },
   "outputs": [
    {
     "name": "stdout",
     "output_type": "stream",
     "text": [
      "Virginia Software Engineering Jobs Salary Range: Min: $84K - $106K (Glassdoor est.), Max: $84K - $106K (Glassdoor est.)\n",
      "\n",
      "California Software Engineering Jobs Salary Range: Min: $79K - $117K (Glassdoor est.), Max: $93K - $128K (Glassdoor est.)\n"
     ]
    }
   ],
   "source": [
    "va_salary = data[(data['Location'] == 'Virginia') & (data['Job Title'].str.contains('Software Engineer'))]['Salary']\n",
    "\n",
    "ca_salary = data[(data['Location'] == 'California') & (data['Job Title'].str.contains('Software Engineer'))]['Salary']\n",
    "\n",
    "va_salary_min, va_salary_max = va_salary.min(), va_salary.max()\n",
    "\n",
    "ca_salary_min, ca_salary_max = ca_salary.min(), ca_salary.max()\n",
    "\n",
    "print(\"Virginia Software Engineering Jobs Salary Range: Min: {}, Max: {}\".format(va_salary_min,va_salary_max))\n",
    "\n",
    "print(\"\\nCalifornia Software Engineering Jobs Salary Range: Min: {}, Max: {}\".format(ca_salary_min, ca_salary_max))\n"
   ]
  },
  {
   "cell_type": "markdown",
   "id": "b4c7f828-d573-4f58-9caf-ca3743c40221",
   "metadata": {
    "id": "b4c7f828-d573-4f58-9caf-ca3743c40221"
   },
   "source": [
    "## 19.Which company offers a remote software engineer position?"
   ]
  },
  {
   "cell_type": "code",
   "execution_count": null,
   "id": "7f6844ff-ed0f-4eb5-82bb-64f5ea9be780",
   "metadata": {
    "colab": {
     "base_uri": "https://localhost:8080/"
    },
    "id": "7f6844ff-ed0f-4eb5-82bb-64f5ea9be780",
    "outputId": "2d3b2d1d-6f17-400b-ec1b-5d1e16da9d56"
   },
   "outputs": [
    {
     "name": "stdout",
     "output_type": "stream",
     "text": [
      "Companies offering remote software engineer positions:\n",
      " ['PFF' 'HealthMine Services, Inc.' 'Workiva' 'Zipongo' 'Instacart'\n",
      " 'Cultura Technologies Inc' 'Mailprotector' 'Perforce Software' 'Origence'\n",
      " 'CNH Industrial' 'Splunk' 'Aflac, Incorporated' 'Two Six Technologies'\n",
      " 'BAE Systems' 'Inabia Software & Consulting Inc.' 'ICR, Inc.'\n",
      " 'Quantum Systems Inc' 'Rippling' 'NetApp' 'Salesforce' 'ByteDance'\n",
      " 'JRC Integrated Systems, LLC' 'GAP Solutions, Inc.' 'BOEING'\n",
      " 'TDI Technologies' 'Chatsworth Products']\n"
     ]
    }
   ],
   "source": [
    "remote_software_jobs = data[(data['Job Title'].str.contains('Software Engineer')) & (data['Location'].str.contains('Remote', case=False))]\n",
    "\n",
    "remote_companies = remote_software_jobs['Company'].unique()\n",
    "\n",
    "print('Companies offering remote software engineer positions:\\n', remote_companies)\n"
   ]
  },
  {
   "cell_type": "markdown",
   "id": "20d19935-f56c-4d8c-8de7-ae1e91e3fec6",
   "metadata": {
    "id": "20d19935-f56c-4d8c-8de7-ae1e91e3fec6"
   },
   "source": [
    "## 20.What is the average salary range for all the jobs in this dataset?"
   ]
  },
  {
   "cell_type": "code",
   "execution_count": null,
   "id": "b4e2c059-3d66-4307-a64a-c607da95de54",
   "metadata": {
    "colab": {
     "base_uri": "https://localhost:8080/"
    },
    "id": "b4e2c059-3d66-4307-a64a-c607da95de54",
    "outputId": "2a7c144e-b71e-4cb8-c5e3-3030919f4546"
   },
   "outputs": [
    {
     "name": "stdout",
     "output_type": "stream",
     "text": [
      "The average salary range for all jobs in this dataset is: $129.54\n"
     ]
    }
   ],
   "source": [
    "salary_extracted = data['Salary'].str.extractall(r'(\\d{2,3})K').astype(float)\n",
    "\n",
    "average_salary = salary_extracted[0].mean()\n",
    "\n",
    "print(f'The average salary range for all jobs in this dataset is: ${average_salary:.2f}')\n"
   ]
  },
  {
   "cell_type": "markdown",
   "id": "24e84404-028c-4f46-8729-f0bbe9a2731f",
   "metadata": {
    "id": "24e84404-028c-4f46-8729-f0bbe9a2731f"
   },
   "source": [
    "## 21.Find all jobs posted within the last week."
   ]
  },
  {
   "cell_type": "code",
   "execution_count": null,
   "id": "e59d2ab7-7c06-4d1e-8fb3-7dbe00da12b3",
   "metadata": {
    "colab": {
     "base_uri": "https://localhost:8080/"
    },
    "id": "e59d2ab7-7c06-4d1e-8fb3-7dbe00da12b3",
    "outputId": "6fdf4e2b-79d4-41b3-f8d0-dd102be4d6f1"
   },
   "outputs": [
    {
     "name": "stdout",
     "output_type": "stream",
     "text": [
      "Jobs posted within the last week:\n",
      "                                              Job Title Date\n",
      "1                            Software Support Engineer   2d\n",
      "2                                 C# Software Engineer   2d\n",
      "3    Software Engineer, Fullstack, 1+ Years of Expe...   2d\n",
      "4                                    Software Engineer   2d\n",
      "5                                  Backend Engineer II   1d\n",
      "..                                                 ...  ...\n",
      "858                           Senior Software Engineer   3d\n",
      "862                               Software Engineer II   3d\n",
      "863           Embedded Software Engineer (Entry-Level)   2d\n",
      "865        Software Engineer, Machine Learning Compute   6d\n",
      "868                            Junior Python Developer   2d\n",
      "\n",
      "[377 rows x 2 columns]\n"
     ]
    }
   ],
   "source": [
    "last_week_jobs = data[data['Date'].isin(['24h', '1d', '2d', '3d', '4d', '5d', '6d', '7d'])]\n",
    "\n",
    "print('Jobs posted within the last week:\\n', last_week_jobs[['Job Title','Date']])\n"
   ]
  },
  {
   "cell_type": "markdown",
   "id": "6ace1268-1cb3-4542-aa37-b96f8d286b56",
   "metadata": {
    "id": "6ace1268-1cb3-4542-aa37-b96f8d286b56"
   },
   "source": [
    "## 22.Which company offers the highest salary range for software support roles?"
   ]
  },
  {
   "cell_type": "code",
   "execution_count": null,
   "id": "6202aa5b-7756-4338-a516-e44c64279f0e",
   "metadata": {
    "colab": {
     "base_uri": "https://localhost:8080/",
     "height": 115
    },
    "id": "6202aa5b-7756-4338-a516-e44c64279f0e",
    "outputId": "ae024b51-636d-4935-cff7-cc0752635bb9"
   },
   "outputs": [
    {
     "data": {
      "text/html": [
       "<div>\n",
       "<style scoped>\n",
       "    .dataframe tbody tr th:only-of-type {\n",
       "        vertical-align: middle;\n",
       "    }\n",
       "\n",
       "    .dataframe tbody tr th {\n",
       "        vertical-align: top;\n",
       "    }\n",
       "\n",
       "    .dataframe thead th {\n",
       "        text-align: right;\n",
       "    }\n",
       "</style>\n",
       "<table border=\"1\" class=\"dataframe\">\n",
       "  <thead>\n",
       "    <tr style=\"text-align: right;\">\n",
       "      <th></th>\n",
       "      <th>0</th>\n",
       "    </tr>\n",
       "  </thead>\n",
       "  <tbody>\n",
       "    <tr>\n",
       "      <th>0</th>\n",
       "      <td>102.0</td>\n",
       "    </tr>\n",
       "  </tbody>\n",
       "</table>\n",
       "</div><br><label><b>dtype:</b> float64</label>"
      ],
      "text/plain": [
       "0    102.0\n",
       "dtype: float64"
      ]
     },
     "execution_count": 56,
     "metadata": {},
     "output_type": "execute_result"
    }
   ],
   "source": [
    "jobs = data[data['Job Title'].str.contains('Software Support', case=False, na=False)]\n",
    "\n",
    "max_salary = jobs['Salary'].str.extract(r'(\\d{2,3})K').astype(float).max()\n",
    "\n",
    "max_salary"
   ]
  },
  {
   "cell_type": "markdown",
   "id": "f34b4901-c5da-4fc2-b729-8664aae76e5c",
   "metadata": {
    "id": "f34b4901-c5da-4fc2-b729-8664aae76e5c"
   },
   "source": [
    "## 23.How many jobs are located in California?"
   ]
  },
  {
   "cell_type": "code",
   "execution_count": null,
   "id": "72195561-ae0d-4e2c-8f2c-e0af54b7bf64",
   "metadata": {
    "colab": {
     "base_uri": "https://localhost:8080/"
    },
    "id": "72195561-ae0d-4e2c-8f2c-e0af54b7bf64",
    "outputId": "6383af6f-2b52-499e-d566-3de799a83f64"
   },
   "outputs": [
    {
     "name": "stdout",
     "output_type": "stream",
     "text": [
      "4\n"
     ]
    }
   ],
   "source": [
    "jobs = data[data['Location'] == 'California']\n",
    "\n",
    "california_jobs = jobs['Job Title'].count()\n",
    "\n",
    "\n",
    "print(california_jobs)\n"
   ]
  },
  {
   "cell_type": "markdown",
   "id": "5a5ddc5f-4fb3-4b6b-ae45-38dd64d615c4",
   "metadata": {
    "id": "5a5ddc5f-4fb3-4b6b-ae45-38dd64d615c4"
   },
   "source": [
    "## 24.What is the job title with the lowest company score in the dataset?"
   ]
  },
  {
   "cell_type": "code",
   "execution_count": null,
   "id": "4ec24ff4-7acf-4d68-9512-e2087606e26c",
   "metadata": {
    "colab": {
     "base_uri": "https://localhost:8080/"
    },
    "id": "4ec24ff4-7acf-4d68-9512-e2087606e26c",
    "outputId": "89622c0e-d2b4-4bf9-a5e4-92e99fcd875e"
   },
   "outputs": [
    {
     "name": "stdout",
     "output_type": "stream",
     "text": [
      "Job title with the lowest company score:\n",
      " Job Title        Software Development Engineer, Officer, Onsite\n",
      "Company Score                                               1.0\n",
      "Name: 600, dtype: object\n"
     ]
    }
   ],
   "source": [
    "data1 = data.dropna(subset=['Company Score'])\n",
    "\n",
    "min_score = data1['Company Score'].idxmin()\n",
    "\n",
    "lowest_score_job = data1.loc[min_score]\n",
    "\n",
    "print('Job title with the lowest company score:\\n', lowest_score_job[['Job Title', 'Company Score']])\n"
   ]
  },
  {
   "cell_type": "markdown",
   "id": "e1cd7346-adf4-48c5-9d89-6ab41c447853",
   "metadata": {
    "id": "e1cd7346-adf4-48c5-9d89-6ab41c447853"
   },
   "source": [
    "## 25.List all companies with jobs offering a salary range over $120K."
   ]
  },
  {
   "cell_type": "code",
   "execution_count": 26,
   "id": "35463019-d649-4c5a-9812-ad7f0e7db73e",
   "metadata": {
    "colab": {
     "base_uri": "https://localhost:8080/"
    },
    "id": "35463019-d649-4c5a-9812-ad7f0e7db73e",
    "outputId": "6de83ea4-d365-4c93-a92b-3d666301e3f0"
   },
   "outputs": [
    {
     "name": "stdout",
     "output_type": "stream",
     "text": [
      "             Company                         Salary\n",
      "5            Spotify  $123K - $175K (Employer est.)\n",
      "9                PFF  $147K - $189K (Employer est.)\n",
      "14      Athenahealth  $192K - $288K (Employer est.)\n",
      "18             Hertz  $124K - $234K (Employer est.)\n",
      "25              Amex  $124K - $142K (Employer est.)\n",
      "..               ...                            ...\n",
      "751  Bank of America  $129K - $224K (Employer est.)\n",
      "754     Audacy, Inc.  $124K - $234K (Employer est.)\n",
      "758            Tesla  $234K - $284K (Employer est.)\n",
      "759           OpenAI  $160K - $385K (Employer est.)\n",
      "760       NCR Atleos          $222K (Employer est.)\n",
      "\n",
      "[183 rows x 2 columns]\n"
     ]
    }
   ],
   "source": [
    "data['new salary'] = data['Salary'].str.extract(r'(\\d{2,3})K')[0].astype(float)\n",
    "\n",
    "jobs = data[data['new salary']> 120]\n",
    "\n",
    "result = jobs[['Company', 'Salary']]\n",
    "\n",
    "print(result)\n"
   ]
  },
  {
   "cell_type": "markdown",
   "id": "86f6263c-acb9-4445-b17f-1e76d3ca3eba",
   "metadata": {
    "id": "86f6263c-acb9-4445-b17f-1e76d3ca3eba"
   },
   "source": [
    "## 26.Which company offers a full-stack software engineer position?"
   ]
  },
  {
   "cell_type": "code",
   "execution_count": null,
   "id": "0aaf3fe5-8f27-4e40-b4be-433a1f0335bb",
   "metadata": {
    "colab": {
     "base_uri": "https://localhost:8080/"
    },
    "id": "0aaf3fe5-8f27-4e40-b4be-433a1f0335bb",
    "outputId": "71252b2f-cf8b-4d1b-ea3e-5a09d8821b3d"
   },
   "outputs": [
    {
     "name": "stdout",
     "output_type": "stream",
     "text": [
      "Companies offering Full-Stack Software Engineer positions:\n",
      " ['T-Mobile USA, Inc.' 'Software Productivity Strategists'\n",
      " 'iconectiv, LLC.' 'Sage' '3 Reasons Consulting'\n",
      " 'University of Washington' 'Super Micro Computer' 'State Street' 'Adobe'\n",
      " 'BOEING']\n"
     ]
    }
   ],
   "source": [
    "full_stack_jobs = data[data['Job Title'].str.contains('Full Stack Software Engineer', case=False, na=False)]\n",
    "\n",
    "full_stack_companies = full_stack_jobs['Company'].unique()\n",
    "\n",
    "print('Companies offering Full-Stack Software Engineer positions:\\n', full_stack_companies)\n"
   ]
  },
  {
   "cell_type": "markdown",
   "id": "af21d6e0-f37f-459c-ac26-739ac218fda3",
   "metadata": {
    "id": "af21d6e0-f37f-459c-ac26-739ac218fda3"
   },
   "source": [
    "## 27.Find all companies that have both a company score over 4.0 and offer a salary range above $100K."
   ]
  },
  {
   "cell_type": "code",
   "execution_count": 29,
   "id": "01dcebba-1b6b-4c3e-92fb-0395441e453b",
   "metadata": {
    "colab": {
     "base_uri": "https://localhost:8080/"
    },
    "id": "01dcebba-1b6b-4c3e-92fb-0395441e453b",
    "outputId": "056d3722-e942-4384-cec8-c7e8bf9816d6"
   },
   "outputs": [
    {
     "name": "stdout",
     "output_type": "stream",
     "text": [
      "                            Company  Company Score  \\\n",
      "9                               PFF            4.2   \n",
      "24       Boston Children's Hospital            4.1   \n",
      "28                            Adobe            4.3   \n",
      "38   Software Engineering Institute            4.2   \n",
      "41          Amazon.com Services LLC            5.0   \n",
      "..                              ...            ...   \n",
      "727            LinQuest Corporation            4.3   \n",
      "742        Digital Insight Printing            4.1   \n",
      "745             Powermind Solutions            4.6   \n",
      "754                    Audacy, Inc.            4.8   \n",
      "758                           Tesla            4.1   \n",
      "\n",
      "                             Salary  \n",
      "9     $147K - $189K (Employer est.)  \n",
      "24    $102K - $173K (Employer est.)  \n",
      "28    $142K - $178K (Employer est.)  \n",
      "38    $116K - $184K (Employer est.)  \n",
      "41    $112K - $165K (Employer est.)  \n",
      "..                              ...  \n",
      "727  $119K - $173K (Glassdoor est.)  \n",
      "742   $175K - $209K (Employer est.)  \n",
      "745   $129K - $193K (Employer est.)  \n",
      "754   $124K - $234K (Employer est.)  \n",
      "758   $234K - $284K (Employer est.)  \n",
      "\n",
      "[115 rows x 3 columns]\n"
     ]
    }
   ],
   "source": [
    "data['new salary'] = data['Salary'].str.extract(r'(\\d{2,3})K')[0].astype(float)\n",
    "\n",
    "jobs = data[(data['new salary']> 100) &( data['Company Score']>4)]\n",
    "\n",
    "result = jobs[['Company','Company Score', 'Salary']]\n",
    "\n",
    "print(result)\n"
   ]
  },
  {
   "cell_type": "markdown",
   "id": "8309f619-c3e2-49f9-ae3b-0a439a306c13",
   "metadata": {
    "id": "8309f619-c3e2-49f9-ae3b-0a439a306c13"
   },
   "source": [
    "## 28.What is the location for the job with the highest salary range?"
   ]
  },
  {
   "cell_type": "code",
   "execution_count": 34,
   "id": "edc75fda-df1b-40c1-a03d-e6b4b7807bb2",
   "metadata": {
    "colab": {
     "base_uri": "https://localhost:8080/"
    },
    "id": "edc75fda-df1b-40c1-a03d-e6b4b7807bb2",
    "outputId": "e86866a0-31ec-4432-dc0c-fb1435d2db41"
   },
   "outputs": [
    {
     "name": "stdout",
     "output_type": "stream",
     "text": [
      "Company                            BOEING\n",
      "Location                   Washington, DC\n",
      "Salary      $343K - $637K (Employer est.)\n",
      "Name: 526, dtype: object\n"
     ]
    }
   ],
   "source": [
    "data['new salary'] = data['Salary'].str.extract(r'(\\d{2,3})K')[0].astype(float)\n",
    "\n",
    "jobs = data.loc[data['new salary'].idxmax()]\n",
    "\n",
    "result = jobs[['Company', 'Location', 'Salary']]\n",
    "\n",
    "print(result)\n"
   ]
  },
  {
   "cell_type": "markdown",
   "id": "7907ac1c-2950-474d-b706-0f0ece78964a",
   "metadata": {
    "id": "7907ac1c-2950-474d-b706-0f0ece78964a"
   },
   "source": [
    "## 29.Compare the salary ranges of all software engineer roles in the dataset."
   ]
  },
  {
   "cell_type": "code",
   "execution_count": 36,
   "id": "89de67d1-61ee-4fde-9dd7-2c36e689a3a5",
   "metadata": {
    "colab": {
     "base_uri": "https://localhost:8080/"
    },
    "id": "89de67d1-61ee-4fde-9dd7-2c36e689a3a5",
    "outputId": "7df1ef99-4a69-410e-baf7-57d03466d02a"
   },
   "outputs": [
    {
     "name": "stdout",
     "output_type": "stream",
     "text": [
      "Salary ranges for all Software Engineer roles:\n",
      "                                              Job Title  \\\n",
      "0                                    Software Engineer   \n",
      "2                                 C# Software Engineer   \n",
      "3    Software Engineer, Fullstack, 1+ Years of Expe...   \n",
      "4                                    Software Engineer   \n",
      "6                          Associate Software Engineer   \n",
      "..                                                 ...   \n",
      "864       Senior Software Engineer - App Orchestration   \n",
      "865        Software Engineer, Machine Learning Compute   \n",
      "866                Software Engineer - 3 (Apache NiFi)   \n",
      "867                           Senior Software Engineer   \n",
      "869       GUI Software Engineer II - Surgical Robotics   \n",
      "\n",
      "                            Salary  \n",
      "0     $68K - $94K (Glassdoor est.)  \n",
      "2    $95K - $118K (Glassdoor est.)  \n",
      "3     $97K - $145K (Employer est.)  \n",
      "4    $85K - $108K (Glassdoor est.)  \n",
      "6     $77K - $94K (Glassdoor est.)  \n",
      "..                             ...  \n",
      "864                            NaN  \n",
      "865                            NaN  \n",
      "866                            NaN  \n",
      "867                            NaN  \n",
      "869                            NaN  \n",
      "\n",
      "[646 rows x 2 columns]\n"
     ]
    }
   ],
   "source": [
    "software_jobs = data[data['Job Title'].str.contains('Software Engineer', case=False, na=False)]\n",
    "\n",
    "salary = software_jobs[['Job Title','Salary']]\n",
    "\n",
    "print('Salary ranges for all Software Engineer roles:\\n', salary)\n"
   ]
  },
  {
   "cell_type": "markdown",
   "id": "90455e31-43ee-4351-8c68-efd79596bdd5",
   "metadata": {
    "id": "90455e31-43ee-4351-8c68-efd79596bdd5"
   },
   "source": [
    "## 30.Which company offers the highest estimated salary for a Software Engineer?"
   ]
  },
  {
   "cell_type": "code",
   "execution_count": 47,
   "id": "f25df629-1dba-4618-b39b-dd79ca5b097c",
   "metadata": {
    "colab": {
     "base_uri": "https://localhost:8080/",
     "height": 303
    },
    "id": "f25df629-1dba-4618-b39b-dd79ca5b097c",
    "outputId": "33027109-e51c-49fe-8878-054169cf1b43"
   },
   "outputs": [
    {
     "data": {
      "text/html": [
       "<div>\n",
       "<style scoped>\n",
       "    .dataframe tbody tr th:only-of-type {\n",
       "        vertical-align: middle;\n",
       "    }\n",
       "\n",
       "    .dataframe tbody tr th {\n",
       "        vertical-align: top;\n",
       "    }\n",
       "\n",
       "    .dataframe thead th {\n",
       "        text-align: right;\n",
       "    }\n",
       "</style>\n",
       "<table border=\"1\" class=\"dataframe\">\n",
       "  <thead>\n",
       "    <tr style=\"text-align: right;\">\n",
       "      <th></th>\n",
       "      <th>343</th>\n",
       "    </tr>\n",
       "  </thead>\n",
       "  <tbody>\n",
       "    <tr>\n",
       "      <th>Company</th>\n",
       "      <td>Tencent</td>\n",
       "    </tr>\n",
       "    <tr>\n",
       "      <th>Company Score</th>\n",
       "      <td>4.0</td>\n",
       "    </tr>\n",
       "    <tr>\n",
       "      <th>Job Title</th>\n",
       "      <td>Senior Software Engineer</td>\n",
       "    </tr>\n",
       "    <tr>\n",
       "      <th>Location</th>\n",
       "      <td>Vienna, VA</td>\n",
       "    </tr>\n",
       "    <tr>\n",
       "      <th>Date</th>\n",
       "      <td>2d</td>\n",
       "    </tr>\n",
       "    <tr>\n",
       "      <th>Salary</th>\n",
       "      <td>$84K - $132K (Glassdoor est.)</td>\n",
       "    </tr>\n",
       "    <tr>\n",
       "      <th>new salary</th>\n",
       "      <td>84.0</td>\n",
       "    </tr>\n",
       "  </tbody>\n",
       "</table>\n",
       "</div><br><label><b>dtype:</b> object</label>"
      ],
      "text/plain": [
       "Company                                Tencent\n",
       "Company Score                              4.0\n",
       "Job Title             Senior Software Engineer\n",
       "Location                            Vienna, VA\n",
       "Date                                        2d\n",
       "Salary           $84K - $132K (Glassdoor est.)\n",
       "new salary                                84.0\n",
       "Name: 343, dtype: object"
      ]
     },
     "execution_count": 47,
     "metadata": {},
     "output_type": "execute_result"
    }
   ],
   "source": [
    "software_jobs = data[data['Job Title'].str.contains('Software Engineer', case=False, na=False)]\n",
    "\n",
    "software_jobs.loc [software_jobs['new salary'].max() ]\n"
   ]
  },
  {
   "cell_type": "markdown",
   "id": "9cfb9cdf-ba74-465f-9cf8-c98e757c54ee",
   "metadata": {
    "id": "9cfb9cdf-ba74-465f-9cf8-c98e757c54ee"
   },
   "source": [
    "## 31.What is the estimated salary range for a Software Engineer at Garmin International, Inc.?"
   ]
  },
  {
   "cell_type": "code",
   "execution_count": 18,
   "id": "725dd4bf-b2dd-4298-b96a-7f27bd97727e",
   "metadata": {
    "colab": {
     "base_uri": "https://localhost:8080/"
    },
    "id": "725dd4bf-b2dd-4298-b96a-7f27bd97727e",
    "outputId": "e6c9ceca-9bec-447f-bd2f-cd160a0ab4f3"
   },
   "outputs": [
    {
     "name": "stdout",
     "output_type": "stream",
     "text": [
      "                        Company  \\\n",
      "2    Garmin International, Inc.   \n",
      "384  Garmin International, Inc.   \n",
      "530  Garmin International, Inc.   \n",
      "544  Garmin International, Inc.   \n",
      "\n",
      "                                             Job Title  \\\n",
      "2                                 C# Software Engineer   \n",
      "384      Experienced Software Engineer - Scaled Access   \n",
      "530         Senior Software Engineer - Courier Pricing   \n",
      "544  Associate Software Engineer, Edwards Air Force...   \n",
      "\n",
      "                            Salary  \n",
      "2    $95K - $118K (Glassdoor est.)  \n",
      "384   $70K - $96K (Glassdoor est.)  \n",
      "530  $83K - $110K (Glassdoor est.)  \n",
      "544  $85K - $130K (Glassdoor est.)  \n"
     ]
    }
   ],
   "source": [
    "garmin_salary_range = data[(data['Company'] == 'Garmin International, Inc.') & (data['Job Title'].str.contains('Software Engineer', case=False, na=False))]\n",
    "\n",
    "result = garmin_salary_range[['Company', 'Job Title', 'Salary']]\n",
    "\n",
    "\n",
    "print(result)\n"
   ]
  },
  {
   "cell_type": "markdown",
   "id": "a3646b2a-0e75-4044-a376-1a2eaba88857",
   "metadata": {
    "id": "a3646b2a-0e75-4044-a376-1a2eaba88857"
   },
   "source": [
    "## 32.Which company offers a Software Support Engineer role?"
   ]
  },
  {
   "cell_type": "code",
   "execution_count": 52,
   "id": "bfd882bb-0a10-49f9-acec-5bc6ec33be87",
   "metadata": {
    "colab": {
     "base_uri": "https://localhost:8080/"
    },
    "id": "bfd882bb-0a10-49f9-acec-5bc6ec33be87",
    "outputId": "750516c0-fde2-4b90-aaf4-c95f28710c15"
   },
   "outputs": [
    {
     "name": "stdout",
     "output_type": "stream",
     "text": [
      "                                Company  \\\n",
      "1                               Workiva   \n",
      "423  LSEG (London Stock Exchange Group)   \n",
      "627          Garmin International, Inc.   \n",
      "690                    Prophet Software   \n",
      "\n",
      "                                             Job Title  \n",
      "1                            Software Support Engineer  \n",
      "423                          Software Support Engineer  \n",
      "627  Yardi Enterprise Software Support Engineer - H...  \n",
      "690                    Field Software Support Engineer  \n"
     ]
    }
   ],
   "source": [
    "software_support_roles = data[data['Job Title'].str.contains('Software Support Engineer', case=False, na=False)]\n",
    "\n",
    "result = software_support_roles[['Company', 'Job Title']]\n",
    "\n",
    "print(result)\n"
   ]
  },
  {
   "cell_type": "markdown",
   "id": "f47c2018-9310-4901-9f7d-2c2dcb73a512",
   "metadata": {
    "id": "f47c2018-9310-4901-9f7d-2c2dcb73a512"
   },
   "source": [
    "## 33.What is the company score for Snapchat?"
   ]
  },
  {
   "cell_type": "code",
   "execution_count": null,
   "id": "a7424d10-1b86-47bd-9b94-841889f98b71",
   "metadata": {
    "colab": {
     "base_uri": "https://localhost:8080/"
    },
    "id": "a7424d10-1b86-47bd-9b94-841889f98b71",
    "outputId": "5dbe158e-a1e9-4cbe-c839-763037a03548"
   },
   "outputs": [
    {
     "name": "stdout",
     "output_type": "stream",
     "text": [
      "The company score for Snapchat is\n",
      ": 3      3.5\n",
      "17     3.5\n",
      "281    4.3\n",
      "284    3.8\n",
      "Name: Company Score, dtype: float64\n"
     ]
    }
   ],
   "source": [
    "snapchat_score = data[data['Company'] == 'Snapchat']['Company Score']\n",
    "\n",
    "print(f\"The company score for Snapchat is\\n: {snapchat_score}\")\n"
   ]
  },
  {
   "cell_type": "markdown",
   "id": "ee53be8c-9942-4b66-8a2e-b64a0bd22462",
   "metadata": {
    "id": "ee53be8c-9942-4b66-8a2e-b64a0bd22462"
   },
   "source": [
    "## 34.In which city is the job located for the position of C# Software Engineer?"
   ]
  },
  {
   "cell_type": "code",
   "execution_count": 12,
   "id": "b161adeb-7e90-4ac7-a656-aabbe21e202d",
   "metadata": {
    "colab": {
     "base_uri": "https://localhost:8080/"
    },
    "id": "b161adeb-7e90-4ac7-a656-aabbe21e202d",
    "outputId": "ad4af079-dc6a-41c8-e57f-2cba184d1baf"
   },
   "outputs": [
    {
     "name": "stdout",
     "output_type": "stream",
     "text": [
      "                Job Title      Location\n",
      "2    C# Software Engineer      Cary, NC\n",
      "581  C# Software Engineer  Pennsylvania\n"
     ]
    }
   ],
   "source": [
    "roles = data[data['Job Title'] == 'C# Software Engineer']\n",
    "\n",
    "\n",
    "result = roles[['Job Title', 'Location']]\n",
    "\n",
    "\n",
    "print(result)\n"
   ]
  },
  {
   "cell_type": "markdown",
   "id": "03a1ef57-0767-44a0-afb0-05047d8c0be0",
   "metadata": {
    "id": "03a1ef57-0767-44a0-afb0-05047d8c0be0"
   },
   "source": [
    "## 35.Which company offers a salary range of $68K - $94K for a Software Engineer role?"
   ]
  },
  {
   "cell_type": "code",
   "execution_count": 20,
   "id": "0502bd67-9f4a-4436-9d01-8d2f5dfb4ea9",
   "metadata": {
    "colab": {
     "base_uri": "https://localhost:8080/"
    },
    "id": "0502bd67-9f4a-4436-9d01-8d2f5dfb4ea9",
    "outputId": "40ace22c-672a-4506-b66a-57df4017e9e1"
   },
   "outputs": [
    {
     "name": "stdout",
     "output_type": "stream",
     "text": [
      "    Company          Job Title                        Salary\n",
      "0  ViewSoft  Software Engineer  $68K - $94K (Glassdoor est.)\n"
     ]
    }
   ],
   "source": [
    "salary_range = data[(data['Job Title'] == 'Software Engineer') & (data['Salary'].str.contains(r'68K.*94K'))]\n",
    "\n",
    "result = salary_range[['Company', 'Job Title', 'Salary']]\n",
    "\n",
    "print(result)\n"
   ]
  },
  {
   "cell_type": "markdown",
   "id": "6c588e57-d724-4d52-95a2-4e8e44d38ba2",
   "metadata": {
    "id": "6c588e57-d724-4d52-95a2-4e8e44d38ba2"
   },
   "source": [
    "## 36.Which company has a higher company score, ViewSoft or Workiva?"
   ]
  },
  {
   "cell_type": "code",
   "execution_count": 11,
   "id": "966793fa-5c81-43d9-935c-b4de47f4835c",
   "metadata": {
    "colab": {
     "base_uri": "https://localhost:8080/"
    },
    "id": "966793fa-5c81-43d9-935c-b4de47f4835c",
    "outputId": "0e6ed88d-c15a-4223-a5b5-7e230e877bb9"
   },
   "outputs": [
    {
     "name": "stdout",
     "output_type": "stream",
     "text": [
      "Workiva has the maximum score of Company          Workiva\n",
      "Company Score        4.8\n",
      "dtype: object\n"
     ]
    }
   ],
   "source": [
    "company_scores = data[data['Company'].isin(['ViewSoft', 'Workiva'])][['Company', 'Company Score']]\n",
    "\n",
    "\n",
    "print(\"{} has the maximum score of {}\".format(company_scores.max()['Company'], company_scores.max()))\n"
   ]
  },
  {
   "cell_type": "markdown",
   "id": "11f4bf10-b1fd-413e-b803-c2c790cfe643",
   "metadata": {
    "id": "11f4bf10-b1fd-413e-b803-c2c790cfe643"
   },
   "source": [
    "## 37.Compare the salary range of the Software Engineer at Vitesco Technologies Group AG and the Software Engineer at Garmin International, Inc."
   ]
  },
  {
   "cell_type": "code",
   "execution_count": 33,
   "id": "b314034f-094a-4722-8239-f7abf0424804",
   "metadata": {
    "colab": {
     "base_uri": "https://localhost:8080/"
    },
    "id": "b314034f-094a-4722-8239-f7abf0424804",
    "outputId": "16cb376a-9919-4d63-f585-5b2f95875fa5"
   },
   "outputs": [
    {
     "name": "stdout",
     "output_type": "stream",
     "text": [
      "                         Company          Job Title  \\\n",
      "4  Vitesco Technologies Group AG  Software Engineer   \n",
      "\n",
      "                          Salary  \n",
      "4  $85K - $108K (Glassdoor est.)  \n",
      "\n",
      "                         Company  \\\n",
      "2    Garmin International, Inc.   \n",
      "384  Garmin International, Inc.   \n",
      "530  Garmin International, Inc.   \n",
      "544  Garmin International, Inc.   \n",
      "\n",
      "                                             Job Title  \\\n",
      "2                                 C# Software Engineer   \n",
      "384      Experienced Software Engineer - Scaled Access   \n",
      "530         Senior Software Engineer - Courier Pricing   \n",
      "544  Associate Software Engineer, Edwards Air Force...   \n",
      "\n",
      "                            Salary  \n",
      "2    $95K - $118K (Glassdoor est.)  \n",
      "384   $70K - $96K (Glassdoor est.)  \n",
      "530  $83K - $110K (Glassdoor est.)  \n",
      "544  $85K - $130K (Glassdoor est.)  \n"
     ]
    }
   ],
   "source": [
    "salary1 = data[(data['Company'] == 'Vitesco Technologies Group AG') & (data['Job Title'] == 'Software Engineer')]\n",
    "\n",
    "\n",
    "salary2 = data[(data['Company'] == 'Garmin International, Inc.') & (data['Job Title'].str.contains('Software Engineer', case=False, na=False))]\n",
    "\n",
    "print(salary1[['Company', 'Job Title', 'Salary']])\n",
    "\n",
    "print(\"\\n\",salary2[['Company', 'Job Title', 'Salary']])\n",
    "\n"
   ]
  },
  {
   "cell_type": "markdown",
   "id": "403fa44b-55f8-4987-8983-2c445a3b2ea0",
   "metadata": {
    "id": "403fa44b-55f8-4987-8983-2c445a3b2ea0"
   },
   "source": [
    "## 38.Which job offers a salary range of over $100K?"
   ]
  },
  {
   "cell_type": "code",
   "execution_count": 56,
   "id": "e18fc5d5-80a3-4c82-a52a-52f9b5d21d7d",
   "metadata": {
    "colab": {
     "base_uri": "https://localhost:8080/"
    },
    "id": "e18fc5d5-80a3-4c82-a52a-52f9b5d21d7d",
    "outputId": "9c92176e-a64c-4fcf-9131-b034475039e3"
   },
   "outputs": [
    {
     "name": "stdout",
     "output_type": "stream",
     "text": [
      "                       Company  \\\n",
      "5                      Spotify   \n",
      "9                          PFF   \n",
      "14                Athenahealth   \n",
      "18                       Hertz   \n",
      "23       The MITRE Corporation   \n",
      "..                         ...   \n",
      "752  Amazon Web Services, Inc.   \n",
      "754               Audacy, Inc.   \n",
      "758                      Tesla   \n",
      "759                     OpenAI   \n",
      "760                 NCR Atleos   \n",
      "\n",
      "                                             Job Title  \\\n",
      "5                                  Backend Engineer II   \n",
      "9                                Sr. Software Engineer   \n",
      "14      Software Engineer, athenaCollector – RCM Rules   \n",
      "18                                   Software Engineer   \n",
      "23                         Associate Software Engineer   \n",
      "..                                                 ...   \n",
      "752                                 Software Developer   \n",
      "754      Software Dev Engineer, L5 , SFSC Integrations   \n",
      "758                      Junior Java Software Engineer   \n",
      "759                   Apprentice ETL Software Engineer   \n",
      "760  Software Engineer, Tool & Infrastructure, Reli...   \n",
      "\n",
      "                             Salary  \n",
      "5     $123K - $175K (Employer est.)  \n",
      "9     $147K - $189K (Employer est.)  \n",
      "14    $192K - $288K (Employer est.)  \n",
      "18    $124K - $234K (Employer est.)  \n",
      "23    $108K - $199K (Employer est.)  \n",
      "..                              ...  \n",
      "752  $118K - $184K (Glassdoor est.)  \n",
      "754   $124K - $234K (Employer est.)  \n",
      "758   $234K - $284K (Employer est.)  \n",
      "759   $160K - $385K (Employer est.)  \n",
      "760           $222K (Employer est.)  \n",
      "\n",
      "[320 rows x 3 columns]\n"
     ]
    }
   ],
   "source": [
    "data['new salary'] = data['Salary'].str.extract(r'(\\d{2,3})K')[0].astype(float)\n",
    "\n",
    "jobs = data[data['new salary']> 100]\n",
    "\n",
    "result = jobs[['Company', 'Job Title','Salary']]\n",
    "\n",
    "print(result)\n"
   ]
  },
  {
   "cell_type": "markdown",
   "id": "41819b16-12c3-4b06-afe2-441276db93ab",
   "metadata": {
    "id": "41819b16-12c3-4b06-afe2-441276db93ab"
   },
   "source": [
    "## 39.Which company has a company score of less than 4.0?"
   ]
  },
  {
   "cell_type": "code",
   "execution_count": null,
   "id": "4da804c5-7539-4bd0-9a39-b415a51ced82",
   "metadata": {
    "colab": {
     "base_uri": "https://localhost:8080/"
    },
    "id": "4da804c5-7539-4bd0-9a39-b415a51ced82",
    "outputId": "811dd2bd-a191-4654-a777-2bd9c1f03563"
   },
   "outputs": [
    {
     "name": "stdout",
     "output_type": "stream",
     "text": [
      "                           Company  Company Score\n",
      "2       Garmin International, Inc.            3.9\n",
      "3                         Snapchat            3.5\n",
      "4    Vitesco Technologies Group AG            3.1\n",
      "5                          Spotify            3.9\n",
      "8                            WHOOP            3.3\n",
      "..                             ...            ...\n",
      "782                     SimpliSafe            2.9\n",
      "783                 Inspire Brands            3.7\n",
      "785                   Deluxe Media            3.5\n",
      "786                           Meta            3.7\n",
      "787                      Liquibase            3.8\n",
      "\n",
      "[430 rows x 2 columns]\n"
     ]
    }
   ],
   "source": [
    "companies_score = data[data['Company Score'] < 4.0]\n",
    "\n",
    "companies_list = companies_score[['Company', 'Company Score']]\n",
    "\n",
    "\n",
    "print(companies_list)\n"
   ]
  },
  {
   "cell_type": "markdown",
   "id": "bdd4e4c7-b8e1-4f1d-88d7-e72ae85e7849",
   "metadata": {
    "id": "bdd4e4c7-b8e1-4f1d-88d7-e72ae85e7849"
   },
   "source": [
    "## 40.What is the job title with the highest company score in this dataset?"
   ]
  },
  {
   "cell_type": "code",
   "execution_count": null,
   "id": "b00fade4-6b93-401e-a5ec-be7e6f3b964b",
   "metadata": {
    "colab": {
     "base_uri": "https://localhost:8080/"
    },
    "id": "b00fade4-6b93-401e-a5ec-be7e6f3b964b",
    "outputId": "1e37c55c-9550-4028-9b9b-2f1d2d5a8923"
   },
   "outputs": [
    {
     "name": "stdout",
     "output_type": "stream",
     "text": [
      "The job title with the highest company score is: Software Engineer (Company Score: 5.0)\n"
     ]
    }
   ],
   "source": [
    "highest_score_job = data.sort_values(by='Company Score', ascending=False).iloc[0]\n",
    "\n",
    "job_title = highest_score_job['Job Title']\n",
    "\n",
    "company_score = highest_score_job['Company Score']\n",
    "\n",
    "print(f\"The job title with the highest company score is: {job_title} (Company Score: {company_score})\")\n"
   ]
  }
 ],
 "metadata": {
  "colab": {
   "provenance": []
  },
  "kernelspec": {
   "display_name": "Python 3 (ipykernel)",
   "language": "python",
   "name": "python3"
  },
  "language_info": {
   "codemirror_mode": {
    "name": "ipython",
    "version": 3
   },
   "file_extension": ".py",
   "mimetype": "text/x-python",
   "name": "python",
   "nbconvert_exporter": "python",
   "pygments_lexer": "ipython3",
   "version": "3.9.7"
  }
 },
 "nbformat": 4,
 "nbformat_minor": 5
}
