{
 "cells": [
  {
   "cell_type": "markdown",
   "id": "f762c7a0-2ef8-4f30-bd5d-627458bfed1b",
   "metadata": {
    "id": "f762c7a0-2ef8-4f30-bd5d-627458bfed1b"
   },
   "source": [
    "link = https://www.kaggle.com/datasets/joebeachcapital/30000-spotify-songs\n",
    "- These questions can be tackled by performing various operations such as grouping, aggregation, sorting, filtering, and statistical analysis using pandas."
   ]
  },
  {
   "cell_type": "code",
   "execution_count": 29,
   "id": "mVEg1TWsmPeE",
   "metadata": {
    "colab": {
     "base_uri": "https://localhost:8080/",
     "height": 283
    },
    "id": "mVEg1TWsmPeE",
    "outputId": "5f79c340-2ce6-45a0-c8ab-303c6376fd3f"
   },
   "outputs": [
    {
     "data": {
      "application/vnd.google.colaboratory.intrinsic+json": {
       "type": "dataframe",
       "variable_name": "data"
      },
      "text/html": [
       "\n",
       "  <div id=\"df-891e3397-9340-4857-88c1-82f38800ebbd\" class=\"colab-df-container\">\n",
       "    <div>\n",
       "<style scoped>\n",
       "    .dataframe tbody tr th:only-of-type {\n",
       "        vertical-align: middle;\n",
       "    }\n",
       "\n",
       "    .dataframe tbody tr th {\n",
       "        vertical-align: top;\n",
       "    }\n",
       "\n",
       "    .dataframe thead th {\n",
       "        text-align: right;\n",
       "    }\n",
       "</style>\n",
       "<table border=\"1\" class=\"dataframe\">\n",
       "  <thead>\n",
       "    <tr style=\"text-align: right;\">\n",
       "      <th></th>\n",
       "      <th>track_id</th>\n",
       "      <th>track_name</th>\n",
       "      <th>track_artist</th>\n",
       "      <th>track_popularity</th>\n",
       "      <th>track_album_id</th>\n",
       "      <th>track_album_name</th>\n",
       "      <th>track_album_release_date</th>\n",
       "      <th>playlist_name</th>\n",
       "      <th>playlist_id</th>\n",
       "      <th>playlist_genre</th>\n",
       "      <th>...</th>\n",
       "      <th>key</th>\n",
       "      <th>loudness</th>\n",
       "      <th>mode</th>\n",
       "      <th>speechiness</th>\n",
       "      <th>acousticness</th>\n",
       "      <th>instrumentalness</th>\n",
       "      <th>liveness</th>\n",
       "      <th>valence</th>\n",
       "      <th>tempo</th>\n",
       "      <th>duration_ms</th>\n",
       "    </tr>\n",
       "  </thead>\n",
       "  <tbody>\n",
       "    <tr>\n",
       "      <th>0</th>\n",
       "      <td>6f807x0ima9a1j3VPbc7VN</td>\n",
       "      <td>I Don't Care (with Justin Bieber) - Loud Luxur...</td>\n",
       "      <td>Ed Sheeran</td>\n",
       "      <td>66</td>\n",
       "      <td>2oCs0DGTsRO98Gh5ZSl2Cx</td>\n",
       "      <td>I Don't Care (with Justin Bieber) [Loud Luxury...</td>\n",
       "      <td>2019-06-14</td>\n",
       "      <td>Pop Remix</td>\n",
       "      <td>37i9dQZF1DXcZDD7cfEKhW</td>\n",
       "      <td>pop</td>\n",
       "      <td>...</td>\n",
       "      <td>6</td>\n",
       "      <td>-2.634</td>\n",
       "      <td>1</td>\n",
       "      <td>0.0583</td>\n",
       "      <td>0.1020</td>\n",
       "      <td>0.00000</td>\n",
       "      <td>0.0653</td>\n",
       "      <td>0.518</td>\n",
       "      <td>122.036</td>\n",
       "      <td>194754</td>\n",
       "    </tr>\n",
       "    <tr>\n",
       "      <th>1</th>\n",
       "      <td>0r7CVbZTWZgbTCYdfa2P31</td>\n",
       "      <td>Memories - Dillon Francis Remix</td>\n",
       "      <td>Maroon 5</td>\n",
       "      <td>67</td>\n",
       "      <td>63rPSO264uRjW1X5E6cWv6</td>\n",
       "      <td>Memories (Dillon Francis Remix)</td>\n",
       "      <td>2019-12-13</td>\n",
       "      <td>Pop Remix</td>\n",
       "      <td>37i9dQZF1DXcZDD7cfEKhW</td>\n",
       "      <td>pop</td>\n",
       "      <td>...</td>\n",
       "      <td>11</td>\n",
       "      <td>-4.969</td>\n",
       "      <td>1</td>\n",
       "      <td>0.0373</td>\n",
       "      <td>0.0724</td>\n",
       "      <td>0.00421</td>\n",
       "      <td>0.3570</td>\n",
       "      <td>0.693</td>\n",
       "      <td>99.972</td>\n",
       "      <td>162600</td>\n",
       "    </tr>\n",
       "  </tbody>\n",
       "</table>\n",
       "<p>2 rows × 23 columns</p>\n",
       "</div>\n",
       "    <div class=\"colab-df-buttons\">\n",
       "\n",
       "  <div class=\"colab-df-container\">\n",
       "    <button class=\"colab-df-convert\" onclick=\"convertToInteractive('df-891e3397-9340-4857-88c1-82f38800ebbd')\"\n",
       "            title=\"Convert this dataframe to an interactive table.\"\n",
       "            style=\"display:none;\">\n",
       "\n",
       "  <svg xmlns=\"http://www.w3.org/2000/svg\" height=\"24px\" viewBox=\"0 -960 960 960\">\n",
       "    <path d=\"M120-120v-720h720v720H120Zm60-500h600v-160H180v160Zm220 220h160v-160H400v160Zm0 220h160v-160H400v160ZM180-400h160v-160H180v160Zm440 0h160v-160H620v160ZM180-180h160v-160H180v160Zm440 0h160v-160H620v160Z\"/>\n",
       "  </svg>\n",
       "    </button>\n",
       "\n",
       "  <style>\n",
       "    .colab-df-container {\n",
       "      display:flex;\n",
       "      gap: 12px;\n",
       "    }\n",
       "\n",
       "    .colab-df-convert {\n",
       "      background-color: #E8F0FE;\n",
       "      border: none;\n",
       "      border-radius: 50%;\n",
       "      cursor: pointer;\n",
       "      display: none;\n",
       "      fill: #1967D2;\n",
       "      height: 32px;\n",
       "      padding: 0 0 0 0;\n",
       "      width: 32px;\n",
       "    }\n",
       "\n",
       "    .colab-df-convert:hover {\n",
       "      background-color: #E2EBFA;\n",
       "      box-shadow: 0px 1px 2px rgba(60, 64, 67, 0.3), 0px 1px 3px 1px rgba(60, 64, 67, 0.15);\n",
       "      fill: #174EA6;\n",
       "    }\n",
       "\n",
       "    .colab-df-buttons div {\n",
       "      margin-bottom: 4px;\n",
       "    }\n",
       "\n",
       "    [theme=dark] .colab-df-convert {\n",
       "      background-color: #3B4455;\n",
       "      fill: #D2E3FC;\n",
       "    }\n",
       "\n",
       "    [theme=dark] .colab-df-convert:hover {\n",
       "      background-color: #434B5C;\n",
       "      box-shadow: 0px 1px 3px 1px rgba(0, 0, 0, 0.15);\n",
       "      filter: drop-shadow(0px 1px 2px rgba(0, 0, 0, 0.3));\n",
       "      fill: #FFFFFF;\n",
       "    }\n",
       "  </style>\n",
       "\n",
       "    <script>\n",
       "      const buttonEl =\n",
       "        document.querySelector('#df-891e3397-9340-4857-88c1-82f38800ebbd button.colab-df-convert');\n",
       "      buttonEl.style.display =\n",
       "        google.colab.kernel.accessAllowed ? 'block' : 'none';\n",
       "\n",
       "      async function convertToInteractive(key) {\n",
       "        const element = document.querySelector('#df-891e3397-9340-4857-88c1-82f38800ebbd');\n",
       "        const dataTable =\n",
       "          await google.colab.kernel.invokeFunction('convertToInteractive',\n",
       "                                                    [key], {});\n",
       "        if (!dataTable) return;\n",
       "\n",
       "        const docLinkHtml = 'Like what you see? Visit the ' +\n",
       "          '<a target=\"_blank\" href=https://colab.research.google.com/notebooks/data_table.ipynb>data table notebook</a>'\n",
       "          + ' to learn more about interactive tables.';\n",
       "        element.innerHTML = '';\n",
       "        dataTable['output_type'] = 'display_data';\n",
       "        await google.colab.output.renderOutput(dataTable, element);\n",
       "        const docLink = document.createElement('div');\n",
       "        docLink.innerHTML = docLinkHtml;\n",
       "        element.appendChild(docLink);\n",
       "      }\n",
       "    </script>\n",
       "  </div>\n",
       "\n",
       "\n",
       "<div id=\"df-3012cb61-9e2e-4f56-b93d-1caad1795ab5\">\n",
       "  <button class=\"colab-df-quickchart\" onclick=\"quickchart('df-3012cb61-9e2e-4f56-b93d-1caad1795ab5')\"\n",
       "            title=\"Suggest charts\"\n",
       "            style=\"display:none;\">\n",
       "\n",
       "<svg xmlns=\"http://www.w3.org/2000/svg\" height=\"24px\"viewBox=\"0 0 24 24\"\n",
       "     width=\"24px\">\n",
       "    <g>\n",
       "        <path d=\"M19 3H5c-1.1 0-2 .9-2 2v14c0 1.1.9 2 2 2h14c1.1 0 2-.9 2-2V5c0-1.1-.9-2-2-2zM9 17H7v-7h2v7zm4 0h-2V7h2v10zm4 0h-2v-4h2v4z\"/>\n",
       "    </g>\n",
       "</svg>\n",
       "  </button>\n",
       "\n",
       "<style>\n",
       "  .colab-df-quickchart {\n",
       "      --bg-color: #E8F0FE;\n",
       "      --fill-color: #1967D2;\n",
       "      --hover-bg-color: #E2EBFA;\n",
       "      --hover-fill-color: #174EA6;\n",
       "      --disabled-fill-color: #AAA;\n",
       "      --disabled-bg-color: #DDD;\n",
       "  }\n",
       "\n",
       "  [theme=dark] .colab-df-quickchart {\n",
       "      --bg-color: #3B4455;\n",
       "      --fill-color: #D2E3FC;\n",
       "      --hover-bg-color: #434B5C;\n",
       "      --hover-fill-color: #FFFFFF;\n",
       "      --disabled-bg-color: #3B4455;\n",
       "      --disabled-fill-color: #666;\n",
       "  }\n",
       "\n",
       "  .colab-df-quickchart {\n",
       "    background-color: var(--bg-color);\n",
       "    border: none;\n",
       "    border-radius: 50%;\n",
       "    cursor: pointer;\n",
       "    display: none;\n",
       "    fill: var(--fill-color);\n",
       "    height: 32px;\n",
       "    padding: 0;\n",
       "    width: 32px;\n",
       "  }\n",
       "\n",
       "  .colab-df-quickchart:hover {\n",
       "    background-color: var(--hover-bg-color);\n",
       "    box-shadow: 0 1px 2px rgba(60, 64, 67, 0.3), 0 1px 3px 1px rgba(60, 64, 67, 0.15);\n",
       "    fill: var(--button-hover-fill-color);\n",
       "  }\n",
       "\n",
       "  .colab-df-quickchart-complete:disabled,\n",
       "  .colab-df-quickchart-complete:disabled:hover {\n",
       "    background-color: var(--disabled-bg-color);\n",
       "    fill: var(--disabled-fill-color);\n",
       "    box-shadow: none;\n",
       "  }\n",
       "\n",
       "  .colab-df-spinner {\n",
       "    border: 2px solid var(--fill-color);\n",
       "    border-color: transparent;\n",
       "    border-bottom-color: var(--fill-color);\n",
       "    animation:\n",
       "      spin 1s steps(1) infinite;\n",
       "  }\n",
       "\n",
       "  @keyframes spin {\n",
       "    0% {\n",
       "      border-color: transparent;\n",
       "      border-bottom-color: var(--fill-color);\n",
       "      border-left-color: var(--fill-color);\n",
       "    }\n",
       "    20% {\n",
       "      border-color: transparent;\n",
       "      border-left-color: var(--fill-color);\n",
       "      border-top-color: var(--fill-color);\n",
       "    }\n",
       "    30% {\n",
       "      border-color: transparent;\n",
       "      border-left-color: var(--fill-color);\n",
       "      border-top-color: var(--fill-color);\n",
       "      border-right-color: var(--fill-color);\n",
       "    }\n",
       "    40% {\n",
       "      border-color: transparent;\n",
       "      border-right-color: var(--fill-color);\n",
       "      border-top-color: var(--fill-color);\n",
       "    }\n",
       "    60% {\n",
       "      border-color: transparent;\n",
       "      border-right-color: var(--fill-color);\n",
       "    }\n",
       "    80% {\n",
       "      border-color: transparent;\n",
       "      border-right-color: var(--fill-color);\n",
       "      border-bottom-color: var(--fill-color);\n",
       "    }\n",
       "    90% {\n",
       "      border-color: transparent;\n",
       "      border-bottom-color: var(--fill-color);\n",
       "    }\n",
       "  }\n",
       "</style>\n",
       "\n",
       "  <script>\n",
       "    async function quickchart(key) {\n",
       "      const quickchartButtonEl =\n",
       "        document.querySelector('#' + key + ' button');\n",
       "      quickchartButtonEl.disabled = true;  // To prevent multiple clicks.\n",
       "      quickchartButtonEl.classList.add('colab-df-spinner');\n",
       "      try {\n",
       "        const charts = await google.colab.kernel.invokeFunction(\n",
       "            'suggestCharts', [key], {});\n",
       "      } catch (error) {\n",
       "        console.error('Error during call to suggestCharts:', error);\n",
       "      }\n",
       "      quickchartButtonEl.classList.remove('colab-df-spinner');\n",
       "      quickchartButtonEl.classList.add('colab-df-quickchart-complete');\n",
       "    }\n",
       "    (() => {\n",
       "      let quickchartButtonEl =\n",
       "        document.querySelector('#df-3012cb61-9e2e-4f56-b93d-1caad1795ab5 button');\n",
       "      quickchartButtonEl.style.display =\n",
       "        google.colab.kernel.accessAllowed ? 'block' : 'none';\n",
       "    })();\n",
       "  </script>\n",
       "</div>\n",
       "\n",
       "    </div>\n",
       "  </div>\n"
      ],
      "text/plain": [
       "                 track_id                                         track_name  \\\n",
       "0  6f807x0ima9a1j3VPbc7VN  I Don't Care (with Justin Bieber) - Loud Luxur...   \n",
       "1  0r7CVbZTWZgbTCYdfa2P31                    Memories - Dillon Francis Remix   \n",
       "\n",
       "  track_artist  track_popularity          track_album_id  \\\n",
       "0   Ed Sheeran                66  2oCs0DGTsRO98Gh5ZSl2Cx   \n",
       "1     Maroon 5                67  63rPSO264uRjW1X5E6cWv6   \n",
       "\n",
       "                                    track_album_name track_album_release_date  \\\n",
       "0  I Don't Care (with Justin Bieber) [Loud Luxury...               2019-06-14   \n",
       "1                    Memories (Dillon Francis Remix)               2019-12-13   \n",
       "\n",
       "  playlist_name             playlist_id playlist_genre  ... key  loudness  \\\n",
       "0     Pop Remix  37i9dQZF1DXcZDD7cfEKhW            pop  ...   6    -2.634   \n",
       "1     Pop Remix  37i9dQZF1DXcZDD7cfEKhW            pop  ...  11    -4.969   \n",
       "\n",
       "   mode  speechiness  acousticness  instrumentalness  liveness  valence  \\\n",
       "0     1       0.0583        0.1020           0.00000    0.0653    0.518   \n",
       "1     1       0.0373        0.0724           0.00421    0.3570    0.693   \n",
       "\n",
       "     tempo  duration_ms  \n",
       "0  122.036       194754  \n",
       "1   99.972       162600  \n",
       "\n",
       "[2 rows x 23 columns]"
      ]
     },
     "execution_count": 29,
     "metadata": {},
     "output_type": "execute_result"
    }
   ],
   "source": [
    "import pandas as pd\n",
    "\n",
    "data = pd.read_csv(r'/content/sample_data/spotify_songs.csv')\n",
    "\n",
    "data.head(2)"
   ]
  },
  {
   "cell_type": "markdown",
   "id": "daa78477-245d-4d1f-8680-761709de6e4b",
   "metadata": {
    "id": "daa78477-245d-4d1f-8680-761709de6e4b"
   },
   "source": [
    "1.How many unique artists are there in the dataset?"
   ]
  },
  {
   "cell_type": "code",
   "execution_count": 30,
   "id": "9LPdxBlMmOuu",
   "metadata": {
    "colab": {
     "base_uri": "https://localhost:8080/"
    },
    "id": "9LPdxBlMmOuu",
    "outputId": "baa38112-db37-4d08-ed00-34b244899b7f"
   },
   "outputs": [
    {
     "name": "stdout",
     "output_type": "stream",
     "text": [
      "Number of unique artists: 10692\n"
     ]
    }
   ],
   "source": [
    "unique_artists = data['track_artist'].nunique()\n",
    "\n",
    "print(f\"Number of unique artists: {unique_artists}\")\n"
   ]
  },
  {
   "cell_type": "markdown",
   "id": "e93093dc-4190-440e-8492-308bb52b841a",
   "metadata": {
    "id": "e93093dc-4190-440e-8492-308bb52b841a"
   },
   "source": [
    "2.What is the average duration of the songs in minutes?"
   ]
  },
  {
   "cell_type": "code",
   "execution_count": 3,
   "id": "107c506b-b36f-4e09-bfdf-61401ff75325",
   "metadata": {
    "colab": {
     "base_uri": "https://localhost:8080/"
    },
    "id": "107c506b-b36f-4e09-bfdf-61401ff75325",
    "outputId": "3279aea5-f08d-4c01-fd6a-5ef7e527b7ee"
   },
   "outputs": [
    {
     "name": "stdout",
     "output_type": "stream",
     "text": [
      "Average duration of the songs: 3.76 minutes\n"
     ]
    }
   ],
   "source": [
    "average_duration = data['duration_ms'].mean()\n",
    "\n",
    "average_duration_minutes = average_duration / (1000 * 60)\n",
    "\n",
    "print(f\"Average duration of the songs: {average_duration_minutes:.2f} minutes\")\n"
   ]
  },
  {
   "cell_type": "markdown",
   "id": "60dbc229-e359-4c3c-b7ed-9bbc364f4169",
   "metadata": {
    "id": "60dbc229-e359-4c3c-b7ed-9bbc364f4169"
   },
   "source": [
    "3.List the top 10 most frequently occurring genres in the dataset."
   ]
  },
  {
   "cell_type": "code",
   "execution_count": 4,
   "id": "284e6054-ef12-42e6-848b-27b39711b4ed",
   "metadata": {
    "colab": {
     "base_uri": "https://localhost:8080/"
    },
    "id": "284e6054-ef12-42e6-848b-27b39711b4ed",
    "outputId": "68dfcc12-8df1-447d-ff46-142818949ec5"
   },
   "outputs": [
    {
     "name": "stdout",
     "output_type": "stream",
     "text": [
      "Top 10 most frequently occurring genres: playlist_genre\n",
      "edm      6043\n",
      "rap      5746\n",
      "pop      5507\n",
      "r&b      5431\n",
      "latin    5155\n",
      "rock     4951\n",
      "Name: count, dtype: int64\n"
     ]
    }
   ],
   "source": [
    "top_genres = data['playlist_genre'].value_counts().head(10)\n",
    "\n",
    "print(\"Top 10 most frequently occurring genres:\", top_genres)\n"
   ]
  },
  {
   "cell_type": "markdown",
   "id": "e77e2025-5adc-4276-a951-fb8c747f3ac3",
   "metadata": {
    "id": "e77e2025-5adc-4276-a951-fb8c747f3ac3"
   },
   "source": [
    "4.Which artist has the highest number of songs in the dataset?"
   ]
  },
  {
   "cell_type": "code",
   "execution_count": 5,
   "id": "7ff1fffe-2561-4e30-aca1-95393c55c5cf",
   "metadata": {
    "colab": {
     "base_uri": "https://localhost:8080/"
    },
    "id": "7ff1fffe-2561-4e30-aca1-95393c55c5cf",
    "outputId": "4ae7fd7a-c3c9-44d5-d110-cf5abe91a249"
   },
   "outputs": [
    {
     "name": "stdout",
     "output_type": "stream",
     "text": [
      "The artist with the highest number of songs is: Martin Garrix with 161 songs.\n"
     ]
    }
   ],
   "source": [
    "top_artist = data['track_artist'].value_counts().idxmax()\n",
    "\n",
    "top_artist_count = data['track_artist'].value_counts().max()\n",
    "\n",
    "print(f\"The artist with the highest number of songs is: {top_artist} with {top_artist_count} songs.\")\n"
   ]
  },
  {
   "cell_type": "markdown",
   "id": "326f8c4c-83bd-47e8-8465-bae6be049c42",
   "metadata": {
    "id": "326f8c4c-83bd-47e8-8465-bae6be049c42"
   },
   "source": [
    "5.What is the median popularity score of the songs?"
   ]
  },
  {
   "cell_type": "code",
   "execution_count": 6,
   "id": "db2fb2a3-c202-483d-8c9e-9613bd723f71",
   "metadata": {
    "colab": {
     "base_uri": "https://localhost:8080/"
    },
    "id": "db2fb2a3-c202-483d-8c9e-9613bd723f71",
    "outputId": "1a9b937a-1d4d-4142-936a-d4f54df73909"
   },
   "outputs": [
    {
     "name": "stdout",
     "output_type": "stream",
     "text": [
      "The median popularity score of the songs is: 45.0\n"
     ]
    }
   ],
   "source": [
    "median_popularity = data['track_popularity'].median()\n",
    "\n",
    "print(f\"The median popularity score of the songs is: {median_popularity}\")\n"
   ]
  },
  {
   "cell_type": "markdown",
   "id": "53d3d8ce-0afd-4f44-91dc-7f84d566d61b",
   "metadata": {
    "id": "53d3d8ce-0afd-4f44-91dc-7f84d566d61b"
   },
   "source": [
    "6.How many songs have a tempo (BPM) greater than 120?"
   ]
  },
  {
   "cell_type": "code",
   "execution_count": 7,
   "id": "013188eb-9926-4d95-9eb6-9bfe6738c77b",
   "metadata": {
    "colab": {
     "base_uri": "https://localhost:8080/"
    },
    "id": "013188eb-9926-4d95-9eb6-9bfe6738c77b",
    "outputId": "dd8fdf2f-b2f9-474f-c92d-6dca9d117bc7"
   },
   "outputs": [
    {
     "name": "stdout",
     "output_type": "stream",
     "text": [
      "Number of songs with a tempo greater than 120 BPM: 17453\n"
     ]
    }
   ],
   "source": [
    "songs = data[data['tempo'] > 120]\n",
    "\n",
    "songs_tempo = songs['tempo'].count()\n",
    "\n",
    "print(f\"Number of songs with a tempo greater than 120 BPM: {songs_tempo}\")\n"
   ]
  },
  {
   "cell_type": "markdown",
   "id": "d50410fb-198d-4d40-befd-00a85ff53b40",
   "metadata": {
    "id": "d50410fb-198d-4d40-befd-00a85ff53b40"
   },
   "source": [
    "7.Which genre has the highest average danceability?"
   ]
  },
  {
   "cell_type": "code",
   "execution_count": null,
   "id": "88d34ad3-8fd3-40f5-92e3-c5ddbfff97a4",
   "metadata": {
    "colab": {
     "base_uri": "https://localhost:8080/"
    },
    "id": "88d34ad3-8fd3-40f5-92e3-c5ddbfff97a4",
    "outputId": "cdcc25f9-b2d3-4d76-d8bb-30cc7665cd1e"
   },
   "outputs": [
    {
     "name": "stdout",
     "output_type": "stream",
     "text": [
      "The genre with the highest average danceability is: rap with an average danceability of 0.72.\n"
     ]
    }
   ],
   "source": [
    "average_danceability = data.groupby('playlist_genre')['danceability'].mean()\n",
    "\n",
    "highest_average = average_danceability.idxmax()\n",
    "\n",
    "highest_value = average_danceability.max()\n",
    "\n",
    "print(f\"The genre with the highest average danceability is: {highest_average} with an average danceability of {highest_value:.2f}.\")\n"
   ]
  },
  {
   "cell_type": "markdown",
   "id": "43578551-300b-4c37-81fd-b70aae0afac9",
   "metadata": {
    "id": "43578551-300b-4c37-81fd-b70aae0afac9"
   },
   "source": [
    "8.Find the song with the maximum energy score."
   ]
  },
  {
   "cell_type": "code",
   "execution_count": null,
   "id": "71928818-8f23-4f46-8bb2-bd0ad85b134d",
   "metadata": {
    "colab": {
     "base_uri": "https://localhost:8080/"
    },
    "id": "71928818-8f23-4f46-8bb2-bd0ad85b134d",
    "outputId": "b05830b4-8ddb-49ff-a799-7c30f1cd62a7"
   },
   "outputs": [
    {
     "name": "stdout",
     "output_type": "stream",
     "text": [
      "Song with the maximum energy score:\n",
      "Track Name: Rain Forest and Tropical Beach Sound\n",
      "Artist: Nature Sounds Nature Music\n",
      "Energy Score: 1.0\n"
     ]
    }
   ],
   "source": [
    "max_energy_song = data.loc[data['energy'].idxmax()]\n",
    "\n",
    "print(\"Song with the maximum energy score:\")\n",
    "\n",
    "print(f\"Track Name: {max_energy_song['track_name']}\")\n",
    "\n",
    "print(f\"Artist: {max_energy_song['track_artist']}\")\n",
    "\n",
    "print(f\"Energy Score: {max_energy_song['energy']}\")\n"
   ]
  },
  {
   "cell_type": "markdown",
   "id": "39511caf-ddac-4d4f-9128-a5d93d08a049",
   "metadata": {
    "id": "39511caf-ddac-4d4f-9128-a5d93d08a049"
   },
   "source": [
    "9.What is the average loudness of songs in decibels?"
   ]
  },
  {
   "cell_type": "code",
   "execution_count": null,
   "id": "6e3e9e04-26d5-4715-b10c-f61ea4a27ebe",
   "metadata": {
    "colab": {
     "base_uri": "https://localhost:8080/"
    },
    "id": "6e3e9e04-26d5-4715-b10c-f61ea4a27ebe",
    "outputId": "7c2c8cab-82e5-46a0-faff-7b605a01ef8a"
   },
   "outputs": [
    {
     "name": "stdout",
     "output_type": "stream",
     "text": [
      "The average loudness of songs is: -6.72 dB\n"
     ]
    }
   ],
   "source": [
    "average_loudness = data['loudness'].mean()\n",
    "\n",
    "print(f\"The average loudness of songs is: {average_loudness:.2f} dB\")\n"
   ]
  },
  {
   "cell_type": "markdown",
   "id": "e21f5931-13e3-4c36-bfb2-44e71865dfaf",
   "metadata": {
    "id": "e21f5931-13e3-4c36-bfb2-44e71865dfaf"
   },
   "source": [
    "10.Which year has the highest number of song releases?"
   ]
  },
  {
   "cell_type": "code",
   "execution_count": 3,
   "id": "U_-jfPHPIF5D",
   "metadata": {
    "colab": {
     "base_uri": "https://localhost:8080/"
    },
    "id": "U_-jfPHPIF5D",
    "outputId": "efa40181-ec93-422b-af38-565d0e62b6ea"
   },
   "outputs": [
    {
     "name": "stdout",
     "output_type": "stream",
     "text": [
      "The year with the highest number of song releases is: 2019.0 with 9079 releases.\n"
     ]
    }
   ],
   "source": [
    "data['release_year'] = pd.to_datetime(data['track_album_release_date'], errors='coerce').dt.year\n",
    "\n",
    "release_year = data['release_year'].value_counts().idxmax()\n",
    "\n",
    "count = data['release_year'].value_counts().max()\n",
    "\n",
    "print(f\"The year with the highest number of song releases is: {release_year} with {count} releases.\")\n",
    "\n"
   ]
  },
  {
   "cell_type": "markdown",
   "id": "ac8fccb8-b06d-40d3-8329-073c4141dc55",
   "metadata": {
    "id": "ac8fccb8-b06d-40d3-8329-073c4141dc55"
   },
   "source": [
    "11.List the top 5 songs with the highest instrumentalness score."
   ]
  },
  {
   "cell_type": "code",
   "execution_count": null,
   "id": "d3c484a0-b05d-4a04-8575-dfecbba6f5ef",
   "metadata": {
    "colab": {
     "base_uri": "https://localhost:8080/"
    },
    "id": "d3c484a0-b05d-4a04-8575-dfecbba6f5ef",
    "outputId": "5a2241eb-ee80-45dd-fcd2-d10f7f57114a"
   },
   "outputs": [
    {
     "name": "stdout",
     "output_type": "stream",
     "text": [
      "Top 5 songs with the highest instrumentalness scores:                          track_name  instrumentalness\n",
      "17009  Chill Waves & Wind in Leaves             0.994\n",
      "17012                   Summer Rain             0.994\n",
      "29202        Sandstorm - Radio Edit             0.987\n",
      "28149                       Genesis             0.983\n",
      "748          Sandstorm - Radio Edit             0.982\n"
     ]
    }
   ],
   "source": [
    "high_instrumentalness = data.nlargest(5, 'instrumentalness')[['track_name', 'instrumentalness']]\n",
    "\n",
    "print(\"Top 5 songs with the highest instrumentalness scores:\", high_instrumentalness)\n",
    "\n"
   ]
  },
  {
   "cell_type": "markdown",
   "id": "2dbe52b9-2ae9-462d-8004-0c4c123ea8e2",
   "metadata": {
    "id": "2dbe52b9-2ae9-462d-8004-0c4c123ea8e2"
   },
   "source": [
    "12.What is the distribution of song lengths (duration) across different genres?"
   ]
  },
  {
   "cell_type": "code",
   "execution_count": 17,
   "id": "11391ebd-11da-4b22-b5d9-6be330b96968",
   "metadata": {
    "colab": {
     "base_uri": "https://localhost:8080/"
    },
    "id": "11391ebd-11da-4b22-b5d9-6be330b96968",
    "outputId": "f63bef82-b22f-4e93-f543-ad7b7aea4178"
   },
   "outputs": [
    {
     "name": "stdout",
     "output_type": "stream",
     "text": [
      "                 count           mean           std      min        25%  \\\n",
      "playlist_genre                                                            \n",
      "edm             6043.0  222540.858349  69244.325589  31429.0  179784.50   \n",
      "latin           5155.0  216863.446945  48401.258480  45000.0  187074.50   \n",
      "pop             5507.0  217768.104231  45312.946467  37640.0  190109.00   \n",
      "r&b             5431.0  237599.489781  57849.431935  31893.0  198068.50   \n",
      "rap             5746.0  214163.889140  60265.286887  29493.0  173270.25   \n",
      "rock            4951.0  248576.500303  65476.980913   4000.0  206546.50   \n",
      "\n",
      "                     50%        75%       max  \n",
      "playlist_genre                                 \n",
      "edm             204000.0  241873.00  515703.0  \n",
      "latin           210750.0  238082.50  517810.0  \n",
      "pop             211088.0  236472.00  490057.0  \n",
      "r&b             232147.0  271286.50  506200.0  \n",
      "rap             210805.5  250996.75  499400.0  \n",
      "rock            237558.0  278226.50  517125.0  \n"
     ]
    }
   ],
   "source": [
    "# Calculate summary statistics for song duration across genres\n",
    "duration_distribution = data.groupby('playlist_genre')['duration_ms'].describe()\n",
    "\n",
    "print(duration_distribution)\n"
   ]
  },
  {
   "cell_type": "markdown",
   "id": "0d215a7e-9277-4c65-bc5b-f6238bd23c46",
   "metadata": {
    "id": "0d215a7e-9277-4c65-bc5b-f6238bd23c46"
   },
   "source": [
    "13.How many songs have a valence score above 0.8?"
   ]
  },
  {
   "cell_type": "code",
   "execution_count": null,
   "id": "90ae8618-98f4-462b-8110-2dddfbc19cec",
   "metadata": {
    "colab": {
     "base_uri": "https://localhost:8080/"
    },
    "id": "90ae8618-98f4-462b-8110-2dddfbc19cec",
    "outputId": "74ae4b46-2b1a-4773-f669-066eaf0d4ab3"
   },
   "outputs": [
    {
     "name": "stdout",
     "output_type": "stream",
     "text": [
      "Number of songs with a valence score above 0.8: 4165\n"
     ]
    }
   ],
   "source": [
    "songs = data[data['valence'] > 0.8]\n",
    "\n",
    "valence = songs['valence'].count()\n",
    "\n",
    "print(f\"Number of songs with a valence score above 0.8: {valence}\")\n"
   ]
  },
  {
   "cell_type": "markdown",
   "id": "f2188d2f-a0f6-4644-b1b6-cc08c2366718",
   "metadata": {
    "id": "f2188d2f-a0f6-4644-b1b6-cc08c2366718"
   },
   "source": [
    "14.What is the most common key signature among all songs?"
   ]
  },
  {
   "cell_type": "code",
   "execution_count": null,
   "id": "69ef23e5-92f4-47a8-8efb-c1b3764c5d6d",
   "metadata": {
    "colab": {
     "base_uri": "https://localhost:8080/"
    },
    "id": "69ef23e5-92f4-47a8-8efb-c1b3764c5d6d",
    "outputId": "47a6b539-6cc8-410d-d6b5-dbab3b3aaa04"
   },
   "outputs": [
    {
     "name": "stdout",
     "output_type": "stream",
     "text": [
      "The most common key signature is: 1 with 4010 occurrences.\n"
     ]
    }
   ],
   "source": [
    "most_common_key = data['key'].mode()[0]\n",
    "\n",
    "most_common_key_count = data['key'].value_counts().max()\n",
    "\n",
    "print(f\"The most common key signature is: {most_common_key} with {most_common_key_count} occurrences.\")\n"
   ]
  },
  {
   "cell_type": "markdown",
   "id": "14508a0e-b520-4cee-a06d-e7112679d8ba",
   "metadata": {
    "id": "14508a0e-b520-4cee-a06d-e7112679d8ba"
   },
   "source": [
    "15.Which song has the highest acousticness score?"
   ]
  },
  {
   "cell_type": "code",
   "execution_count": null,
   "id": "8eb5ebcc-d566-4242-9a14-a837ff0b687a",
   "metadata": {
    "colab": {
     "base_uri": "https://localhost:8080/"
    },
    "id": "8eb5ebcc-d566-4242-9a14-a837ff0b687a",
    "outputId": "1ac3e018-1912-4ea4-d1a3-0545be288618"
   },
   "outputs": [
    {
     "name": "stdout",
     "output_type": "stream",
     "text": [
      "Song with the highest acousticness score:\n",
      "Track Name: I'm Going to Live My Life\n",
      "Acousticness Score: 0.994\n"
     ]
    }
   ],
   "source": [
    "acousticness = data.loc[data['acousticness'].idxmax()]\n",
    "\n",
    "print(\"Song with the highest acousticness score:\")\n",
    "\n",
    "print(f\"Track Name: {acousticness['track_name']}\")\n",
    "\n",
    "print(f\"Acousticness Score: {acousticness['acousticness']}\")\n"
   ]
  },
  {
   "cell_type": "markdown",
   "id": "94609594-c1dc-4ecc-9c26-520572dd57a0",
   "metadata": {
    "id": "94609594-c1dc-4ecc-9c26-520572dd57a0"
   },
   "source": [
    "16.What is the average tempo of songs released in the last 5 years?"
   ]
  },
  {
   "cell_type": "code",
   "execution_count": 10,
   "id": "a8579797-089a-479f-8be4-4882c0be02db",
   "metadata": {
    "colab": {
     "base_uri": "https://localhost:8080/"
    },
    "id": "a8579797-089a-479f-8be4-4882c0be02db",
    "outputId": "26cabc7f-2a54-44f2-913d-4c120280b389"
   },
   "outputs": [
    {
     "name": "stdout",
     "output_type": "stream",
     "text": [
      "The average tempo of songs released in the last 5 years is: 121.29 BPM\n"
     ]
    }
   ],
   "source": [
    "songs = data[data['release_year'] >= (data['release_year'].max() - 5)]\n",
    "\n",
    "average_tempo = songs['tempo'].mean()\n",
    "\n",
    "print(f\"The average tempo of songs released in the last 5 years is: {average_tempo:.2f} BPM\")\n"
   ]
  },
  {
   "cell_type": "markdown",
   "id": "02a0dd5d-b3b0-476d-b903-d98fc246a246",
   "metadata": {
    "id": "02a0dd5d-b3b0-476d-b903-d98fc246a246"
   },
   "source": [
    "17.Find the genre with the lowest average loudness."
   ]
  },
  {
   "cell_type": "code",
   "execution_count": null,
   "id": "462707bd-3659-461a-ad73-c27144586812",
   "metadata": {
    "colab": {
     "base_uri": "https://localhost:8080/"
    },
    "id": "462707bd-3659-461a-ad73-c27144586812",
    "outputId": "47d7017d-6095-49ba-a522-7cbc2500a87d"
   },
   "outputs": [
    {
     "name": "stdout",
     "output_type": "stream",
     "text": [
      "The genre with the lowest average loudness is: r&b with an average loudness of -7.86 dB\n"
     ]
    }
   ],
   "source": [
    "average_loudness = data.groupby('playlist_genre')['loudness'].mean()\n",
    "\n",
    "\n",
    "lowest_loudness= average_loudness.idxmin()\n",
    "\n",
    "lowest_loudness1= average_loudness.min()\n",
    "\n",
    "print(f\"The genre with the lowest average loudness is: {lowest_loudness} with an average loudness of {lowest_loudness1:.2f} dB\")\n"
   ]
  },
  {
   "cell_type": "markdown",
   "id": "f56453e2-11d8-46b7-8c1b-a34bb47ae5c8",
   "metadata": {
    "id": "f56453e2-11d8-46b7-8c1b-a34bb47ae5c8"
   },
   "source": [
    "18.What are the top 5 genres with the highest average energy?"
   ]
  },
  {
   "cell_type": "code",
   "execution_count": null,
   "id": "30062b5f-9139-40eb-acb1-4d1f0d4ce0d7",
   "metadata": {
    "colab": {
     "base_uri": "https://localhost:8080/"
    },
    "id": "30062b5f-9139-40eb-acb1-4d1f0d4ce0d7",
    "outputId": "fed762cb-e316-4a30-84c4-f7a7de5964dd"
   },
   "outputs": [
    {
     "name": "stdout",
     "output_type": "stream",
     "text": [
      "Top 5 genres with the highest average energy: playlist_genre\n",
      "edm      0.802476\n",
      "rock     0.732813\n",
      "latin    0.708312\n",
      "pop      0.701028\n",
      "rap      0.650708\n",
      "Name: energy, dtype: float64\n"
     ]
    }
   ],
   "source": [
    "average_energy = data.groupby('playlist_genre')['energy'].mean()\n",
    "\n",
    "\n",
    "top_5_genres = average_energy.nlargest(5)\n",
    "\n",
    "print(\"Top 5 genres with the highest average energy:\", top_5_genres)\n"
   ]
  },
  {
   "cell_type": "markdown",
   "id": "da1dc0c2-d687-461d-8ff0-0d783160d73c",
   "metadata": {
    "id": "da1dc0c2-d687-461d-8ff0-0d783160d73c"
   },
   "source": [
    "19.How many songs have an explicit content label?"
   ]
  },
  {
   "cell_type": "markdown",
   "id": "095d9b50-0a35-409b-b0ba-6ec00eb830e7",
   "metadata": {
    "id": "095d9b50-0a35-409b-b0ba-6ec00eb830e7"
   },
   "source": [
    "20.Which artist has the highest average popularity score across their songs?"
   ]
  },
  {
   "cell_type": "code",
   "execution_count": null,
   "id": "5e512f73-273d-4888-b5f9-452a3488b8f9",
   "metadata": {
    "colab": {
     "base_uri": "https://localhost:8080/"
    },
    "id": "5e512f73-273d-4888-b5f9-452a3488b8f9",
    "outputId": "5d6440ed-4f0c-4d9c-ba4d-e37626e1ba60"
   },
   "outputs": [
    {
     "name": "stdout",
     "output_type": "stream",
     "text": [
      "The artist with the highest average popularity score is: Trevor Daniel with an average popularity score of 97.00.\n"
     ]
    }
   ],
   "source": [
    "average_popularity = data.groupby('track_artist')['track_popularity'].mean()\n",
    "\n",
    "highest_popularity = average_popularity.idxmax()\n",
    "\n",
    "highest_popularity1 = average_popularity.max()\n",
    "\n",
    "print(f\"The artist with the highest average popularity score is: {highest_popularity} with an average popularity score of {highest_popularity1:.2f}.\")\n"
   ]
  },
  {
   "cell_type": "markdown",
   "id": "f69aeedd-36c0-4b42-bc10-6bf20f0ca55d",
   "metadata": {
    "id": "f69aeedd-36c0-4b42-bc10-6bf20f0ca55d"
   },
   "source": [
    "21.What is the average duration of songs in each genre?"
   ]
  },
  {
   "cell_type": "code",
   "execution_count": null,
   "id": "a8d98e45-c6b2-4a13-8b26-903f7da58458",
   "metadata": {
    "colab": {
     "base_uri": "https://localhost:8080/"
    },
    "id": "a8d98e45-c6b2-4a13-8b26-903f7da58458",
    "outputId": "8541fb77-dcd9-47a6-8fd1-10f1fdea4f29"
   },
   "outputs": [
    {
     "name": "stdout",
     "output_type": "stream",
     "text": [
      "Average duration of songs in each genre : playlist_genre\n",
      "edm      222540.858349\n",
      "latin    216863.446945\n",
      "pop      217768.104231\n",
      "r&b      237599.489781\n",
      "rap      214163.889140\n",
      "rock     248576.500303\n",
      "Name: duration_ms, dtype: float64\n"
     ]
    }
   ],
   "source": [
    "average_duration = data.groupby('playlist_genre')['duration_ms'].mean()\n",
    "\n",
    "print(\"Average duration of songs in each genre :\", average_duration)\n"
   ]
  },
  {
   "cell_type": "markdown",
   "id": "1fb3fabc-fc83-4511-9d07-39761fbddc23",
   "metadata": {
    "id": "1fb3fabc-fc83-4511-9d07-39761fbddc23"
   },
   "source": [
    "22.List the top 10 songs with the highest instrumentalness scores."
   ]
  },
  {
   "cell_type": "code",
   "execution_count": null,
   "id": "086e228c-2979-40ea-9cd2-eddb9f54f4f1",
   "metadata": {
    "colab": {
     "base_uri": "https://localhost:8080/"
    },
    "id": "086e228c-2979-40ea-9cd2-eddb9f54f4f1",
    "outputId": "246ccb91-ad3c-445b-c3ce-1d7c9736df9e"
   },
   "outputs": [
    {
     "name": "stdout",
     "output_type": "stream",
     "text": [
      "Top 10 songs with the highest instrumentalness scores:                                  track_name  instrumentalness\n",
      "17009          Chill Waves & Wind in Leaves             0.994\n",
      "17012                           Summer Rain             0.994\n",
      "29202                Sandstorm - Radio Edit             0.987\n",
      "28149                               Genesis             0.983\n",
      "748                  Sandstorm - Radio Edit             0.982\n",
      "16965                               Flowers             0.981\n",
      "17008                       Tropical Forest             0.979\n",
      "5679                        Spanish Galleon             0.974\n",
      "17004  Rain Forest and Tropical Beach Sound             0.974\n",
      "5676                              Alignment             0.972\n"
     ]
    }
   ],
   "source": [
    "songs = data.nlargest(10, 'instrumentalness')[['track_name', 'instrumentalness']]\n",
    "\n",
    "print(\"Top 10 songs with the highest instrumentalness scores:\", songs)\n"
   ]
  },
  {
   "cell_type": "markdown",
   "id": "dfd8236f-6c81-4be7-8507-8b0c10de03a6",
   "metadata": {
    "id": "dfd8236f-6c81-4be7-8507-8b0c10de03a6"
   },
   "source": [
    "23.Find the year with the highest average popularity score."
   ]
  },
  {
   "cell_type": "code",
   "execution_count": 9,
   "id": "5bc3233d-8ee4-4f7d-9018-9230aac0c1fd",
   "metadata": {
    "colab": {
     "base_uri": "https://localhost:8080/"
    },
    "id": "5bc3233d-8ee4-4f7d-9018-9230aac0c1fd",
    "outputId": "b6e31814-3913-40ba-823a-26ccea48271e"
   },
   "outputs": [
    {
     "name": "stdout",
     "output_type": "stream",
     "text": [
      "The year with the highest average popularity score is: 1958.0 with a score of 73.00\n"
     ]
    }
   ],
   "source": [
    "average_popularity_by_year = data.groupby('release_year')['track_popularity'].mean()\n",
    "\n",
    "year_with_highest_popularity = average_popularity_by_year.idxmax()\n",
    "\n",
    "highest_popularity_score = average_popularity_by_year.max()\n",
    "\n",
    "print(f\"The year with the highest average popularity score is: {year_with_highest_popularity} with a score of {highest_popularity_score:.2f}\")\n"
   ]
  },
  {
   "cell_type": "markdown",
   "id": "e2d917f5-b941-43c2-bebe-b3ce1356a205",
   "metadata": {
    "id": "e2d917f5-b941-43c2-bebe-b3ce1356a205"
   },
   "source": [
    "24.How many songs have a danceability score above 0.7 and an energy score above 0.7?"
   ]
  },
  {
   "cell_type": "code",
   "execution_count": null,
   "id": "164a7141-49e5-44a6-bfe4-aa4495e0e9cb",
   "metadata": {
    "colab": {
     "base_uri": "https://localhost:8080/"
    },
    "id": "164a7141-49e5-44a6-bfe4-aa4495e0e9cb",
    "outputId": "128d9089-1d91-4b63-9893-86298ae1db74"
   },
   "outputs": [
    {
     "name": "stdout",
     "output_type": "stream",
     "text": [
      "Number of songs with a danceability score above 0.7 and an energy score above 0.7: 6597\n"
     ]
    }
   ],
   "source": [
    "high_danceability = data[(data['danceability'] > 0.7) & (data['energy'] > 0.7)]\n",
    "\n",
    "high_danceability_song = high_danceability['track_name'].count()\n",
    "\n",
    "print(f\"Number of songs with a danceability score above 0.7 and an energy score above 0.7: {high_danceability_song}\")\n"
   ]
  },
  {
   "cell_type": "markdown",
   "id": "cb798309-8732-43ba-8730-05e7facf0ed3",
   "metadata": {
    "id": "cb798309-8732-43ba-8730-05e7facf0ed3"
   },
   "source": [
    "25.Which genre has the highest average tempo?"
   ]
  },
  {
   "cell_type": "code",
   "execution_count": null,
   "id": "4aa3f794-a819-4f0a-a935-75e770201db2",
   "metadata": {
    "colab": {
     "base_uri": "https://localhost:8080/"
    },
    "id": "4aa3f794-a819-4f0a-a935-75e770201db2",
    "outputId": "277dde32-452a-45f3-9f9a-9006585adde5"
   },
   "outputs": [
    {
     "name": "stdout",
     "output_type": "stream",
     "text": [
      "The genre with the highest average tempo is: edm with an average tempo of 125.77 BPM\n"
     ]
    }
   ],
   "source": [
    "average_tempo = data.groupby('playlist_genre')['tempo'].mean()\n",
    "\n",
    "highest_tempo = average_tempo.idxmax()\n",
    "\n",
    "highest_tempo1 = average_tempo.max()\n",
    "\n",
    "print(f\"The genre with the highest average tempo is: {highest_tempo} with an average tempo of {highest_tempo1:.2f} BPM\")\n"
   ]
  },
  {
   "cell_type": "markdown",
   "id": "2bc8e43d-1202-4d77-a296-113e8d7cb42e",
   "metadata": {
    "id": "2bc8e43d-1202-4d77-a296-113e8d7cb42e"
   },
   "source": [
    "26.What is the average acousticness score for songs in each genre?"
   ]
  },
  {
   "cell_type": "code",
   "execution_count": null,
   "id": "d035ceec-f693-45b1-a536-8144002fad99",
   "metadata": {
    "colab": {
     "base_uri": "https://localhost:8080/"
    },
    "id": "d035ceec-f693-45b1-a536-8144002fad99",
    "outputId": "2cf786da-7352-483c-cc7c-b902dab02cbf"
   },
   "outputs": [
    {
     "name": "stdout",
     "output_type": "stream",
     "text": [
      "Average acousticness score for songs in each genre: playlist_genre\n",
      "edm      0.081504\n",
      "latin    0.210920\n",
      "pop      0.170794\n",
      "r&b      0.259904\n",
      "rap      0.192479\n",
      "rock     0.145189\n",
      "Name: acousticness, dtype: float64\n"
     ]
    }
   ],
   "source": [
    "average_acousticness = data.groupby('playlist_genre')['acousticness'].mean()\n",
    "\n",
    "print(\"Average acousticness score for songs in each genre:\", average_acousticness)\n",
    "\n"
   ]
  },
  {
   "cell_type": "markdown",
   "id": "ec08298e-7a36-4667-948d-0f502cb0b2ff",
   "metadata": {
    "id": "ec08298e-7a36-4667-948d-0f502cb0b2ff"
   },
   "source": [
    "27.Find the 5 most recent songs and their popularity scores."
   ]
  },
  {
   "cell_type": "code",
   "execution_count": 15,
   "id": "257fe94f-b234-4700-bf5e-0a5aadd748a8",
   "metadata": {
    "colab": {
     "base_uri": "https://localhost:8080/"
    },
    "id": "257fe94f-b234-4700-bf5e-0a5aadd748a8",
    "outputId": "069bd7c3-cae5-42e4-9af4-348166067633"
   },
   "outputs": [
    {
     "name": "stdout",
     "output_type": "stream",
     "text": [
      "The 5 most recent songs and their popularity scores:            track_name  track_popularity track_album_release_date\n",
      "382               別世界                29               2020-01-29\n",
      "1198           Senses                41               2020-01-20\n",
      "27288          Senses                41               2020-01-20\n",
      "5930    Hand Me Downs                72               2020-01-17\n",
      "22769  Certo pra Você                32               2020-01-17\n"
     ]
    }
   ],
   "source": [
    "recent_songs = data.sort_values(by='track_album_release_date', ascending=False).head(5)\n",
    "\n",
    "recent_songs_info = recent_songs[['track_name', 'track_popularity', 'track_album_release_date']]\n",
    "\n",
    "print(\"The 5 most recent songs and their popularity scores:\",recent_songs_info)\n",
    "\n"
   ]
  },
  {
   "cell_type": "markdown",
   "id": "2ee5a7ab-e6ee-433e-a560-30e968fdac0d",
   "metadata": {
    "id": "2ee5a7ab-e6ee-433e-a560-30e968fdac0d"
   },
   "source": [
    "28.What is the distribution of songs across different key signatures?"
   ]
  },
  {
   "cell_type": "code",
   "execution_count": 22,
   "id": "e3694c87-6175-41a5-a707-658ade92a6d5",
   "metadata": {
    "colab": {
     "base_uri": "https://localhost:8080/"
    },
    "id": "e3694c87-6175-41a5-a707-658ade92a6d5",
    "outputId": "2a5d7fd8-7317-4c40-d2ee-aab2911c17fa"
   },
   "outputs": [
    {
     "name": "stdout",
     "output_type": "stream",
     "text": [
      "Distribution of songs across different key signatures: key\n",
      "0     3454\n",
      "1     4010\n",
      "2     2827\n",
      "3      913\n",
      "4     2201\n",
      "5     2680\n",
      "6     2670\n",
      "7     3352\n",
      "8     2430\n",
      "9     3027\n",
      "10    2273\n",
      "11    2996\n",
      "Name: count, dtype: int64\n"
     ]
    }
   ],
   "source": [
    "keys = data['key'].value_counts().sort_index()\n",
    "\n",
    "print(\"Distribution of songs across different key signatures:\", keys)\n"
   ]
  },
  {
   "cell_type": "markdown",
   "id": "85793320-5ce4-4a91-bf41-d11508e96a90",
   "metadata": {
    "id": "85793320-5ce4-4a91-bf41-d11508e96a90"
   },
   "source": [
    "29.Which artist has the most songs with a tempo below 100 BPM?"
   ]
  },
  {
   "cell_type": "code",
   "execution_count": null,
   "id": "94412d6c-3620-4770-9a78-3fadde19cf80",
   "metadata": {
    "colab": {
     "base_uri": "https://localhost:8080/"
    },
    "id": "94412d6c-3620-4770-9a78-3fadde19cf80",
    "outputId": "cac6c77a-0714-4bea-dbb3-e9f794d330d9"
   },
   "outputs": [
    {
     "name": "stdout",
     "output_type": "stream",
     "text": [
      "The artist with the most songs below 100 BPM is: Don Omar with 58 songs.\n"
     ]
    }
   ],
   "source": [
    "low_tempo = data[data['tempo'] < 100]\n",
    "\n",
    "artist_song = low_tempo['track_artist'].value_counts()\n",
    "\n",
    "artist = artist_song.idxmax()\n",
    "\n",
    "count = artist_song.max()\n",
    "\n",
    "print(f\"The artist with the most songs below 100 BPM is: {artist} with {count} songs.\")\n"
   ]
  },
  {
   "cell_type": "markdown",
   "id": "f8d36cb3-4770-46d7-b82f-3b3a234d1c78",
   "metadata": {
    "id": "f8d36cb3-4770-46d7-b82f-3b3a234d1c78"
   },
   "source": [
    "30.What is the average valence score for songs released in the last decade?"
   ]
  },
  {
   "cell_type": "code",
   "execution_count": 23,
   "id": "4b94aa09-dd2d-47ae-8190-6242a9548885",
   "metadata": {
    "colab": {
     "base_uri": "https://localhost:8080/"
    },
    "id": "4b94aa09-dd2d-47ae-8190-6242a9548885",
    "outputId": "f3d918c9-365e-4eed-e507-3440cc5b6ec2"
   },
   "outputs": [
    {
     "name": "stdout",
     "output_type": "stream",
     "text": [
      "The average valence score for songs released in the last decade is: 0.48\n"
     ]
    }
   ],
   "source": [
    "last_decade = data[data['release_year'] >= (data['release_year'].max() - 10)]\n",
    "\n",
    "average_valence = last_decade['valence'].mean()\n",
    "\n",
    "print(f\"The average valence score for songs released in the last decade is: {average_valence:.2f}\")\n"
   ]
  },
  {
   "cell_type": "markdown",
   "id": "651e9b8d-e539-496c-a791-886f5f7151b8",
   "metadata": {
    "id": "651e9b8d-e539-496c-a791-886f5f7151b8"
   },
   "source": [
    "31.How many songs have a loudness score below -10 dB?"
   ]
  },
  {
   "cell_type": "code",
   "execution_count": null,
   "id": "da2d2b74-346c-48fa-9ea7-79587cd30557",
   "metadata": {
    "colab": {
     "base_uri": "https://localhost:8080/"
    },
    "id": "da2d2b74-346c-48fa-9ea7-79587cd30557",
    "outputId": "e1bcbced-cdb7-41cf-b34e-0b771e5ec87d"
   },
   "outputs": [
    {
     "name": "stdout",
     "output_type": "stream",
     "text": [
      "Number of songs with a loudness score below -10 dB: 4266\n"
     ]
    }
   ],
   "source": [
    "low_loudness = data[data['loudness'] < -10]\n",
    "\n",
    "low_loudness_count = low_loudness['track_name'].count()\n",
    "\n",
    "print(f\"Number of songs with a loudness score below -10 dB: {low_loudness_count}\")\n"
   ]
  },
  {
   "cell_type": "markdown",
   "id": "1856f49b-9294-4603-9867-2860fbe2e3cc",
   "metadata": {
    "id": "1856f49b-9294-4603-9867-2860fbe2e3cc"
   },
   "source": [
    "32.Which genre has the highest average valence score?"
   ]
  },
  {
   "cell_type": "code",
   "execution_count": null,
   "id": "909ff23e-e863-4675-954c-f734d46d5660",
   "metadata": {
    "colab": {
     "base_uri": "https://localhost:8080/"
    },
    "id": "909ff23e-e863-4675-954c-f734d46d5660",
    "outputId": "3df38f33-8284-4aa4-f04d-6888d5bfc642"
   },
   "outputs": [
    {
     "name": "stdout",
     "output_type": "stream",
     "text": [
      "The genre with the highest average valence score is: latin with an average score of 0.61.\n"
     ]
    }
   ],
   "source": [
    "average_valence = data.groupby('playlist_genre')['valence'].mean()\n",
    "\n",
    "highest_valence = average_valence.idxmax()\n",
    "\n",
    "highest_valence1 = average_valence.max()\n",
    "\n",
    "print(f\"The genre with the highest average valence score is: {highest_valence} with an average score of {highest_valence1:.2f}.\")\n"
   ]
  },
  {
   "cell_type": "markdown",
   "id": "0a316ad1-8dc2-4d1e-90e2-a406952eb154",
   "metadata": {
    "id": "0a316ad1-8dc2-4d1e-90e2-a406952eb154"
   },
   "source": [
    "33.Find the top 5 songs with the lowest acousticness scores."
   ]
  },
  {
   "cell_type": "code",
   "execution_count": null,
   "id": "2567afb8-9263-473d-986b-696f728617ad",
   "metadata": {
    "colab": {
     "base_uri": "https://localhost:8080/"
    },
    "id": "2567afb8-9263-473d-986b-696f728617ad",
    "outputId": "8926198c-b4c5-41ec-87f2-7dbbb04f3c00"
   },
   "outputs": [
    {
     "name": "stdout",
     "output_type": "stream",
     "text": [
      "Top 5 songs with the lowest acousticness scores:                       track_name  acousticness\n",
      "11363      Hi, How're You Doin'?      0.000000\n",
      "14216       Scentless Apprentice      0.000001\n",
      "14826                   Swing It      0.000001\n",
      "14788               Tear It Down      0.000001\n",
      "7511   Bad Blood - Alternate Mix      0.000002\n"
     ]
    }
   ],
   "source": [
    "low_acousticness_songs = data.nsmallest(5, 'acousticness')[['track_name',  'acousticness']]\n",
    "\n",
    "print(\"Top 5 songs with the lowest acousticness scores:\", low_acousticness_songs)\n"
   ]
  },
  {
   "cell_type": "markdown",
   "id": "358b25de-38b1-4359-b429-7dc3cf6a51bd",
   "metadata": {
    "id": "358b25de-38b1-4359-b429-7dc3cf6a51bd"
   },
   "source": [
    "3What percentage of songs have a popularity score above 80?"
   ]
  },
  {
   "cell_type": "code",
   "execution_count": null,
   "id": "5fb3eec7-87fe-4bf7-abf5-9232cf1ebc49",
   "metadata": {
    "colab": {
     "base_uri": "https://localhost:8080/"
    },
    "id": "5fb3eec7-87fe-4bf7-abf5-9232cf1ebc49",
    "outputId": "cfdb647e-1980-4466-8a1a-a88f47039fee"
   },
   "outputs": [
    {
     "name": "stdout",
     "output_type": "stream",
     "text": [
      "Percentage of songs with a popularity score above 80: 4.08%\n"
     ]
    }
   ],
   "source": [
    "total = data.shape[0]\n",
    "\n",
    "high_popularity = data[data['track_popularity'] > 80].shape[0]\n",
    "\n",
    "percentage = (high_popularity / total) * 100\n",
    "\n",
    "print(f\"Percentage of songs with a popularity score above 80: {percentage:.2f}%\")\n"
   ]
  },
  {
   "cell_type": "markdown",
   "id": "3446d94e-cbc0-4a60-8d7c-b61db7d04e9c",
   "metadata": {
    "id": "3446d94e-cbc0-4a60-8d7c-b61db7d04e9c"
   },
   "source": [
    "How many songs have a tempo within the range of 100 to 120 BPM?"
   ]
  },
  {
   "cell_type": "code",
   "execution_count": null,
   "id": "76980a66-3c5f-40e9-be51-0d3abc76c167",
   "metadata": {
    "colab": {
     "base_uri": "https://localhost:8080/"
    },
    "id": "76980a66-3c5f-40e9-be51-0d3abc76c167",
    "outputId": "a373b309-c6a1-4897-978a-7962496abf0d"
   },
   "outputs": [
    {
     "name": "stdout",
     "output_type": "stream",
     "text": [
      "Number of songs with a tempo between 100 and 120 BPM: 6956\n"
     ]
    }
   ],
   "source": [
    "tempo = data[(data['tempo'] >= 100) & (data['tempo'] <= 120)].shape[0]\n",
    "\n",
    "print(f\"Number of songs with a tempo between 100 and 120 BPM: {tempo}\")\n"
   ]
  },
  {
   "cell_type": "markdown",
   "id": "ceb506c9-812c-475c-a9b3-dd1bc3a3294f",
   "metadata": {
    "id": "ceb506c9-812c-475c-a9b3-dd1bc3a3294f"
   },
   "source": [
    "What is the average energy score of songs released by the top 10 artists?"
   ]
  },
  {
   "cell_type": "code",
   "execution_count": 25,
   "id": "13d7975f-0d90-4d26-9b1b-5b91b5cd5f97",
   "metadata": {
    "colab": {
     "base_uri": "https://localhost:8080/"
    },
    "id": "13d7975f-0d90-4d26-9b1b-5b91b5cd5f97",
    "outputId": "45f75af6-925b-4666-e97b-9297a4997a9a"
   },
   "outputs": [
    {
     "name": "stdout",
     "output_type": "stream",
     "text": [
      "The average energy score of songs released by the top 10 artists is: 0.75\n"
     ]
    }
   ],
   "source": [
    "artists = data['track_artist'].value_counts().head(10).index\n",
    "\n",
    "top_artists = data[data['track_artist'].isin(artists)]\n",
    "\n",
    "average_energy = top_artists['energy'].mean()\n",
    "\n",
    "print(f\"The average energy score of songs released by the top 10 artists is: {average_energy:.2f}\")\n"
   ]
  },
  {
   "cell_type": "markdown",
   "id": "43aef091-dd86-42a2-9b4b-2e740f1d8c9b",
   "metadata": {
    "id": "43aef091-dd86-42a2-9b4b-2e740f1d8c9b"
   },
   "source": [
    "Which genre has the lowest median danceability score?"
   ]
  },
  {
   "cell_type": "code",
   "execution_count": null,
   "id": "d8c3a010-b6e8-4d8a-8348-02dd62833562",
   "metadata": {
    "colab": {
     "base_uri": "https://localhost:8080/"
    },
    "id": "d8c3a010-b6e8-4d8a-8348-02dd62833562",
    "outputId": "af45c97f-377d-4b04-a2ab-0092d7df0df9"
   },
   "outputs": [
    {
     "name": "stdout",
     "output_type": "stream",
     "text": [
      "The genre with the lowest median danceability score is: rock with a median score of 0.52.\n"
     ]
    }
   ],
   "source": [
    "median_danceability = data.groupby('playlist_genre')['danceability'].median()\n",
    "\n",
    "lowest_median = median_danceability.idxmin()\n",
    "\n",
    "lowest_median1 = median_danceability.min()\n",
    "\n",
    "print(f\"The genre with the lowest median danceability score is: {lowest_median} with a median score of {lowest_median1:.2f}.\")\n"
   ]
  },
  {
   "cell_type": "markdown",
   "id": "4fd62837-10b5-40a9-a98e-9fa672a782d2",
   "metadata": {
    "id": "4fd62837-10b5-40a9-a98e-9fa672a782d2"
   },
   "source": [
    "What is the average instrumentalness score for songs released in the last 3 years?"
   ]
  },
  {
   "cell_type": "code",
   "execution_count": 28,
   "id": "344436d2-10df-4995-a6df-b8bb683d7f0c",
   "metadata": {
    "colab": {
     "base_uri": "https://localhost:8080/"
    },
    "id": "344436d2-10df-4995-a6df-b8bb683d7f0c",
    "outputId": "80ca18e0-9da2-4028-cb15-4996efb07587"
   },
   "outputs": [
    {
     "name": "stdout",
     "output_type": "stream",
     "text": [
      "The average instrumentalness score for songs released in the last 3 years is: 0.10\n"
     ]
    }
   ],
   "source": [
    "songs = data[data['release_year'] >= (data['release_year'].max() - 3)]\n",
    "\n",
    "average_instrumentalness = songs['instrumentalness'].mean()\n",
    "\n",
    "print(f\"The average instrumentalness score for songs released in the last 3 years is: {average_instrumentalness:.2f}\")\n"
   ]
  },
  {
   "cell_type": "markdown",
   "id": "8d4b84e6-e984-4ba7-b2e4-f7ad4707a2ba",
   "metadata": {
    "id": "8d4b84e6-e984-4ba7-b2e4-f7ad4707a2ba"
   },
   "source": [
    "Find the top 5 songs with the highest loudness scores."
   ]
  },
  {
   "cell_type": "code",
   "execution_count": null,
   "id": "4608e2db-eb99-4d02-9520-3efe0fbe67a6",
   "metadata": {
    "colab": {
     "base_uri": "https://localhost:8080/"
    },
    "id": "4608e2db-eb99-4d02-9520-3efe0fbe67a6",
    "outputId": "ecee25c2-2e97-4d50-a297-f1920b2f86ae"
   },
   "outputs": [
    {
     "name": "stdout",
     "output_type": "stream",
     "text": [
      "Top 5 songs with the highest loudness scores:                            track_name  loudness\n",
      "12197        Raw Power - Iggy Pop Mix     1.275\n",
      "27716  Escape From Love - Curbi Remix     1.135\n",
      "10458                        Rockstar     0.642\n",
      "9883                            Nails     0.551\n",
      "10438                           Crema     0.326\n"
     ]
    }
   ],
   "source": [
    "loudness_songs = data.nlargest(5, 'loudness')[['track_name',  'loudness']]\n",
    "\n",
    "print(\"Top 5 songs with the highest loudness scores:\", loudness_songs)\n"
   ]
  },
  {
   "cell_type": "markdown",
   "id": "d16427be-1b5a-48f6-95b7-386e76c5c260",
   "metadata": {
    "id": "d16427be-1b5a-48f6-95b7-386e76c5c260"
   },
   "source": [
    "Which artist has the highest average tempo for their songs?"
   ]
  },
  {
   "cell_type": "code",
   "execution_count": null,
   "id": "1d7324cc-ad14-443d-94d5-58f8b4bc4cb3",
   "metadata": {
    "colab": {
     "base_uri": "https://localhost:8080/"
    },
    "id": "1d7324cc-ad14-443d-94d5-58f8b4bc4cb3",
    "outputId": "ceab5297-afc3-4f05-8695-3b0a3d6bf1d6"
   },
   "outputs": [
    {
     "name": "stdout",
     "output_type": "stream",
     "text": [
      "The artist with the highest average tempo is: Spanish F.L.Y. with an average tempo of 239.44 BPM.\n"
     ]
    }
   ],
   "source": [
    "average_tempo = data.groupby('track_artist')['tempo'].mean()\n",
    "\n",
    "highest_tempo = average_tempo.idxmax()\n",
    "\n",
    "highest_tempo1 = average_tempo.max()\n",
    "\n",
    "print(f\"The artist with the highest average tempo is: {highest_tempo} with an average tempo of {highest_tempo1:.2f} BPM.\")\n"
   ]
  },
  {
   "cell_type": "code",
   "execution_count": null,
   "id": "OGR-WCqoH17B",
   "metadata": {
    "id": "OGR-WCqoH17B"
   },
   "outputs": [],
   "source": []
  }
 ],
 "metadata": {
  "colab": {
   "provenance": []
  },
  "kernelspec": {
   "display_name": "Python 3 (ipykernel)",
   "language": "python",
   "name": "python3"
  },
  "language_info": {
   "codemirror_mode": {
    "name": "ipython",
    "version": 3
   },
   "file_extension": ".py",
   "mimetype": "text/x-python",
   "name": "python",
   "nbconvert_exporter": "python",
   "pygments_lexer": "ipython3",
   "version": "3.9.7"
  }
 },
 "nbformat": 4,
 "nbformat_minor": 5
}
